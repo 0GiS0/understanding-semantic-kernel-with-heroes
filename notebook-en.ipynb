{
 "cells": [
  {
   "cell_type": "markdown",
   "metadata": {},
   "source": [
    "# 🦸🏻 Understanding Semantic Kernel with Heroes 🦸🏼‍♀️\n",
    "\n",
    "Semantic Kernel has been created to allow developers to seamlessly integrate Artificial Intelligence into their applications. To achieve this, it provides a set of features that will enable you to add models, prompts, native functions, and memories without requiring deep knowledge of AI 🥲. That's why it's said that Semantic Kernel simulates the brain 🧠 of your application.\n",
    "\n",
    "<div style=\"text-align:center\">\n",
    "    <img src=\"images/semantic-kernel.png\" width=\"15%\">\n",
    "</div>"
   ]
  },
  {
   "cell_type": "markdown",
   "metadata": {},
   "source": [
    "## (Optional) - Creating an Azure Open AI 🤖 Service and Deployments\n",
    "\n",
    "Before diving into Semantic Kernel 🛝, you'll need to have one of the supported services set up. Currently, you can choose from the following options: [Azure Open AI](https://azure.microsoft.com/en-us/products/ai-services/openai-service), [Open AI](https://openai.com/), or [Hugging Face](https://huggingface.co/).\n",
    "\n",
    "In this example, I am going to use Azure Open AI.\n",
    "\n",
    "Therefore, through Azure CLI, I need to log in:"
   ]
  },
  {
   "cell_type": "code",
   "execution_count": null,
   "metadata": {
    "dotnet_interactive": {
     "language": "pwsh"
    },
    "polyglot_notebook": {
     "kernelName": "pwsh"
    },
    "tags": [],
    "vscode": {
     "languageId": "polyglot-notebook"
    }
   },
   "outputs": [],
   "source": [
    "az login"
   ]
  },
  {
   "cell_type": "markdown",
   "metadata": {},
   "source": [
    "If you need it, because you have many tenants and subscriptions under your account, you can select the one that interests you (or has access to Azure Open AI 😊) through the following command:\n"
   ]
  },
  {
   "cell_type": "code",
   "execution_count": null,
   "metadata": {
    "dotnet_interactive": {
     "language": "pwsh"
    },
    "polyglot_notebook": {
     "kernelName": "pwsh"
    },
    "vscode": {
     "languageId": "polyglot-notebook"
    }
   },
   "outputs": [],
   "source": [
    "az account set -n \"Visual Studio Enterprise Subscription\""
   ]
  },
  {
   "cell_type": "markdown",
   "metadata": {},
   "source": [
    "Now, to be able to create what you need for this notebook, set the following variables with your preferred values:\n"
   ]
  },
  {
   "cell_type": "code",
   "execution_count": null,
   "metadata": {
    "dotnet_interactive": {
     "language": "pwsh"
    },
    "polyglot_notebook": {
     "kernelName": "pwsh"
    },
    "vscode": {
     "languageId": "polyglot-notebook"
    }
   },
   "outputs": [],
   "source": [
    "$RESOURCE_GROUP=\"understanding-semantic-kernel\"\n",
    "$LOCATION=\"canadaeast\"\n",
    "$AZURE_OPEN_AI=\"ai-for-heroes\""
   ]
  },
  {
   "cell_type": "markdown",
   "metadata": {},
   "source": [
    "With them, you can now create the resource group:\n"
   ]
  },
  {
   "cell_type": "code",
   "execution_count": null,
   "metadata": {
    "dotnet_interactive": {
     "language": "pwsh"
    },
    "polyglot_notebook": {
     "kernelName": "pwsh"
    },
    "vscode": {
     "languageId": "polyglot-notebook"
    }
   },
   "outputs": [],
   "source": [
    "az group create `\n",
    "--name $RESOURCE_GROUP `\n",
    "--location $LOCATION"
   ]
  },
  {
   "cell_type": "markdown",
   "metadata": {},
   "source": [
    "An Azure Open AI resource:\n"
   ]
  },
  {
   "cell_type": "code",
   "execution_count": null,
   "metadata": {
    "dotnet_interactive": {
     "language": "pwsh"
    },
    "polyglot_notebook": {
     "kernelName": "pwsh"
    },
    "vscode": {
     "languageId": "polyglot-notebook"
    }
   },
   "outputs": [],
   "source": [
    "az cognitiveservices account create `\n",
    "--name $AZURE_OPEN_AI `\n",
    "--custom-domain $AZURE_OPEN_AI `\n",
    "--resource-group $RESOURCE_GROUP `\n",
    "--kind OpenAI `\n",
    "--sku S0 `\n",
    "--location $LOCATION"
   ]
  },
  {
   "cell_type": "markdown",
   "metadata": {},
   "source": [
    "And finally, you need a deployment of any of the models you have available. In this example, I am going to use gpt-4:\n"
   ]
  },
  {
   "cell_type": "code",
   "execution_count": null,
   "metadata": {
    "dotnet_interactive": {
     "language": "pwsh"
    },
    "polyglot_notebook": {
     "kernelName": "pwsh"
    },
    "vscode": {
     "languageId": "polyglot-notebook"
    }
   },
   "outputs": [],
   "source": [
    "az cognitiveservices account deployment create `\n",
    "--name $AZURE_OPEN_AI `\n",
    "--resource-group $RESOURCE_GROUP `\n",
    "--deployment-name \"gpt-4\" `\n",
    "--model-name \"gpt-4\" `\n",
    "--model-version \"0613\"  `\n",
    "--model-format OpenAI `\n",
    "--sku-capacity \"10\" `\n",
    "--sku-name \"Standard\""
   ]
  },
  {
   "cell_type": "markdown",
   "metadata": {},
   "source": [
    "The **sku-capacity** parameter allows us to specify how many tokens per minute we can send to this model. To see how your quota usage is, you can use this other command:\n"
   ]
  },
  {
   "cell_type": "code",
   "execution_count": null,
   "metadata": {
    "dotnet_interactive": {
     "language": "pwsh"
    },
    "polyglot_notebook": {
     "kernelName": "pwsh"
    },
    "vscode": {
     "languageId": "polyglot-notebook"
    }
   },
   "outputs": [],
   "source": [
    "az cognitiveservices usage list `\n",
    "-l $LOCATION"
   ]
  },
  {
   "cell_type": "markdown",
   "metadata": {},
   "source": [
    "Load enviroment variables with your Azure Open AI endpoint and key"
   ]
  },
  {
   "cell_type": "code",
   "execution_count": null,
   "metadata": {
    "dotnet_interactive": {
     "language": "pwsh"
    },
    "polyglot_notebook": {
     "kernelName": "pwsh"
    },
    "vscode": {
     "languageId": "polyglot-notebook"
    }
   },
   "outputs": [],
   "source": [
    "$env:AZURE_OPEN_AI_KEY =$(az cognitiveservices account keys list `\n",
    "--name $AZURE_OPEN_AI `\n",
    "--resource-group $RESOURCE_GROUP `\n",
    "--query \"key1\" `\n",
    "--output tsv)\n",
    "\n",
    "$env:AZURE_OPEN_AI_ENDPOINT =$(az cognitiveservices account show `\n",
    "--name $AZURE_OPEN_AI `\n",
    "--resource-group $RESOURCE_GROUP `\n",
    "--query \"properties.endpoint\" `\n",
    "--output tsv)\n",
    "\n",
    "#dir env:AZURE_OPEN_AI_KEY\n",
    "#dir env:AZURE_OPEN_AI_ENDPOINT"
   ]
  },
  {
   "cell_type": "markdown",
   "metadata": {},
   "source": [
    "## How to get started with Semantic Kernel\n"
   ]
  },
  {
   "cell_type": "markdown",
   "metadata": {},
   "source": [
    "The first thing you need to be able to run Semantic Kernel in this notebook is to install the **Microsoft.SemanticKernel** library, which is currently in version **1.5.0** (I promise to keep updating 🤓). \n",
    "\n",
    "You can find more information about this library and its updates on the official NuGet page [here](https://www.nuget.org/packages/Microsoft.SemanticKernel).\n",
    "\n"
   ]
  },
  {
   "cell_type": "code",
   "execution_count": 1,
   "metadata": {
    "dotnet_interactive": {
     "language": "csharp"
    },
    "polyglot_notebook": {
     "kernelName": "csharp"
    },
    "vscode": {
     "languageId": "polyglot-notebook"
    }
   },
   "outputs": [
    {
     "data": {
      "text/html": [
       "<div><div></div><div></div><div><strong>Installed Packages</strong><ul><li><span>Microsoft.SemanticKernel, 1.5.0</span></li></ul></div></div>"
      ]
     },
     "metadata": {},
     "output_type": "display_data"
    }
   ],
   "source": [
    "#r \"nuget: Microsoft.SemanticKernel, 1.5.0\""
   ]
  },
  {
   "cell_type": "markdown",
   "metadata": {},
   "source": [
    "With it, you can now instantiate the brain of your application through **KernelBuilder**. It has a lot of connectors to the models and other things, but for now, let's start with the basics:\n"
   ]
  },
  {
   "cell_type": "code",
   "execution_count": 2,
   "metadata": {
    "dotnet_interactive": {
     "language": "csharp"
    },
    "polyglot_notebook": {
     "kernelName": "csharp"
    },
    "vscode": {
     "languageId": "polyglot-notebook"
    }
   },
   "outputs": [],
   "source": [
    "using Microsoft.SemanticKernel;\n",
    "\n",
    "// Create a Builder\n",
    "var builder = Kernel.CreateBuilder();"
   ]
  },
  {
   "cell_type": "markdown",
   "metadata": {},
   "source": [
    "Depending on the type of task you want to do, you can use different methods with the prefix **With**. For now, we are going to use some of the models of type **completion** or completion.\n"
   ]
  },
  {
   "cell_type": "code",
   "execution_count": 3,
   "metadata": {
    "dotnet_interactive": {
     "language": "csharp"
    },
    "polyglot_notebook": {
     "kernelName": "csharp"
    },
    "vscode": {
     "languageId": "polyglot-notebook"
    }
   },
   "outputs": [],
   "source": [
    "// OpenAI keys\n",
    "var modelId = \"gpt-4\";\n",
    "var apiKey = (await Microsoft.DotNet.Interactive.Kernel.GetPasswordAsync(\"Give me your Open AI key\")).GetClearTextPassword();\n",
    "\n",
    "// Create a chat completion service\n",
    "builder.AddOpenAIChatCompletion(modelId, apiKey);"
   ]
  },
  {
   "cell_type": "code",
   "execution_count": null,
   "metadata": {
    "dotnet_interactive": {
     "language": "csharp"
    },
    "polyglot_notebook": {
     "kernelName": "csharp"
    },
    "vscode": {
     "languageId": "polyglot-notebook"
    }
   },
   "outputs": [],
   "source": [
    "// Azure OpenAI keys\n",
    "var deploymentName = \"gpt-4\";\n",
    "var endpoint = Environment.GetEnvironmentVariable(\"AZURE_OPEN_AI_ENDPOINT\");\n",
    "var apiKey = Environment.GetEnvironmentVariable(\"AZURE_OPEN_AI_KEY\");\n",
    "\n",
    "// Create a chat completion service\n",
    "builder.AddAzureOpenAIChatCompletion(deploymentName, endpoint, apiKey);"
   ]
  },
  {
   "cell_type": "markdown",
   "metadata": {},
   "source": [
    "With the configuration done, all that remains is to generate the kernel with everything set:\n"
   ]
  },
  {
   "cell_type": "code",
   "execution_count": 4,
   "metadata": {
    "dotnet_interactive": {
     "language": "csharp"
    },
    "polyglot_notebook": {
     "kernelName": "csharp"
    },
    "vscode": {
     "languageId": "polyglot-notebook"
    }
   },
   "outputs": [],
   "source": [
    "var kernel = builder.Build();"
   ]
  },
  {
   "cell_type": "markdown",
   "metadata": {},
   "source": [
    "## Using Semantic Kernel plugins\n",
    "\n",
    "Plugins are the core of Semantic Kernel. With them, you encapsulate capabilities so that they can be reusable, maintainable, and plannable (you will understand it later 🙃). There are two types: those that consist of prompt templates called **Semantic Functions** and native functions of the chosen programming language called **Native Functions**.\n",
    "\n",
    "<div style=\"text-align:center\">\n",
    "    <img src=\"images/writer-plugin-example.png\" width=\"40%\" />\n",
    "</div>"
   ]
  },
  {
   "cell_type": "markdown",
   "metadata": {},
   "source": [
    "## Semantic Functions\n",
    "\n",
    "When you talk to artificial intelligence models, you must do so with what is known as a *prompt*. This can range from a simple phrase to something more elaborate, allowing the model to understand not only what we want but also how we want it. If you take a look at the official documentation, it defines this type of function as the mouth 👄 and ears 👂🏻 of your brain 🧠. 🤖🌐\n",
    "\n",
    "<div style=\"text-align:center\">\n",
    "    <img src=\"images/semantic-function-explainer.png\" width=\"20%\" />\n",
    "</div>"
   ]
  },
  {
   "cell_type": "markdown",
   "metadata": {},
   "source": [
    "As part of this repo, you have a folder called **SemanticFunctions** that has different functions of this type:\n",
    "\n",
    "- **FunPlugin**: This allows us to ask the model to make jokes about heroes under certain conditions, through the **Joke** function.\n",
    "- **WritePlugin**: To show you that within a plugin you can have different functions, in this directory we have two related to the art of writing: the first one, **OOF**, allows us to generate the \"Out of Office\" 🏢📧 message for superheroes and the second **StoryGen** will help us create stories, also about superheroes 🦸🏻‍♂️🦸🏻‍♀️.\n",
    "\n",
    "For our kernel to know that these plugins are available, you first need to get the path of the directory:\n"
   ]
  },
  {
   "cell_type": "code",
   "execution_count": 5,
   "metadata": {
    "dotnet_interactive": {
     "language": "csharp"
    },
    "polyglot_notebook": {
     "kernelName": "csharp"
    },
    "vscode": {
     "languageId": "polyglot-notebook"
    }
   },
   "outputs": [],
   "source": [
    "using System.IO;\n",
    "\n",
    "var pluginsDirectory = Path.Combine(System.IO.Directory.GetCurrentDirectory(), \"SemanticFunctions\", \"FunPlugIn\");"
   ]
  },
  {
   "cell_type": "markdown",
   "metadata": {},
   "source": [
    "And then start loading the plugins you want:\n"
   ]
  },
  {
   "cell_type": "code",
   "execution_count": 6,
   "metadata": {
    "dotnet_interactive": {
     "language": "csharp"
    },
    "polyglot_notebook": {
     "kernelName": "csharp"
    },
    "vscode": {
     "languageId": "polyglot-notebook"
    }
   },
   "outputs": [],
   "source": [
    "// Load the FunPlugin from the Plugins Directory\n",
    "var funPluginFunctions = kernel.ImportPluginFromPromptDirectory(pluginsDirectory);"
   ]
  },
  {
   "cell_type": "markdown",
   "metadata": {},
   "source": [
    "To be able to invoke a function of this type, you can do it in the following way:\n"
   ]
  },
  {
   "cell_type": "code",
   "execution_count": 7,
   "metadata": {
    "dotnet_interactive": {
     "language": "csharp"
    },
    "polyglot_notebook": {
     "kernelName": "csharp"
    },
    "vscode": {
     "languageId": "polyglot-notebook"
    }
   },
   "outputs": [],
   "source": [
    "var joke = new KernelArguments() { [\"input\"] = \"tell me a joke\" };\n",
    "var result = await kernel.InvokeAsync(funPluginFunctions[\"Joke\"], joke);"
   ]
  },
  {
   "cell_type": "markdown",
   "metadata": {},
   "source": [
    "As you can see, just by using **kernel.RunAsync** and passing my request as parameters and which function, in this case **Joke**, within the plugin, in this case **FunPlugin**, I want to use.\n",
    "\n",
    "Each of these functions consists of two files:\n",
    "\n",
    "- **skprompt.txt** is the file where the prompt to send to the model is defined in a template format, so that it can receive parameters and make them more reusable.\n",
    "\n",
    "```\n",
    "WRITE EXACTLY ONE JOKE or HUMOROUS STORY ABOUT THE SUBJECT BELOW\n",
    "\n",
    "JOKE MUST BE:\n",
    "- IN ENGLISH\n",
    "\n",
    "BE CREATIVE AND FUNNY. I WANT TO LAUGH.\n",
    "\n",
    "Incorporate the hero if provided: {{$hero}}\n",
    "+++++\n",
    "\n",
    "{{$input}}\n",
    "+++++\n",
    "```\n",
    "- **config.json**, which allows us to indicate the maximum number of tokens allowed for this call (**max_tokens**), the temperature to control the randomness of the responses (**temperature**), which means that closer to 1 they will be more random and closer to zero more determined and focused on the most likely response, **top_p** is used to control the diversity of the responses, where a value of 0.0 means that only the most likely responses will be considered and 1 where all possible responses will be considered and **presence_penalty** and **frequency_penalty** to adjust the penalty for the presence and frequency of the tokens in the generated responses. On the other hand, if the skprompt.txt file receives parameters, they must also be defined in this file in the **parameters** array of the **input** object.\n",
    "\n",
    "```javascript\n",
    "{\n",
    "  \"schema\": 1,\n",
    "  \"description\": \"Generate a funny joke about heroes\",\n",
    "  \"models\": [\n",
    "    {\n",
    "      \"max_tokens\": 150,\n",
    "      \"temperature\": 0.9,\n",
    "      \"top_p\": 0.5,\n",
    "      \"presence_penalty\": 0.2,\n",
    "      \"frequency_penalty\": 0.3\n",
    "    }\n",
    "  ],\n",
    "  \"input\": {\n",
    "    \"parameters\": [\n",
    "      {\n",
    "        \"name\": \"input\",\n",
    "        \"description\": \"Joke subject\",\n",
    "        \"defaultValue\": \"\"\n",
    "      },\n",
    "      {\n",
    "        \"name\": \"hero\",\n",
    "        \"description\": \"Give a hint about the hero you want to joke about\",\n",
    "        \"defaultValue\": \"\"\n",
    "      }\n",
    "    ]\n",
    "  }\n",
    "}\n",
    "```\n"
   ]
  },
  {
   "cell_type": "markdown",
   "metadata": {},
   "source": [
    "To see the result generated from calling this Joke function, you can retrieve it in the following way:\n"
   ]
  },
  {
   "cell_type": "code",
   "execution_count": 8,
   "metadata": {
    "dotnet_interactive": {
     "language": "csharp"
    },
    "polyglot_notebook": {
     "kernelName": "csharp"
    },
    "vscode": {
     "languageId": "polyglot-notebook"
    }
   },
   "outputs": [
    {
     "name": "stdout",
     "output_type": "stream",
     "text": [
      "Why don't heroes ever play cards with the jungle villain?\n",
      "\n",
      "Because they're terrified the villain might have a cheetah up his sleeve!\r\n"
     ]
    }
   ],
   "source": [
    "Console.WriteLine(result.GetValue<string>());"
   ]
  },
  {
   "cell_type": "markdown",
   "metadata": {},
   "source": [
    "As you can see, in this execution we have only passed the input parameter, but not the hero about whom we wanted to generate this joke. To be able to send more than one parameter you need to create an object of the **ContextVariables** type:\n"
   ]
  },
  {
   "cell_type": "code",
   "execution_count": 9,
   "metadata": {
    "dotnet_interactive": {
     "language": "csharp"
    },
    "polyglot_notebook": {
     "kernelName": "csharp"
    },
    "vscode": {
     "languageId": "polyglot-notebook"
    }
   },
   "outputs": [],
   "source": [
    "var variables = new KernelArguments() {\n",
    "    [\"input\"] = \"Tell me a Christmas joke\",\n",
    "    [\"hero\"] = \"Ironman\"\n",
    "};"
   ]
  },
  {
   "cell_type": "markdown",
   "metadata": {},
   "source": [
    "To be able to use these two values as part of the call, simply put it as the first argument.\n"
   ]
  },
  {
   "cell_type": "code",
   "execution_count": 10,
   "metadata": {
    "dotnet_interactive": {
     "language": "csharp"
    },
    "polyglot_notebook": {
     "kernelName": "csharp"
    },
    "vscode": {
     "languageId": "polyglot-notebook"
    }
   },
   "outputs": [],
   "source": [
    "var result = await kernel.InvokeAsync(funPluginFunctions[\"Joke\"], variables);"
   ]
  },
  {
   "cell_type": "markdown",
   "metadata": {},
   "source": [
    "Now check if the joke is about the hero specified as a parameter.\n"
   ]
  },
  {
   "cell_type": "code",
   "execution_count": 11,
   "metadata": {
    "dotnet_interactive": {
     "language": "csharp"
    },
    "polyglot_notebook": {
     "kernelName": "csharp"
    },
    "vscode": {
     "languageId": "polyglot-notebook"
    }
   },
   "outputs": [
    {
     "name": "stdout",
     "output_type": "stream",
     "text": [
      "Why did Ironman help Santa with delivering presents on Christmas Eve?\n",
      "\n",
      "Because he heard Santa's sleigh was low on \"Stark Power!\"\r\n"
     ]
    }
   ],
   "source": [
    "Console.WriteLine(result.GetValue<string>());"
   ]
  },
  {
   "cell_type": "markdown",
   "metadata": {},
   "source": [
    "In the same way, we can use the functions included in **WriterPlugin**:\n"
   ]
  },
  {
   "cell_type": "code",
   "execution_count": 12,
   "metadata": {
    "dotnet_interactive": {
     "language": "csharp"
    },
    "polyglot_notebook": {
     "kernelName": "csharp"
    },
    "vscode": {
     "languageId": "polyglot-notebook"
    }
   },
   "outputs": [],
   "source": [
    "// Load the WriterPlugin from the Plugins Directory\n",
    "var pluginsDirectoryWriter = Path.Combine(System.IO.Directory.GetCurrentDirectory(), \"SemanticFunctions\", \"WriterPlugin\");\n",
    "\n",
    "var writerPluginFunctions = kernel.ImportPluginFromPromptDirectory(pluginsDirectoryWriter);\n"
   ]
  },
  {
   "cell_type": "markdown",
   "metadata": {},
   "source": [
    "One that generates stories:\n"
   ]
  },
  {
   "cell_type": "code",
   "execution_count": 13,
   "metadata": {
    "dotnet_interactive": {
     "language": "csharp"
    },
    "polyglot_notebook": {
     "kernelName": "csharp"
    },
    "vscode": {
     "languageId": "polyglot-notebook"
    }
   },
   "outputs": [
    {
     "name": "stdout",
     "output_type": "stream",
     "text": [
      "Once upon a time in the hustle and bustle of New York City 🌃, our hero Ironman, aka Tony Stark, knitted his eyebrows as he noticed something strange. Even as the Christmas 🎄 season dawned, New Yorkers seemed downcast, and their faces lacked the usual festive cheer 😔.\n",
      "\n",
      "Atop the Stark Tower, Ironman analyzed 💻 the situation, realizing that the economic downturn 📉 had hit people’s pockets heavily. It had snuffed out the Christmas spirit. But our hero, Ironman, had plans to bring Christmas cheer back. He organized an event called 'Stark's Winter Carnival' 🎪 and publicly invited everyone through the city screens 🏢📺. \n",
      "\n",
      "The day of the carnival arrived, and Ironman donned his suit 🦾. With a deafening whoosh, he flew into the night sky 🌃, leaving a trail of dazzling sparkles ✨, followed by a shower of Christmas presents 🎁 falling over the city. People gazed in awe, their faces lighting up with smiles 😃.\n",
      "\n",
      "Back at the carnival, food 🍔🍕, games 🎳, and music 🎵 filled the air. There was laughter and joy, the air thick with anticipation and the sweet smell of roasted chestnuts. Then, with a grand entrance, Ironman landed 🦾. He was met with cheers and clapping 👏. Inside the suit was Tony Stark, the billionaire philanthropist, celebrating Christmas with the city he loved.\n",
      "\n",
      "Amidst the festivities, Tony urged people to remember the spirit of giving, unity, and love 💖. Inspired by Ironman, the people of New York promised to carry forward this spirit beyond Christmas 🤝🏽.\n",
      "\n",
      "Eventually, Ironman flew off into the night sky, leaving behind a city sparkling with Christmas lights and hearts warmed by his kind act. The economic downturn had cast a shadow, but Ironman fought it back, not with his fists but with his heart. 💖\n",
      "\n",
      "And so this was the story of a Christmas 🎄 unlike any other, where our hero Ironman reminded everyone, a spirit of unity, giving, love and joy can conquer any hardship. And Christmas was indeed merry in New York once again 🎅🎆🎉.\n",
      "\n",
      "The End.\r\n"
     ]
    }
   ],
   "source": [
    "var variables = new KernelArguments() {\n",
    "    [\"input\"] = \"Tell me a Christmas Story\",\n",
    "    [\"hero\"] = \"Ironman\"\n",
    "};\n",
    "\n",
    "var result = await kernel.InvokeAsync(writerPluginFunctions[\"StoryGen\"], variables);\n",
    "Console.WriteLine(result);"
   ]
  },
  {
   "cell_type": "markdown",
   "metadata": {},
   "source": [
    "Or even to create messages for when the heroes 🦸🏻‍♀️ are on vacation ✈️🚢🌴:\n"
   ]
  },
  {
   "cell_type": "code",
   "execution_count": 14,
   "metadata": {
    "dotnet_interactive": {
     "language": "csharp"
    },
    "polyglot_notebook": {
     "kernelName": "csharp"
    },
    "vscode": {
     "languageId": "polyglot-notebook"
    }
   },
   "outputs": [
    {
     "name": "stdout",
     "output_type": "stream",
     "text": [
      "Subject: 🎄🎅 \"Hulk Out for Holiday Smashing! But Don't Worry, There's Backup! 🎅🎄\"\n",
      "\n",
      "Hello,\n",
      "\n",
      "If you're reading this message, it means that I, Hulk, am currently unavailable. I am taking a break from smashing to enjoy some 🎄 Christmas cookies and milk 🍪, and try to squeeze myself into a woefully undersize 🎅 Santa hat.\n",
      "\n",
      "I'll admit, despite my superhuman strength, endless stamina, and invulnerability, even a gamma radiation-filled hero like me needs the occasisonal 💤 rest and time to charge the old batteries.\n",
      "\n",
      "While the power of Hulk Smash 💪 won't be around to save the day in the immediate future, fear not! You're not left helpless. My very competent and technologically advanced buddy, 🦾 Iron Man, has generously agreed to cover for me while I'm away. Trust me, he's fully equipped and smarter than most. You're in good repulsor-blasting hands with him 🚀.\n",
      "\n",
      "Just shoot him a message at: StarkSuitsYouBetter@avengers.com\n",
      "\n",
      "Expect my return after the festive period when I've sufficiently chimed the jingle bells, decked the halls, and had enough of Santa Hulk🎅💚.\n",
      "\n",
      "Until then, Hulk out! Enjoy the holiday season and remember - peace on Earth. No smashing while Hulk's away - got it? \n",
      "\n",
      "Goodbye and rawwwwwr-y Christmas! 🎄\n",
      "\n",
      "Hulk 💪💚\r\n"
     ]
    }
   ],
   "source": [
    "var variables = new KernelArguments() {\n",
    "    [\"input\"] = \"Create an OOF for Christmas\",\n",
    "    [\"hero\"] = \"Hulk\"\n",
    "};\n",
    "\n",
    "var result = await kernel.InvokeAsync(writerPluginFunctions[\"OOF\"], variables);\n",
    "Console.WriteLine(result.GetValue<string>());"
   ]
  },
  {
   "cell_type": "markdown",
   "metadata": {},
   "source": [
    "## Native Functions\n",
    "\n",
    "While semantic functions allow us to define and reuse prompts, **with native functions you can make the semantic kernel call functions written in C# or Python**, for tasks that go beyond a call through a prompt.\n",
    "\n",
    "<div style=\"text-align:center\">\n",
    "    <img src=\"images/native-function-explainer.png\" width=\"25%\">\n",
    "</div>"
   ]
  },
  {
   "cell_type": "markdown",
   "metadata": {},
   "source": [
    "### Why do I need native functions in these types of applications?\n",
    "\n",
    "Large language models (LLMs) are excellent for generating text, but there are several tasks they cannot perform on their own. These include, among others:\n",
    "\n",
    "- Retrieving data from external data sources\n",
    "- Knowing what time it is\n",
    "- Performing complex mathematical operations\n",
    "- Completing tasks in the real world\n",
    "- Memorizing and remembering information\n",
    "\n",
    "For these scenarios, and many others, native functions are very useful 👍🏻\n"
   ]
  },
  {
   "cell_type": "markdown",
   "metadata": {},
   "source": [
    "For this example, I'm going to use an API called **SuperHero API**, which requires an API key. You can get it from their website: [https://superheroapi.com/](https://superheroapi.com/)\n",
    "\n",
    "Once you have it, pass it to the prompt that appears with the following line:\n"
   ]
  },
  {
   "cell_type": "code",
   "execution_count": 15,
   "metadata": {
    "dotnet_interactive": {
     "language": "csharp"
    },
    "polyglot_notebook": {
     "kernelName": "csharp"
    },
    "vscode": {
     "languageId": "polyglot-notebook"
    }
   },
   "outputs": [],
   "source": [
    "var superHeroApiKey = (await Microsoft.DotNet.Interactive.Kernel.GetPasswordAsync(\"Give me your Super Hero Api key\")).GetClearTextPassword();"
   ]
  },
  {
   "cell_type": "markdown",
   "metadata": {},
   "source": [
    "Now, to load a native function, we must add this before we build the Kernel.\n",
    "\n",
    "Let's create a new Super Hero Info class and add it as a Plugin."
   ]
  },
  {
   "cell_type": "code",
   "execution_count": 16,
   "metadata": {
    "dotnet_interactive": {
     "language": "csharp"
    },
    "polyglot_notebook": {
     "kernelName": "csharp"
    },
    "vscode": {
     "languageId": "polyglot-notebook"
    }
   },
   "outputs": [],
   "source": [
    "#load \"NativeFunctions/HeroInfo.cs\"\n",
    "\n",
    "var heroInfo = new HeroInfo(superHeroApiKey);\n",
    "builder.Plugins.AddFromObject(heroInfo, \"HeroInfo\");\n",
    "Kernel kernel = builder.Build();"
   ]
  },
  {
   "cell_type": "markdown",
   "metadata": {},
   "source": [
    "The builder now can interact with the local function. Let's make a call to get the alter ego of a super hero."
   ]
  },
  {
   "cell_type": "code",
   "execution_count": 18,
   "metadata": {
    "dotnet_interactive": {
     "language": "csharp"
    },
    "polyglot_notebook": {
     "kernelName": "csharp"
    },
    "vscode": {
     "languageId": "polyglot-notebook"
    }
   },
   "outputs": [
    {
     "name": "stdout",
     "output_type": "stream",
     "text": [
      "Bruce Banner\r\n"
     ]
    }
   ],
   "source": [
    "var kernelArgs = new KernelArguments()\n",
    "{\n",
    "    [\"input\"] = \"Hulk\"\n",
    "};\n",
    "\n",
    "var result = await kernel.InvokeAsync<string>(\"HeroInfo\", \"GetAlterEgo\", kernelArgs);\n",
    "Console.WriteLine(result);"
   ]
  },
  {
   "cell_type": "markdown",
   "metadata": {},
   "source": [
    "In this repo, there is another directory called **NativeFunctions** where you can find a class called **HeroInfo.cs**. In it, there is a function decorated with the **KernelFunction** attribute, which allows us to indicate to the Semantic Kernel that it is a native function and, through the **Description** property, also give it information about what the purpose of this function is. In this case, what this method allows us to do is retrieve the alter ego of the superhero that we pass as a parameter, in this example that of Ironman. \n"
   ]
  },
  {
   "cell_type": "markdown",
   "metadata": {},
   "source": [
    "## Planner\n",
    "\n",
    "So far, all the plugins you have seen have been executed intentionally. That is, no one has chosen them for you and you can run them based on your needs. However, this is the most *static* way to interact with Semantic Kernel. There is another option called **Planner** that will leave you astounded 😮\n",
    "\n",
    "Planner is a function that takes a user's request and returns a plan on how to carry out the request. To do this, it uses AI to combine the plugins registered in the core and recombine them into a series of steps that complete a goal.\n",
    "\n",
    "<div style=\"text-align:center;\">\n",
    "    <img src=\"images/the-planner.png\" width=35% />\n",
    "</div>"
   ]
  },
  {
   "cell_type": "markdown",
   "metadata": {},
   "source": [
    "To see it in action, we are going to use the plugins that you already know.\n",
    "\n",
    "The first thing you need is to add the nuget reference to the Planner Handlebars.\n",
    "\n",
    "To learn more about this NuGet package, you can visit [here](https://www.nuget.org/packages/Microsoft.SemanticKernel.Planners.Handlebars/1.5.0-preview#show-readme-container).\n",
    "\n"
   ]
  },
  {
   "cell_type": "code",
   "execution_count": 19,
   "metadata": {
    "dotnet_interactive": {
     "language": "csharp"
    },
    "polyglot_notebook": {
     "kernelName": "csharp"
    },
    "vscode": {
     "languageId": "polyglot-notebook"
    }
   },
   "outputs": [
    {
     "data": {
      "text/html": [
       "<div><div></div><div></div><div><strong>Installed Packages</strong><ul><li><span>Microsoft.SemanticKernel.Planners.Handlebars, 1.5.0-preview</span></li></ul></div></div>"
      ]
     },
     "metadata": {},
     "output_type": "display_data"
    }
   ],
   "source": [
    "#r \"nuget: Microsoft.SemanticKernel.Planners.Handlebars, 1.5.0-preview\""
   ]
  },
  {
   "cell_type": "markdown",
   "metadata": {},
   "source": [
    "Now we are ready to create a planner."
   ]
  },
  {
   "cell_type": "code",
   "execution_count": 20,
   "metadata": {
    "dotnet_interactive": {
     "language": "csharp"
    },
    "polyglot_notebook": {
     "kernelName": "csharp"
    },
    "vscode": {
     "languageId": "polyglot-notebook"
    }
   },
   "outputs": [],
   "source": [
    "using Microsoft.SemanticKernel.Planning.Handlebars;\n",
    "\n",
    "#pragma warning disable SKEXP0060\n",
    "var planner = new HandlebarsPlanner();\n"
   ]
  },
  {
   "cell_type": "markdown",
   "metadata": {},
   "source": [
    "There are different types as you can see [here](https://learn.microsoft.com/en-us/semantic-kernel/ai-orchestration/planners/?tabs=Csharp). In this example, we are going to use the one that executes tasks sequentially.\n",
    "\n",
    "Since you already have all the plugins loaded in your kernel instance, we can ask it something like this:\n"
   ]
  },
  {
   "cell_type": "code",
   "execution_count": 21,
   "metadata": {
    "dotnet_interactive": {
     "language": "csharp"
    },
    "polyglot_notebook": {
     "kernelName": "csharp"
    },
    "vscode": {
     "languageId": "polyglot-notebook"
    }
   },
   "outputs": [
    {
     "name": "stdout",
     "output_type": "stream",
     "text": [
      "Original plan:\n",
      "\n",
      "{{!-- Step 1: Get the alter ego of Batman --}}\n",
      "{{set \"alterEgo\" (HeroInfo-GetAlterEgo \"Batman\")}}\n",
      "\n",
      "{{!-- Step 2: Construct the joke --}}\n",
      "{{set \"joke\" (concat \"Why did \" alterEgo \" go fishing? Because he heard there were great bat-\" \"manatee\" \" sightings!\")}}\n",
      "\n",
      "{{!-- Step 3: Construct the final out-of-office message --}}\n",
      "{{set \"message\" (concat \"I'm out of the office right now, just like \" alterEgo \", maybe I have gone fishing. In the meantime, here's a joke for you: \" joke)}}\n",
      "\n",
      "{{!-- Step 4: Output the final message --}}\n",
      "{{json message}}\n"
     ]
    }
   ],
   "source": [
    "using System.Text.Json;\n",
    "\n",
    "var ask = \"I would like you to tell me a joke about Batman, and with that joke, create an out-of-office message using the joke.\";\n",
    "#pragma warning disable SKEXP0060\n",
    "var originalPlan = await planner.CreatePlanAsync(kernel, ask);\n",
    "\n",
    "Console.WriteLine(\"Original plan:\\n\");\n",
    "Console.WriteLine(originalPlan);"
   ]
  },
  {
   "cell_type": "markdown",
   "metadata": {},
   "source": [
    "As you can see, the planner knows about the  plugins thanks to the description that I included as part of their implementation.\n",
    "\n",
    "Time to run the plan and get an OOF for **Batman** that includes a **bad joke**.\n"
   ]
  },
  {
   "cell_type": "code",
   "execution_count": 22,
   "metadata": {
    "dotnet_interactive": {
     "language": "csharp"
    },
    "polyglot_notebook": {
     "kernelName": "csharp"
    },
    "vscode": {
     "languageId": "polyglot-notebook"
    }
   },
   "outputs": [
    {
     "name": "stdout",
     "output_type": "stream",
     "text": [
      "Original Plan results:\n",
      "\n",
      "I'm out of the office right now, just like Terry McGinnis, maybe I have gone fishing. In the meantime, here's a joke for you: Why did Terry McGinnis go fishing? Because he heard there were great bat-manatee sightings!\n"
     ]
    }
   ],
   "source": [
    "// executing the plan\n",
    "#pragma warning disable SKEXP0060\n",
    "var originalPlanResult = await originalPlan.InvokeAsync(kernel, new KernelArguments());\n",
    "\n",
    "Console.WriteLine(\"Original Plan results:\\n\");\n",
    "Console.WriteLine(originalPlanResult.ToString());"
   ]
  },
  {
   "cell_type": "markdown",
   "metadata": {},
   "source": [
    "### Advanced Planner Labs\n",
    "\n",
    "The kernel already has the plugins loaded, and the function, let's see if it can solve a more complex example:\n"
   ]
  },
  {
   "cell_type": "code",
   "execution_count": 23,
   "metadata": {
    "dotnet_interactive": {
     "language": "csharp"
    },
    "polyglot_notebook": {
     "kernelName": "csharp"
    },
    "vscode": {
     "languageId": "polyglot-notebook"
    }
   },
   "outputs": [
    {
     "name": "stdout",
     "output_type": "stream",
     "text": [
      "Plan:\n",
      "\n",
      "{{!-- Step 1: Use the HeroInfo-GetAlterEgo helper to get IronMan's alter ego --}}\n",
      "{{set \"alterEgo\" (HeroInfo-GetAlterEgo \"IronMan\")}}\n",
      "\n",
      "{{!-- Step 2: Use the concat helper to create the out-of-office message --}}\n",
      "{{set \"message\" (concat \"I, as \" alterEgo \", am currently out of office. I will get back to you when I'm back in. Best, \" alterEgo)}}\n",
      "\n",
      "{{!-- Step 3: Use the json helper to print out the final out-of-office message --}}\n",
      "{{json message}}\n"
     ]
    }
   ],
   "source": [
    "var ask_complex = \"I would like you to find out IronMan's alter ego, and create an out of office message for IronMan, signing it with his alter ego.\";\n",
    "\n",
    "#pragma warning disable SKEXP0060\n",
    "var plan_complex = await planner.CreatePlanAsync(kernel, ask_complex);\n",
    "\n",
    "Console.WriteLine(\"Plan:\\n\");\n",
    "Console.WriteLine(plan_complex);"
   ]
  },
  {
   "cell_type": "markdown",
   "metadata": {},
   "source": [
    "Let's execute the plan and see its output:\n"
   ]
  },
  {
   "cell_type": "code",
   "execution_count": 24,
   "metadata": {
    "dotnet_interactive": {
     "language": "csharp"
    },
    "polyglot_notebook": {
     "kernelName": "csharp"
    },
    "vscode": {
     "languageId": "polyglot-notebook"
    }
   },
   "outputs": [
    {
     "name": "stdout",
     "output_type": "stream",
     "text": [
      "Complex  Plan results:\n",
      "\n",
      "I, as Tony Stark, am currently out of office. I will get back to you when I'm back in. Best, Tony Stark\n"
     ]
    }
   ],
   "source": [
    "#pragma warning disable SKEXP0060\n",
    "var complexPlanResult = await plan_complex.InvokeAsync(kernel, new KernelArguments());\n",
    "\n",
    "Console.WriteLine(\"Complex  Plan results:\\n\");\n",
    "Console.WriteLine(complexPlanResult.ToString());"
   ]
  },
  {
   "cell_type": "markdown",
   "metadata": {},
   "source": [
    "## Kernel Memory\n",
    "\n",
    "<img src=\"images/How kernel memory works.png\" width=\"80%\" />"
   ]
  },
  {
   "cell_type": "markdown",
   "metadata": {},
   "source": [
    "To be able to use Kernel Memory, you need to add its nuget library, in addition to importing the class that I have generated in the **KernelMemory** directory.\n",
    "\n",
    "To learn more about the Kernel Memory library, you can visit the [NuGet package page](https://www.nuget.org/packages/Microsoft.SemanticKernel.Plugins.Memory/1.5.0-alpha#show-readme-container).\n"
   ]
  },
  {
   "cell_type": "code",
   "execution_count": 25,
   "metadata": {
    "dotnet_interactive": {
     "language": "csharp"
    },
    "polyglot_notebook": {
     "kernelName": "csharp"
    },
    "vscode": {
     "languageId": "polyglot-notebook"
    }
   },
   "outputs": [
    {
     "data": {
      "text/html": [
       "<div><div></div><div></div><div><strong>Installed Packages</strong><ul><li><span>Microsoft.SemanticKernel.Plugins.Memory, 1.5.0-alpha</span></li><li><span>System.Linq.Async, 6.0.1</span></li></ul></div></div>"
      ]
     },
     "metadata": {},
     "output_type": "display_data"
    }
   ],
   "source": [
    "#r \"nuget: Microsoft.SemanticKernel.Plugins.Memory, 1.5.0-alpha\"\n",
    "#r \"nuget: System.Linq.Async, 6.0.1\"\n"
   ]
  },
  {
   "cell_type": "markdown",
   "metadata": {},
   "source": [
    "In order to use memory, we need to instantiate the Memory Plugin with a Memory Storage and an Embedding backend. In this example, we make use of the VolatileMemoryStore which can be thought of as a temporary in-memory storage (not to be confused with Semantic Memory).\n",
    "\n",
    "This memory is not written to disk and is only available during the app session.\n",
    "\n",
    "When developing your app you will have the option to plug in persistent storage like Azure Cosmos Db, PostgreSQL, SQLite, etc. Semantic Memory allows also to index external data sources, without duplicating all the information, more on that later."
   ]
  },
  {
   "cell_type": "code",
   "execution_count": 26,
   "metadata": {
    "dotnet_interactive": {
     "language": "csharp"
    },
    "polyglot_notebook": {
     "kernelName": "csharp"
    },
    "vscode": {
     "languageId": "polyglot-notebook"
    }
   },
   "outputs": [],
   "source": [
    "using Microsoft.SemanticKernel.Memory;\n",
    "using Microsoft.SemanticKernel.Connectors.OpenAI;\n",
    "\n",
    "// create the memory builder\n",
    "#pragma warning disable SKEXP0003, SKEXP0011, SKEXP0052\n",
    "var memoryBuilder = new MemoryBuilder();\n",
    "\n",
    "// Using OpenAI\n",
    "memoryBuilder.WithOpenAITextEmbeddingGeneration(\"text-embedding-ada-002\", apiKey);\n",
    "\n",
    "// Using Azure OpenAI \n",
    "// memoryBuilder.WithAzureOpenAITextEmbeddingGeneration(\n",
    "//         AzureOpenAI.EmbeddingsModel,\n",
    "//          AzureOpenAI.Endpoint,\n",
    "//         AzureOpenAI.ApiKey,\n",
    "//         \"text-embedding-ada-002\");\n",
    "\n",
    "memoryBuilder.WithMemoryStore(new VolatileMemoryStore());\n",
    "var memory = memoryBuilder.Build();"
   ]
  },
  {
   "cell_type": "markdown",
   "metadata": {},
   "source": [
    "Let's create some initial memories \"Fan Facts\". We can add memories to our VolatileMemoryStore by using SaveInformationAsync:\n",
    "\n"
   ]
  },
  {
   "cell_type": "code",
   "execution_count": 27,
   "metadata": {
    "dotnet_interactive": {
     "language": "csharp"
    },
    "polyglot_notebook": {
     "kernelName": "csharp"
    },
    "vscode": {
     "languageId": "polyglot-notebook"
    }
   },
   "outputs": [],
   "source": [
    "// add fan facts to the collection\n",
    "const string MemoryCollectionName = \"fanFacts\";\n",
    "\n",
    "await memory.SaveInformationAsync(MemoryCollectionName, id: \"info1\", text: \"Gisela's favourite super hero is Batman\");\n",
    "await memory.SaveInformationAsync(MemoryCollectionName, id: \"info2\", text: \"The last super hero movie watched by Gisela was Guardians of the Galaxy Vol 3\");\n",
    "await memory.SaveInformationAsync(MemoryCollectionName, id: \"info3\", text: \"Bruno's favourite super hero is Invincible\");\n",
    "await memory.SaveInformationAsync(MemoryCollectionName, id: \"info4\", text: \"The last super hero movie watched by Bruno was Aquaman II\");\n",
    "await memory.SaveInformationAsync(MemoryCollectionName, id: \"info5\", text: \"Bruno don't like the super hero movie: Eternals\");"
   ]
  },
  {
   "cell_type": "markdown",
   "metadata": {},
   "source": [
    "And now we can test and search in the memory:"
   ]
  },
  {
   "cell_type": "code",
   "execution_count": 28,
   "metadata": {
    "dotnet_interactive": {
     "language": "csharp"
    },
    "polyglot_notebook": {
     "kernelName": "csharp"
    },
    "vscode": {
     "languageId": "polyglot-notebook"
    }
   },
   "outputs": [
    {
     "name": "stdout",
     "output_type": "stream",
     "text": [
      "what is Bruno's favourite super hero? Bruno's favourite super hero is Invincible\n",
      "what was the last movie watched by Gisela? The last super hero movie watched by Gisela was Guardians of the Galaxy Vol 3\n",
      "Which is the prefered super hero for Gisela? Gisela's favourite super hero is Batman\n",
      "Did Bruno watched a super hero movie in the past, which was the last one? The last super hero movie watched by Bruno was Aquaman II\n"
     ]
    }
   ],
   "source": [
    "var questions = new[]\n",
    "{\n",
    "    \"what is Bruno's favourite super hero?\",\n",
    "    \"what was the last movie watched by Gisela?\",\n",
    "    \"Which is the prefered super hero for Gisela?\",\n",
    "    \"Did Bruno watched a super hero movie in the past, which was the last one?\"\n",
    "};\n",
    "\n",
    "foreach (var q in questions)\n",
    "{\n",
    "    var response = await memory.SearchAsync(MemoryCollectionName, q).FirstOrDefaultAsync();\n",
    "    Console.WriteLine(q + \" \" + response?.Metadata.Text);\n",
    "}\n"
   ]
  },
  {
   "cell_type": "markdown",
   "metadata": {},
   "source": [
    "In the following code cell, we will demonstrate how we can also search the memory kernel using another language. We will use the same questions as before, but this time they will be translated into Spanish.\n"
   ]
  },
  {
   "cell_type": "code",
   "execution_count": 29,
   "metadata": {
    "dotnet_interactive": {
     "language": "csharp"
    },
    "polyglot_notebook": {
     "kernelName": "csharp"
    },
    "vscode": {
     "languageId": "polyglot-notebook"
    }
   },
   "outputs": [
    {
     "name": "stdout",
     "output_type": "stream",
     "text": [
      "¿Cuál es el superhéroe favorito de Bruno? Bruno's favourite super hero is Invincible\n",
      "¿Cuál fue la última película vista por Gisela? The last super hero movie watched by Gisela was Guardians of the Galaxy Vol 3\n",
      "¿Cuál es el superhéroe preferido de Gisela? Gisela's favourite super hero is Batman\n",
      "¿Bruno ha visto alguna película de superhéroes en el pasado? ¿Cuál fue la última? The last super hero movie watched by Bruno was Aquaman II\n",
      "Cual es la pelicula que no le gusta a Bruno? Bruno don't like the super hero movie: Eternals\n"
     ]
    }
   ],
   "source": [
    "var preguntas = new[]\n",
    "{\n",
    "    \"¿Cuál es el superhéroe favorito de Bruno?\",\n",
    "    \"¿Cuál fue la última película vista por Gisela?\",\n",
    "    \"¿Cuál es el superhéroe preferido de Gisela?\",\n",
    "    \"¿Bruno ha visto alguna película de superhéroes en el pasado? ¿Cuál fue la última?\",\n",
    "    \"Cual es la pelicula que no le gusta a Bruno?\"\n",
    "};\n",
    "\n",
    "foreach (var q in preguntas)\n",
    "{\n",
    "    var response = await memory.SearchAsync(MemoryCollectionName, q).FirstOrDefaultAsync();\n",
    "    Console.WriteLine(q + \" \" + response?.Metadata.Text);\n",
    "}"
   ]
  }
 ],
 "metadata": {
  "kernelspec": {
   "display_name": ".NET (C#)",
   "language": "C#",
   "name": ".net-csharp"
  },
  "language_info": {
   "name": "python"
  },
  "polyglot_notebook": {
   "kernelInfo": {
    "defaultKernelName": "csharp",
    "items": [
     {
      "aliases": [],
      "name": "csharp"
     }
    ]
   }
  }
 },
 "nbformat": 4,
 "nbformat_minor": 2
}
