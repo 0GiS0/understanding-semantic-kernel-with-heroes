{
 "cells": [
  {
   "cell_type": "markdown",
   "metadata": {},
   "source": [
    "# 🦸🏻 Understanding Semantic Kernel with Heroes 🦸🏼‍♀️\n",
    "\n",
    "Semantic Kernel has been created to allow developers to seamlessly integrate Artificial Intelligence into their applications. To achieve this, it provides a set of features that will enable you to add models, prompts, native functions, and memories without requiring deep knowledge of AI 🥲. That's why it's said that Semantic Kernel simulates the brain 🧠 of your application.\n",
    "\n",
    "<div style=\"text-align:center\">\n",
    "    <img src=\"images/semantic-kernel.png\" width=\"15%\">\n",
    "</div>"
   ]
  },
  {
   "cell_type": "markdown",
   "metadata": {},
   "source": [
    "## (Optional) - Creating an Azure Open AI 🤖 Service and Deployments\n",
    "\n",
    "Before diving into Semantic Kernel 🛝, you'll need to have one of the supported services set up. Currently, you can choose from the following options: [Azure Open AI](https://azure.microsoft.com/en-us/products/ai-services/openai-service), [Open AI](https://openai.com/), or [Hugging Face](https://huggingface.co/).\n",
    "\n",
    "In this example, I am going to use Azure Open AI.\n",
    "\n",
    "Therefore, through Azure CLI, I need to log in:"
   ]
  },
  {
   "cell_type": "code",
   "execution_count": null,
   "metadata": {
    "dotnet_interactive": {
     "language": "pwsh"
    },
    "polyglot_notebook": {
     "kernelName": "pwsh"
    },
    "tags": [],
    "vscode": {
     "languageId": "polyglot-notebook"
    }
   },
   "outputs": [],
   "source": [
    "az login"
   ]
  },
  {
   "cell_type": "markdown",
   "metadata": {},
   "source": [
    "If you need it, because you have many tenants and subscriptions under your account, you can select the one that interests you (or has access to Azure Open AI 😊) through the following command:\n"
   ]
  },
  {
   "cell_type": "code",
   "execution_count": null,
   "metadata": {
    "dotnet_interactive": {
     "language": "pwsh"
    },
    "polyglot_notebook": {
     "kernelName": "pwsh"
    },
    "vscode": {
     "languageId": "polyglot-notebook"
    }
   },
   "outputs": [],
   "source": [
    "az account set -n \"Visual Studio Enterprise Subscription\""
   ]
  },
  {
   "cell_type": "markdown",
   "metadata": {},
   "source": [
    "Now, to be able to create what you need for this notebook, set the following variables with your preferred values:\n"
   ]
  },
  {
   "cell_type": "code",
   "execution_count": null,
   "metadata": {
    "dotnet_interactive": {
     "language": "pwsh"
    },
    "polyglot_notebook": {
     "kernelName": "pwsh"
    },
    "vscode": {
     "languageId": "polyglot-notebook"
    }
   },
   "outputs": [],
   "source": [
    "$RESOURCE_GROUP=\"understanding-semantic-kernel\"\n",
    "$LOCATION=\"canadaeast\"\n",
    "$AZURE_OPEN_AI=\"ai-for-heroes\""
   ]
  },
  {
   "cell_type": "markdown",
   "metadata": {},
   "source": [
    "With them, you can now create the resource group:\n"
   ]
  },
  {
   "cell_type": "code",
   "execution_count": null,
   "metadata": {
    "dotnet_interactive": {
     "language": "pwsh"
    },
    "polyglot_notebook": {
     "kernelName": "pwsh"
    },
    "vscode": {
     "languageId": "polyglot-notebook"
    }
   },
   "outputs": [],
   "source": [
    "az group create `\n",
    "--name $RESOURCE_GROUP `\n",
    "--location $LOCATION"
   ]
  },
  {
   "cell_type": "markdown",
   "metadata": {},
   "source": [
    "An Azure Open AI resource:\n"
   ]
  },
  {
   "cell_type": "code",
   "execution_count": null,
   "metadata": {
    "dotnet_interactive": {
     "language": "pwsh"
    },
    "polyglot_notebook": {
     "kernelName": "pwsh"
    },
    "vscode": {
     "languageId": "polyglot-notebook"
    }
   },
   "outputs": [],
   "source": [
    "az cognitiveservices account create `\n",
    "--name $AZURE_OPEN_AI `\n",
    "--custom-domain $AZURE_OPEN_AI `\n",
    "--resource-group $RESOURCE_GROUP `\n",
    "--kind OpenAI `\n",
    "--sku S0 `\n",
    "--location $LOCATION"
   ]
  },
  {
   "cell_type": "markdown",
   "metadata": {},
   "source": [
    "And finally, you need a deployment of any of the models you have available. In this example, I am going to use gpt-4:\n"
   ]
  },
  {
   "cell_type": "code",
   "execution_count": null,
   "metadata": {
    "dotnet_interactive": {
     "language": "pwsh"
    },
    "polyglot_notebook": {
     "kernelName": "pwsh"
    },
    "vscode": {
     "languageId": "polyglot-notebook"
    }
   },
   "outputs": [],
   "source": [
    "az cognitiveservices account deployment create `\n",
    "--name $AZURE_OPEN_AI `\n",
    "--resource-group $RESOURCE_GROUP `\n",
    "--deployment-name \"gpt-4\" `\n",
    "--model-name \"gpt-4\" `\n",
    "--model-version \"0613\"  `\n",
    "--model-format OpenAI `\n",
    "--sku-capacity \"10\" `\n",
    "--sku-name \"Standard\""
   ]
  },
  {
   "cell_type": "markdown",
   "metadata": {},
   "source": [
    "The **sku-capacity** parameter allows us to specify how many tokens per minute we can send to this model. To see how your quota usage is, you can use this other command:\n"
   ]
  },
  {
   "cell_type": "code",
   "execution_count": null,
   "metadata": {
    "dotnet_interactive": {
     "language": "pwsh"
    },
    "polyglot_notebook": {
     "kernelName": "pwsh"
    },
    "vscode": {
     "languageId": "polyglot-notebook"
    }
   },
   "outputs": [],
   "source": [
    "az cognitiveservices usage list `\n",
    "-l $LOCATION"
   ]
  },
  {
   "cell_type": "markdown",
   "metadata": {},
   "source": [
    "Load enviroment variables with your Azure Open AI endpoint and key"
   ]
  },
  {
   "cell_type": "code",
   "execution_count": null,
   "metadata": {
    "dotnet_interactive": {
     "language": "pwsh"
    },
    "polyglot_notebook": {
     "kernelName": "pwsh"
    },
    "vscode": {
     "languageId": "polyglot-notebook"
    }
   },
   "outputs": [],
   "source": [
    "$env:AZURE_OPEN_AI_KEY =$(az cognitiveservices account keys list `\n",
    "--name $AZURE_OPEN_AI `\n",
    "--resource-group $RESOURCE_GROUP `\n",
    "--query \"key1\" `\n",
    "--output tsv)\n",
    "\n",
    "$env:AZURE_OPEN_AI_ENDPOINT =$(az cognitiveservices account show `\n",
    "--name $AZURE_OPEN_AI `\n",
    "--resource-group $RESOURCE_GROUP `\n",
    "--query \"properties.endpoint\" `\n",
    "--output tsv)\n",
    "\n",
    "#dir env:AZURE_OPEN_AI_KEY\n",
    "#dir env:AZURE_OPEN_AI_ENDPOINT"
   ]
  },
  {
   "cell_type": "markdown",
   "metadata": {},
   "source": [
    "## How to get started with Semantic Kernel\n"
   ]
  },
  {
   "cell_type": "markdown",
   "metadata": {},
   "source": [
    "The first thing you need to be able to run Semantic Kernel in this notebook is to install the **Microsoft.SemanticKernel** library, which is currently in version **1.5.0** (I promise to keep updating 🤓). \n",
    "\n",
    "You can find more information about this library and its updates on the official NuGet page [here](https://www.nuget.org/packages/Microsoft.SemanticKernel).\n",
    "\n"
   ]
  },
  {
   "cell_type": "code",
   "execution_count": 1,
   "metadata": {
    "dotnet_interactive": {
     "language": "csharp"
    },
    "polyglot_notebook": {
     "kernelName": "csharp"
    },
    "vscode": {
     "languageId": "polyglot-notebook"
    }
   },
   "outputs": [
    {
     "data": {
      "text/html": [
       "<div><div></div><div></div><div><strong>Installed Packages</strong><ul><li><span>Microsoft.SemanticKernel, 1.5.0</span></li></ul></div></div>"
      ]
     },
     "metadata": {},
     "output_type": "display_data"
    }
   ],
   "source": [
    "#r \"nuget: Microsoft.SemanticKernel, 1.5.0\""
   ]
  },
  {
   "cell_type": "markdown",
   "metadata": {},
   "source": [
    "With it, you can now instantiate the brain of your application through **KernelBuilder**. It has a lot of connectors to the models and other things, but for now, let's start with the basics:\n"
   ]
  },
  {
   "cell_type": "code",
   "execution_count": 8,
   "metadata": {
    "dotnet_interactive": {
     "language": "csharp"
    },
    "polyglot_notebook": {
     "kernelName": "csharp"
    },
    "vscode": {
     "languageId": "polyglot-notebook"
    }
   },
   "outputs": [],
   "source": [
    "using Microsoft.SemanticKernel;\n",
    "\n",
    "// Create a Builder\n",
    "var builder = Kernel.CreateBuilder();"
   ]
  },
  {
   "cell_type": "markdown",
   "metadata": {},
   "source": [
    "Depending on the type of task you want to do, you can use different methods with the prefix **With**. For now, we are going to use some of the models of type **completion** or completion.\n"
   ]
  },
  {
   "cell_type": "code",
   "execution_count": 9,
   "metadata": {
    "dotnet_interactive": {
     "language": "csharp"
    },
    "polyglot_notebook": {
     "kernelName": "csharp"
    },
    "vscode": {
     "languageId": "polyglot-notebook"
    }
   },
   "outputs": [],
   "source": [
    "// OpenAI keys\n",
    "var modelId = \"gpt-4\";\n",
    "var apiKey = (await Microsoft.DotNet.Interactive.Kernel.GetPasswordAsync(\"Give me your Open AI key\")).GetClearTextPassword();\n",
    "\n",
    "// Create a chat completion service\n",
    "builder.AddOpenAIChatCompletion(modelId, apiKey);"
   ]
  },
  {
   "cell_type": "code",
   "execution_count": null,
   "metadata": {
    "dotnet_interactive": {
     "language": "csharp"
    },
    "polyglot_notebook": {
     "kernelName": "csharp"
    },
    "vscode": {
     "languageId": "polyglot-notebook"
    }
   },
   "outputs": [],
   "source": [
    "// Azure OpenAI keys\n",
    "var deploymentName = \"gpt-4\";\n",
    "var endpoint = Environment.GetEnvironmentVariable(\"AZURE_OPEN_AI_ENDPOINT\");\n",
    "var apiKey = Environment.GetEnvironmentVariable(\"AZURE_OPEN_AI_KEY\");\n",
    "\n",
    "// Create a chat completion service\n",
    "builder.AddAzureOpenAIChatCompletion(deploymentName, endpoint, apiKey);"
   ]
  },
  {
   "cell_type": "markdown",
   "metadata": {},
   "source": [
    "With the configuration done, all that remains is to generate the kernel with everything set:\n"
   ]
  },
  {
   "cell_type": "code",
   "execution_count": 10,
   "metadata": {
    "dotnet_interactive": {
     "language": "csharp"
    },
    "polyglot_notebook": {
     "kernelName": "csharp"
    },
    "vscode": {
     "languageId": "polyglot-notebook"
    }
   },
   "outputs": [],
   "source": [
    "var kernel = builder.Build();"
   ]
  },
  {
   "cell_type": "markdown",
   "metadata": {},
   "source": [
    "## The plugins\n",
    "\n",
    "Plugins are the core of Semantic Kernel. With them, you encapsulate capabilities so that they can be reusable, maintainable, and plannable (you will understand it later 🙃). There are two types: those that consist of prompt templates called **Semantic Functions** and native functions of the chosen programming language called **Native Functions**.\n",
    "\n",
    "<div style=\"text-align:center\">\n",
    "    <img src=\"images/writer-plugin-example.png\" width=\"40%\" />\n",
    "</div>"
   ]
  },
  {
   "cell_type": "markdown",
   "metadata": {},
   "source": [
    "### Semantic Functions\n",
    "\n",
    "When you talk to artificial intelligence models, you must do so with what is known as a *prompt*. This can range from a simple phrase to something more elaborate, allowing the model to understand not only what we want but also how we want it. If you take a look at the official documentation, it defines this type of function as the mouth 👄 and ears 👂🏻 of your brain 🧠. 🤖🌐\n",
    "\n",
    "<div style=\"text-align:center\">\n",
    "    <img src=\"images/semantic-function-explainer.png\" width=\"20%\" />\n",
    "</div>"
   ]
  },
  {
   "cell_type": "markdown",
   "metadata": {},
   "source": [
    "As part of this repo, you have a folder called **SemanticFunctions** that has different functions of this type:\n",
    "\n",
    "- **FunPlugin**: This allows us to ask the model to make jokes about heroes under certain conditions, through the **Joke** function.\n",
    "- **WritePlugin**: To show you that within a plugin you can have different functions, in this directory we have two related to the art of writing: the first one, **OOF**, allows us to generate the \"Out of Office\" 🏢📧 message for superheroes and the second **StoryGen** will help us create stories, also about superheroes 🦸🏻‍♂️🦸🏻‍♀️.\n",
    "\n",
    "For our kernel to know that these plugins are available, you first need to get the path of the directory:\n"
   ]
  },
  {
   "cell_type": "code",
   "execution_count": 11,
   "metadata": {
    "dotnet_interactive": {
     "language": "csharp"
    },
    "polyglot_notebook": {
     "kernelName": "csharp"
    },
    "vscode": {
     "languageId": "polyglot-notebook"
    }
   },
   "outputs": [],
   "source": [
    "using System.IO;\n",
    "\n",
    "var pluginsDirectory = Path.Combine(System.IO.Directory.GetCurrentDirectory(), \"SemanticFunctions\", \"FunPlugIn\");"
   ]
  },
  {
   "cell_type": "markdown",
   "metadata": {},
   "source": [
    "And then start loading the plugins you want:\n"
   ]
  },
  {
   "cell_type": "code",
   "execution_count": 12,
   "metadata": {
    "dotnet_interactive": {
     "language": "csharp"
    },
    "polyglot_notebook": {
     "kernelName": "csharp"
    },
    "vscode": {
     "languageId": "polyglot-notebook"
    }
   },
   "outputs": [],
   "source": [
    "// Load the FunPlugin from the Plugins Directory\n",
    "var funPluginFunctions = kernel.ImportPluginFromPromptDirectory(pluginsDirectory);"
   ]
  },
  {
   "cell_type": "markdown",
   "metadata": {},
   "source": [
    "To be able to invoke a function of this type, you can do it in the following way:\n"
   ]
  },
  {
   "cell_type": "code",
   "execution_count": 13,
   "metadata": {
    "dotnet_interactive": {
     "language": "csharp"
    },
    "polyglot_notebook": {
     "kernelName": "csharp"
    },
    "vscode": {
     "languageId": "polyglot-notebook"
    }
   },
   "outputs": [],
   "source": [
    "var joke = new KernelArguments() { [\"input\"] = \"tell me a joke\" };\n",
    "var result = await kernel.InvokeAsync(funPluginFunctions[\"Joke\"], joke);"
   ]
  },
  {
   "cell_type": "markdown",
   "metadata": {},
   "source": [
    "As you can see, just by using **kernel.RunAsync** and passing my request as parameters and which function, in this case **Joke**, within the plugin, in this case **FunPlugin**, I want to use.\n",
    "\n",
    "Each of these functions consists of two files:\n",
    "\n",
    "- **skprompt.txt** is the file where the prompt to send to the model is defined in a template format, so that it can receive parameters and make them more reusable.\n",
    "\n",
    "```\n",
    "WRITE EXACTLY ONE JOKE or HUMOROUS STORY ABOUT THE SUBJECT BELOW\n",
    "\n",
    "JOKE MUST BE:\n",
    "- IN ENGLISH\n",
    "\n",
    "BE CREATIVE AND FUNNY. I WANT TO LAUGH.\n",
    "\n",
    "Incorporate the hero if provided: {{$hero}}\n",
    "+++++\n",
    "\n",
    "{{$input}}\n",
    "+++++\n",
    "```\n",
    "- **config.json**, which allows us to indicate the maximum number of tokens allowed for this call (**max_tokens**), the temperature to control the randomness of the responses (**temperature**), which means that closer to 1 they will be more random and closer to zero more determined and focused on the most likely response, **top_p** is used to control the diversity of the responses, where a value of 0.0 means that only the most likely responses will be considered and 1 where all possible responses will be considered and **presence_penalty** and **frequency_penalty** to adjust the penalty for the presence and frequency of the tokens in the generated responses. On the other hand, if the skprompt.txt file receives parameters, they must also be defined in this file in the **parameters** array of the **input** object.\n",
    "\n",
    "```javascript\n",
    "{\n",
    "  \"schema\": 1,\n",
    "  \"description\": \"Generate a funny joke about heroes\",\n",
    "  \"models\": [\n",
    "    {\n",
    "      \"max_tokens\": 150,\n",
    "      \"temperature\": 0.9,\n",
    "      \"top_p\": 0.5,\n",
    "      \"presence_penalty\": 0.2,\n",
    "      \"frequency_penalty\": 0.3\n",
    "    }\n",
    "  ],\n",
    "  \"input\": {\n",
    "    \"parameters\": [\n",
    "      {\n",
    "        \"name\": \"input\",\n",
    "        \"description\": \"Joke subject\",\n",
    "        \"defaultValue\": \"\"\n",
    "      },\n",
    "      {\n",
    "        \"name\": \"hero\",\n",
    "        \"description\": \"Give a hint about the hero you want to joke about\",\n",
    "        \"defaultValue\": \"\"\n",
    "      }\n",
    "    ]\n",
    "  }\n",
    "}\n",
    "```\n"
   ]
  },
  {
   "cell_type": "markdown",
   "metadata": {},
   "source": [
    "To see the result generated from calling this Joke function, you can retrieve it in the following way:\n"
   ]
  },
  {
   "cell_type": "code",
   "execution_count": 14,
   "metadata": {
    "dotnet_interactive": {
     "language": "csharp"
    },
    "polyglot_notebook": {
     "kernelName": "csharp"
    },
    "vscode": {
     "languageId": "polyglot-notebook"
    }
   },
   "outputs": [
    {
     "name": "stdout",
     "output_type": "stream",
     "text": [
      "Sure, here's a joke for you:\n",
      "\n",
      "Why don't superheroes like to play hide and seek with The Invisible Man?\n",
      "\n",
      "Because he always wins, even when they use their x-ray vision!\r\n"
     ]
    }
   ],
   "source": [
    "Console.WriteLine(result.GetValue<string>());"
   ]
  },
  {
   "cell_type": "markdown",
   "metadata": {},
   "source": [
    "As you can see, in this execution we have only passed the input parameter, but not the hero about whom we wanted to generate this joke. To be able to send more than one parameter you need to create an object of the **ContextVariables** type:\n"
   ]
  },
  {
   "cell_type": "code",
   "execution_count": 15,
   "metadata": {
    "dotnet_interactive": {
     "language": "csharp"
    },
    "polyglot_notebook": {
     "kernelName": "csharp"
    },
    "vscode": {
     "languageId": "polyglot-notebook"
    }
   },
   "outputs": [],
   "source": [
    "var variables = new KernelArguments() {\n",
    "    [\"input\"] = \"Tell me a Christmas joke\",\n",
    "    [\"hero\"] = \"Ironman\"\n",
    "};"
   ]
  },
  {
   "cell_type": "markdown",
   "metadata": {},
   "source": [
    "To be able to use these two values as part of the call, simply put it as the first argument.\n"
   ]
  },
  {
   "cell_type": "code",
   "execution_count": 16,
   "metadata": {
    "dotnet_interactive": {
     "language": "csharp"
    },
    "polyglot_notebook": {
     "kernelName": "csharp"
    },
    "vscode": {
     "languageId": "polyglot-notebook"
    }
   },
   "outputs": [],
   "source": [
    "var result = await kernel.InvokeAsync(funPluginFunctions[\"Joke\"], variables);"
   ]
  },
  {
   "cell_type": "markdown",
   "metadata": {},
   "source": [
    "Now check if the joke is about the hero specified as a parameter.\n"
   ]
  },
  {
   "cell_type": "code",
   "execution_count": 17,
   "metadata": {
    "dotnet_interactive": {
     "language": "csharp"
    },
    "polyglot_notebook": {
     "kernelName": "csharp"
    },
    "vscode": {
     "languageId": "polyglot-notebook"
    }
   },
   "outputs": [
    {
     "name": "stdout",
     "output_type": "stream",
     "text": [
      "Why did Ironman decorate the Christmas tree with tiny repulsor beams?\n",
      "\n",
      "Because he wanted to make sure his Christmas was lit... but also well-defended from Ultron!\r\n"
     ]
    }
   ],
   "source": [
    "Console.WriteLine(result.GetValue<string>());"
   ]
  },
  {
   "cell_type": "markdown",
   "metadata": {},
   "source": [
    "In the same way, we can use the functions included in **WriterPlugin**:\n"
   ]
  },
  {
   "cell_type": "code",
   "execution_count": 18,
   "metadata": {
    "dotnet_interactive": {
     "language": "csharp"
    },
    "polyglot_notebook": {
     "kernelName": "csharp"
    },
    "vscode": {
     "languageId": "polyglot-notebook"
    }
   },
   "outputs": [],
   "source": [
    "// Load the WriterPlugin from the Plugins Directory\n",
    "var pluginsDirectoryWriter = Path.Combine(System.IO.Directory.GetCurrentDirectory(), \"SemanticFunctions\", \"WriterPlugin\");\n",
    "\n",
    "var writerPluginFunctions = kernel.ImportPluginFromPromptDirectory(pluginsDirectoryWriter);\n"
   ]
  },
  {
   "cell_type": "markdown",
   "metadata": {},
   "source": [
    "One that generates stories:\n"
   ]
  },
  {
   "cell_type": "code",
   "execution_count": 21,
   "metadata": {
    "dotnet_interactive": {
     "language": "csharp"
    },
    "polyglot_notebook": {
     "kernelName": "csharp"
    },
    "vscode": {
     "languageId": "polyglot-notebook"
    }
   },
   "outputs": [
    {
     "name": "stdout",
     "output_type": "stream",
     "text": [
      "Una vez, en una fría noche de Navidad 🎄❄️, nuestro héroe Ironman, también conocido como Tony Stark, volaba por los cielos 🌌 vigilando la tranquila ciudad de Nueva York. \n",
      "\n",
      "A mitad de noche 🌛, escuchó un leve sonido 🎵 que provenía del callejón. Descendió para investigar y encontró a un niño llorando 😢. El niño, asustado por el frío y la oscuridad, había perdido a su madre en la multitud de las fiestas navideñas.\n",
      "\n",
      "Ironman, con su corazón heroico, decidió ayudar. Levantó al niño en sus brazos y con su traje luminoso ✨ voló sobre la ciudad en busca de su madre. Desde el cielo 🌠, el niño se sintió maravillado por las luces brillantes de la ciudad y su miedo se convirtió en admiración 😮.\n",
      "\n",
      "Finalmente, encontraron a la madre del niño en un parque. Al ver a su hijo a salvo y sano, la madre lloró de felicidad 😭. Le agradeció a Ironman, quien le sonrió bajo su casco de hierro.\n",
      "\n",
      "Antes de irse, Ironman dejó un regalo 🎁 debajo del árbol de Navidad para el niño. Luego, se elevó en el cielo y la noche nevada se llenó de destellos rojos y dorados mientras volaba lejos.\n",
      "\n",
      "El niño y su madre regresaron a su casa, llenos de alegría y gratitud 😊. Abrieron el regalo y dentro encontraron un pequeño juguete de Ironman. Cada vez que el niño lo miraba, recordaba la mágica noche de Navidad que había pasado junto al verdadero Ironman.\n",
      "\n",
      "Esa noche, Ironman no solo salvó al niño, sino también la esencia de la Navidad: el amor, la bondad y la alegría de dar 🎁🎄❤️. Y ese fue verdaderamente un milagro navideño. Fin.\r\n"
     ]
    }
   ],
   "source": [
    "var variables = new KernelArguments() {\n",
    "    [\"input\"] = \"Tell me a Christmas Story\",\n",
    "    [\"hero\"] = \"Ironman\"\n",
    "};\n",
    "\n",
    "var result = await kernel.InvokeAsync(writerPluginFunctions[\"StoryGen\"], variables);\n",
    "Console.WriteLine(result);"
   ]
  },
  {
   "cell_type": "markdown",
   "metadata": {},
   "source": [
    "Or even to create messages for when the heroes 🦸🏻‍♀️ are on vacation ✈️🚢🌴:\n"
   ]
  },
  {
   "cell_type": "code",
   "execution_count": 22,
   "metadata": {
    "dotnet_interactive": {
     "language": "csharp"
    },
    "polyglot_notebook": {
     "kernelName": "csharp"
    },
    "vscode": {
     "languageId": "polyglot-notebook"
    }
   },
   "outputs": [
    {
     "ename": "Error",
     "evalue": "Microsoft.SemanticKernel.KernelFunctionCanceledException: The invocation of function 'OOF' was canceled.\r\n ---> System.Threading.Tasks.TaskCanceledException: The operation was cancelled because it exceeded the configured timeout of 0:01:40. Network timeout can be adjusted in ClientOptions.Retry.NetworkTimeout.\r\n ---> System.Threading.Tasks.TaskCanceledException: The operation was canceled.\r\n ---> System.Threading.Tasks.TaskCanceledException: The operation was canceled.\r\n ---> System.IO.IOException: Unable to read data from the transport connection: The I/O operation has been aborted because of either a thread exit or an application request..\r\n ---> System.Net.Sockets.SocketException (995): The I/O operation has been aborted because of either a thread exit or an application request.\r\n   --- End of inner exception stack trace ---\r\n   at System.Net.Sockets.Socket.AwaitableSocketAsyncEventArgs.ThrowException(SocketError error, CancellationToken cancellationToken)\r\n   at System.Net.Sockets.Socket.AwaitableSocketAsyncEventArgs.System.Threading.Tasks.Sources.IValueTaskSource<System.Int32>.GetResult(Int16 token)\r\n   at System.Net.Security.SslStream.EnsureFullTlsFrameAsync[TIOAdapter](CancellationToken cancellationToken, Int32 estimatedSize)\r\n   at System.Runtime.CompilerServices.PoolingAsyncValueTaskMethodBuilder`1.StateMachineBox`1.System.Threading.Tasks.Sources.IValueTaskSource<TResult>.GetResult(Int16 token)\r\n   at System.Net.Security.SslStream.ReadAsyncInternal[TIOAdapter](Memory`1 buffer, CancellationToken cancellationToken)\r\n   at System.Runtime.CompilerServices.PoolingAsyncValueTaskMethodBuilder`1.StateMachineBox`1.System.Threading.Tasks.Sources.IValueTaskSource<TResult>.GetResult(Int16 token)\r\n   at System.Net.Http.HttpConnection.<EnsureReadAheadTaskHasStarted>g__ReadAheadWithZeroByteReadAsync|40_0()\r\n   at System.Net.Http.HttpConnection.SendAsync(HttpRequestMessage request, Boolean async, CancellationToken cancellationToken)\r\n   --- End of inner exception stack trace ---\r\n   at System.Net.Http.HttpConnection.SendAsync(HttpRequestMessage request, Boolean async, CancellationToken cancellationToken)\r\n   at System.Net.Http.HttpConnectionPool.SendWithVersionDetectionAndRetryAsync(HttpRequestMessage request, Boolean async, Boolean doRequestAuth, CancellationToken cancellationToken)\r\n   at System.Net.Http.DiagnosticsHandler.SendAsyncCore(HttpRequestMessage request, Boolean async, CancellationToken cancellationToken)\r\n   at System.Net.Http.RedirectHandler.SendAsync(HttpRequestMessage request, Boolean async, CancellationToken cancellationToken)\r\n   at System.Net.Http.HttpClient.<SendAsync>g__Core|83_0(HttpRequestMessage request, HttpCompletionOption completionOption, CancellationTokenSource cts, Boolean disposeCts, CancellationTokenSource pendingRequestsCts, CancellationToken originalCancellationToken)\r\n   --- End of inner exception stack trace ---\r\n   at System.Net.Http.HttpClient.HandleFailure(Exception e, Boolean telemetryStarted, HttpResponseMessage response, CancellationTokenSource cts, CancellationToken cancellationToken, CancellationTokenSource pendingRequestsCts)\r\n   at System.Net.Http.HttpClient.<SendAsync>g__Core|83_0(HttpRequestMessage request, HttpCompletionOption completionOption, CancellationTokenSource cts, Boolean disposeCts, CancellationTokenSource pendingRequestsCts, CancellationToken originalCancellationToken)\r\n   at Azure.Core.Pipeline.HttpClientTransport.ProcessAsync(HttpMessage message, Boolean async)\r\n   at Azure.Core.Pipeline.HttpPipelineTransportPolicy.ProcessAsync(HttpMessage message, ReadOnlyMemory`1 pipeline)\r\n   at Azure.Core.Pipeline.ResponseBodyPolicy.ProcessAsync(HttpMessage message, ReadOnlyMemory`1 pipeline, Boolean async)\r\n   --- End of inner exception stack trace ---\r\n   at Azure.Core.Pipeline.ResponseBodyPolicy.ThrowIfCancellationRequestedOrTimeout(CancellationToken originalToken, CancellationToken timeoutToken, Exception inner, TimeSpan timeout)\r\n   at Azure.Core.Pipeline.ResponseBodyPolicy.ProcessAsync(HttpMessage message, ReadOnlyMemory`1 pipeline, Boolean async)\r\n   at Azure.Core.Pipeline.BearerTokenAuthenticationPolicy.ProcessAsync(HttpMessage message, ReadOnlyMemory`1 pipeline, Boolean async)\r\n   at Azure.Core.Pipeline.RedirectPolicy.ProcessAsync(HttpMessage message, ReadOnlyMemory`1 pipeline, Boolean async)\r\n   at Azure.Core.Pipeline.RetryPolicy.ProcessAsync(HttpMessage message, ReadOnlyMemory`1 pipeline, Boolean async)\r\n   at Azure.Core.Pipeline.RetryPolicy.ProcessAsync(HttpMessage message, ReadOnlyMemory`1 pipeline, Boolean async)\r\n   at Azure.Core.HttpPipelineExtensions.ProcessMessageAsync(HttpPipeline pipeline, HttpMessage message, RequestContext requestContext, CancellationToken cancellationToken)\r\n   at Azure.AI.OpenAI.OpenAIClient.GetChatCompletionsAsync(ChatCompletionsOptions chatCompletionsOptions, CancellationToken cancellationToken)\r\n   at Microsoft.SemanticKernel.Connectors.OpenAI.ClientCore.RunRequestAsync[T](Func`1 request)\r\n   at Microsoft.SemanticKernel.Connectors.OpenAI.ClientCore.GetChatMessageContentsAsync(ChatHistory chat, PromptExecutionSettings executionSettings, Kernel kernel, CancellationToken cancellationToken)\r\n   at Microsoft.SemanticKernel.ChatCompletion.ChatCompletionServiceExtensions.GetChatMessageContentAsync(IChatCompletionService chatCompletionService, String prompt, PromptExecutionSettings executionSettings, Kernel kernel, CancellationToken cancellationToken)\r\n   at Microsoft.SemanticKernel.KernelFunctionFromPrompt.InvokeCoreAsync(Kernel kernel, KernelArguments arguments, CancellationToken cancellationToken)\r\n   at Microsoft.SemanticKernel.KernelFunction.InvokeAsync(Kernel kernel, KernelArguments arguments, CancellationToken cancellationToken)\r\n   --- End of inner exception stack trace ---\r\n   at Microsoft.SemanticKernel.KernelFunction.HandleException(Exception ex, ILogger logger, Activity activity, KernelFunction kernelFunction, Kernel kernel, KernelArguments arguments, FunctionResult result, TagList& tags)\r\n   at Microsoft.SemanticKernel.KernelFunction.InvokeAsync(Kernel kernel, KernelArguments arguments, CancellationToken cancellationToken)\r\n   at Submission#22.<<Initialize>>d__0.MoveNext()\r\n--- End of stack trace from previous location ---\r\n   at Microsoft.CodeAnalysis.Scripting.ScriptExecutionState.RunSubmissionsAsync[TResult](ImmutableArray`1 precedingExecutors, Func`2 currentExecutor, StrongBox`1 exceptionHolderOpt, Func`2 catchExceptionOpt, CancellationToken cancellationToken)",
     "output_type": "error",
     "traceback": [
      "Microsoft.SemanticKernel.KernelFunctionCanceledException: The invocation of function 'OOF' was canceled.\r\n",
      " ---> System.Threading.Tasks.TaskCanceledException: The operation was cancelled because it exceeded the configured timeout of 0:01:40. Network timeout can be adjusted in ClientOptions.Retry.NetworkTimeout.\r\n",
      " ---> System.Threading.Tasks.TaskCanceledException: The operation was canceled.\r\n",
      " ---> System.Threading.Tasks.TaskCanceledException: The operation was canceled.\r\n",
      " ---> System.IO.IOException: Unable to read data from the transport connection: The I/O operation has been aborted because of either a thread exit or an application request..\r\n",
      " ---> System.Net.Sockets.SocketException (995): The I/O operation has been aborted because of either a thread exit or an application request.\r\n",
      "   --- End of inner exception stack trace ---\r\n",
      "   at System.Net.Sockets.Socket.AwaitableSocketAsyncEventArgs.ThrowException(SocketError error, CancellationToken cancellationToken)\r\n",
      "   at System.Net.Sockets.Socket.AwaitableSocketAsyncEventArgs.System.Threading.Tasks.Sources.IValueTaskSource<System.Int32>.GetResult(Int16 token)\r\n",
      "   at System.Net.Security.SslStream.EnsureFullTlsFrameAsync[TIOAdapter](CancellationToken cancellationToken, Int32 estimatedSize)\r\n",
      "   at System.Runtime.CompilerServices.PoolingAsyncValueTaskMethodBuilder`1.StateMachineBox`1.System.Threading.Tasks.Sources.IValueTaskSource<TResult>.GetResult(Int16 token)\r\n",
      "   at System.Net.Security.SslStream.ReadAsyncInternal[TIOAdapter](Memory`1 buffer, CancellationToken cancellationToken)\r\n",
      "   at System.Runtime.CompilerServices.PoolingAsyncValueTaskMethodBuilder`1.StateMachineBox`1.System.Threading.Tasks.Sources.IValueTaskSource<TResult>.GetResult(Int16 token)\r\n",
      "   at System.Net.Http.HttpConnection.<EnsureReadAheadTaskHasStarted>g__ReadAheadWithZeroByteReadAsync|40_0()\r\n",
      "   at System.Net.Http.HttpConnection.SendAsync(HttpRequestMessage request, Boolean async, CancellationToken cancellationToken)\r\n",
      "   --- End of inner exception stack trace ---\r\n",
      "   at System.Net.Http.HttpConnection.SendAsync(HttpRequestMessage request, Boolean async, CancellationToken cancellationToken)\r\n",
      "   at System.Net.Http.HttpConnectionPool.SendWithVersionDetectionAndRetryAsync(HttpRequestMessage request, Boolean async, Boolean doRequestAuth, CancellationToken cancellationToken)\r\n",
      "   at System.Net.Http.DiagnosticsHandler.SendAsyncCore(HttpRequestMessage request, Boolean async, CancellationToken cancellationToken)\r\n",
      "   at System.Net.Http.RedirectHandler.SendAsync(HttpRequestMessage request, Boolean async, CancellationToken cancellationToken)\r\n",
      "   at System.Net.Http.HttpClient.<SendAsync>g__Core|83_0(HttpRequestMessage request, HttpCompletionOption completionOption, CancellationTokenSource cts, Boolean disposeCts, CancellationTokenSource pendingRequestsCts, CancellationToken originalCancellationToken)\r\n",
      "   --- End of inner exception stack trace ---\r\n",
      "   at System.Net.Http.HttpClient.HandleFailure(Exception e, Boolean telemetryStarted, HttpResponseMessage response, CancellationTokenSource cts, CancellationToken cancellationToken, CancellationTokenSource pendingRequestsCts)\r\n",
      "   at System.Net.Http.HttpClient.<SendAsync>g__Core|83_0(HttpRequestMessage request, HttpCompletionOption completionOption, CancellationTokenSource cts, Boolean disposeCts, CancellationTokenSource pendingRequestsCts, CancellationToken originalCancellationToken)\r\n",
      "   at Azure.Core.Pipeline.HttpClientTransport.ProcessAsync(HttpMessage message, Boolean async)\r\n",
      "   at Azure.Core.Pipeline.HttpPipelineTransportPolicy.ProcessAsync(HttpMessage message, ReadOnlyMemory`1 pipeline)\r\n",
      "   at Azure.Core.Pipeline.ResponseBodyPolicy.ProcessAsync(HttpMessage message, ReadOnlyMemory`1 pipeline, Boolean async)\r\n",
      "   --- End of inner exception stack trace ---\r\n",
      "   at Azure.Core.Pipeline.ResponseBodyPolicy.ThrowIfCancellationRequestedOrTimeout(CancellationToken originalToken, CancellationToken timeoutToken, Exception inner, TimeSpan timeout)\r\n",
      "   at Azure.Core.Pipeline.ResponseBodyPolicy.ProcessAsync(HttpMessage message, ReadOnlyMemory`1 pipeline, Boolean async)\r\n",
      "   at Azure.Core.Pipeline.BearerTokenAuthenticationPolicy.ProcessAsync(HttpMessage message, ReadOnlyMemory`1 pipeline, Boolean async)\r\n",
      "   at Azure.Core.Pipeline.RedirectPolicy.ProcessAsync(HttpMessage message, ReadOnlyMemory`1 pipeline, Boolean async)\r\n",
      "   at Azure.Core.Pipeline.RetryPolicy.ProcessAsync(HttpMessage message, ReadOnlyMemory`1 pipeline, Boolean async)\r\n",
      "   at Azure.Core.Pipeline.RetryPolicy.ProcessAsync(HttpMessage message, ReadOnlyMemory`1 pipeline, Boolean async)\r\n",
      "   at Azure.Core.HttpPipelineExtensions.ProcessMessageAsync(HttpPipeline pipeline, HttpMessage message, RequestContext requestContext, CancellationToken cancellationToken)\r\n",
      "   at Azure.AI.OpenAI.OpenAIClient.GetChatCompletionsAsync(ChatCompletionsOptions chatCompletionsOptions, CancellationToken cancellationToken)\r\n",
      "   at Microsoft.SemanticKernel.Connectors.OpenAI.ClientCore.RunRequestAsync[T](Func`1 request)\r\n",
      "   at Microsoft.SemanticKernel.Connectors.OpenAI.ClientCore.GetChatMessageContentsAsync(ChatHistory chat, PromptExecutionSettings executionSettings, Kernel kernel, CancellationToken cancellationToken)\r\n",
      "   at Microsoft.SemanticKernel.ChatCompletion.ChatCompletionServiceExtensions.GetChatMessageContentAsync(IChatCompletionService chatCompletionService, String prompt, PromptExecutionSettings executionSettings, Kernel kernel, CancellationToken cancellationToken)\r\n",
      "   at Microsoft.SemanticKernel.KernelFunctionFromPrompt.InvokeCoreAsync(Kernel kernel, KernelArguments arguments, CancellationToken cancellationToken)\r\n",
      "   at Microsoft.SemanticKernel.KernelFunction.InvokeAsync(Kernel kernel, KernelArguments arguments, CancellationToken cancellationToken)\r\n",
      "   --- End of inner exception stack trace ---\r\n",
      "   at Microsoft.SemanticKernel.KernelFunction.HandleException(Exception ex, ILogger logger, Activity activity, KernelFunction kernelFunction, Kernel kernel, KernelArguments arguments, FunctionResult result, TagList& tags)\r\n",
      "   at Microsoft.SemanticKernel.KernelFunction.InvokeAsync(Kernel kernel, KernelArguments arguments, CancellationToken cancellationToken)\r\n",
      "   at Submission#22.<<Initialize>>d__0.MoveNext()\r\n",
      "--- End of stack trace from previous location ---\r\n",
      "   at Microsoft.CodeAnalysis.Scripting.ScriptExecutionState.RunSubmissionsAsync[TResult](ImmutableArray`1 precedingExecutors, Func`2 currentExecutor, StrongBox`1 exceptionHolderOpt, Func`2 catchExceptionOpt, CancellationToken cancellationToken)"
     ]
    }
   ],
   "source": [
    "var variables = new KernelArguments() {\n",
    "    [\"input\"] = \"Create an OOF for Christmas\",\n",
    "    [\"hero\"] = \"Hulk\"\n",
    "};\n",
    "\n",
    "var result = await kernel.InvokeAsync(writerPluginFunctions[\"OOF\"], variables);\n",
    "Console.WriteLine(result.GetValue<string>());"
   ]
  },
  {
   "cell_type": "markdown",
   "metadata": {},
   "source": [
    "## Native Functions\n",
    "\n",
    "While semantic functions allow us to define and reuse prompts, **with native functions you can make the semantic kernel call functions written in C# or Python**, for tasks that go beyond a call through a prompt.\n",
    "\n",
    "<div style=\"text-align:center\">\n",
    "    <img src=\"images/native-function-explainer.png\" width=\"25%\">\n",
    "</div>"
   ]
  },
  {
   "cell_type": "markdown",
   "metadata": {},
   "source": [
    "### Why do I need native functions in these types of applications?\n",
    "\n",
    "Large language models (LLMs) are excellent for generating text, but there are several tasks they cannot perform on their own. These include, among others:\n",
    "\n",
    "- Retrieving data from external data sources\n",
    "- Knowing what time it is\n",
    "- Performing complex mathematical operations\n",
    "- Completing tasks in the real world\n",
    "- Memorizing and remembering information\n",
    "\n",
    "For these scenarios, and many others, native functions are very useful 👍🏻\n"
   ]
  },
  {
   "cell_type": "markdown",
   "metadata": {},
   "source": [
    "For this example, I'm going to use an API called **SuperHero API**, which requires an API key. You can get it from their website: [https://superheroapi.com/](https://superheroapi.com/)\n",
    "\n",
    "Once you have it, pass it to the prompt that appears with the following line:\n"
   ]
  },
  {
   "cell_type": "code",
   "execution_count": 27,
   "metadata": {
    "dotnet_interactive": {
     "language": "csharp"
    },
    "polyglot_notebook": {
     "kernelName": "csharp"
    },
    "vscode": {
     "languageId": "polyglot-notebook"
    }
   },
   "outputs": [],
   "source": [
    "var superHeroApiKey = (await Microsoft.DotNet.Interactive.Kernel.GetPasswordAsync(\"Give me your Super Hero Api key\")).GetClearTextPassword();"
   ]
  },
  {
   "cell_type": "markdown",
   "metadata": {},
   "source": [
    "Now, to load a native function, we must add this before we build the Kernel.\n",
    "\n",
    "Let's create a new Super Hero Info class and add it as a Plugin."
   ]
  },
  {
   "cell_type": "code",
   "execution_count": 28,
   "metadata": {
    "dotnet_interactive": {
     "language": "csharp"
    },
    "polyglot_notebook": {
     "kernelName": "csharp"
    },
    "vscode": {
     "languageId": "polyglot-notebook"
    }
   },
   "outputs": [],
   "source": [
    "#load \"NativeFunctions/HeroInfo.cs\"\n",
    "\n",
    "var heroInfo = new HeroInfo(superHeroApiKey);\n",
    "builder.Plugins.AddFromObject(heroInfo, \"HeroInfo\");\n",
    "Kernel kernel = builder.Build();"
   ]
  },
  {
   "cell_type": "markdown",
   "metadata": {},
   "source": [
    "The builder now can interact with the local function. Let's make a call to get the alter ego of a super hero."
   ]
  },
  {
   "cell_type": "code",
   "execution_count": 32,
   "metadata": {
    "dotnet_interactive": {
     "language": "csharp"
    },
    "polyglot_notebook": {
     "kernelName": "csharp"
    },
    "vscode": {
     "languageId": "polyglot-notebook"
    }
   },
   "outputs": [
    {
     "name": "stdout",
     "output_type": "stream",
     "text": [
      "Tony Stark\r\n"
     ]
    }
   ],
   "source": [
    "var kernelArgs = new KernelArguments()\n",
    "{\n",
    "    [\"input\"] = \"Ironman\"\n",
    "};\n",
    "\n",
    "var result = await kernel.InvokeAsync<string>(\"HeroInfo\", \"GetAlterEgo\", kernelArgs);\n",
    "Console.WriteLine(result);"
   ]
  },
  {
   "cell_type": "markdown",
   "metadata": {},
   "source": [
    "In this repo, there is another directory called **NativeFunctions** where you can find a class called **HeroInfo.cs**. In it, there is a function decorated with the **KernelFunction** attribute, which allows us to indicate to the Semantic Kernel that it is a native function and, through the **Description** property, also give it information about what the purpose of this function is. In this case, what this method allows us to do is retrieve the alter ego of the superhero that we pass as a parameter, in this example that of Ironman. \n"
   ]
  },
  {
   "cell_type": "markdown",
   "metadata": {},
   "source": [
    "## Planner\n",
    "\n",
    "So far, all the plugins you have seen have been executed intentionally. That is, no one has chosen them for you and you can run them based on your needs. However, this is the most *static* way to interact with Semantic Kernel. There is another option called **Planner** that will leave you astounded 😮\n",
    "\n",
    "Planner is a function that takes a user's request and returns a plan on how to carry out the request. To do this, it uses AI to combine the plugins registered in the core and recombine them into a series of steps that complete a goal.\n",
    "\n",
    "<div style=\"text-align:center;\">\n",
    "    <img src=\"images/the-planner.png\" width=35% />\n",
    "</div>"
   ]
  },
  {
   "cell_type": "markdown",
   "metadata": {},
   "source": [
    "To see it in action, we are going to use the plugins that you already know.\n",
    "\n",
    "The first thing you need is to add the nuget reference to the Planner Handlebars.\n",
    "\n",
    "To learn more about this NuGet package, you can visit [here](https://www.nuget.org/packages/Microsoft.SemanticKernel.Planners.Handlebars/1.5.0-preview#show-readme-container).\n",
    "\n"
   ]
  },
  {
   "cell_type": "code",
   "execution_count": 33,
   "metadata": {
    "dotnet_interactive": {
     "language": "csharp"
    },
    "polyglot_notebook": {
     "kernelName": "csharp"
    },
    "vscode": {
     "languageId": "polyglot-notebook"
    }
   },
   "outputs": [
    {
     "data": {
      "text/html": [
       "<div><div></div><div></div><div><strong>Installed Packages</strong><ul><li><span>Microsoft.SemanticKernel.Planners.Handlebars, 1.5.0-preview</span></li></ul></div></div>"
      ]
     },
     "metadata": {},
     "output_type": "display_data"
    }
   ],
   "source": [
    "#r \"nuget: Microsoft.SemanticKernel.Planners.Handlebars, 1.5.0-preview\""
   ]
  },
  {
   "cell_type": "markdown",
   "metadata": {},
   "source": [
    "Now we are ready to create a planner."
   ]
  },
  {
   "cell_type": "code",
   "execution_count": 34,
   "metadata": {
    "dotnet_interactive": {
     "language": "csharp"
    },
    "polyglot_notebook": {
     "kernelName": "csharp"
    },
    "vscode": {
     "languageId": "polyglot-notebook"
    }
   },
   "outputs": [],
   "source": [
    "using Microsoft.SemanticKernel.Planning.Handlebars;\n",
    "\n",
    "#pragma warning disable SKEXP0060\n",
    "var planner = new HandlebarsPlanner();\n"
   ]
  },
  {
   "cell_type": "markdown",
   "metadata": {},
   "source": [
    "There are different types as you can see [here](https://learn.microsoft.com/en-us/semantic-kernel/ai-orchestration/planners/?tabs=Csharp). In this example, we are going to use the one that executes tasks sequentially.\n",
    "\n",
    "Since you already have all the plugins loaded in your kernel instance, we can ask it something like this:\n"
   ]
  },
  {
   "cell_type": "code",
   "execution_count": 36,
   "metadata": {
    "dotnet_interactive": {
     "language": "csharp"
    },
    "polyglot_notebook": {
     "kernelName": "csharp"
    },
    "vscode": {
     "languageId": "polyglot-notebook"
    }
   },
   "outputs": [
    {
     "name": "stdout",
     "output_type": "stream",
     "text": [
      "Original plan:\n",
      "\n",
      "{\n",
      "  \"Prompt\": \"\\u003Csystem~\\u003E## Instructions\\nExplain how to achieve the user\\u0027s goal using the available helpers with a Handlebars .Net template.\\n\\n## Example\\nIf the user posed the goal below, you could answer with the following template.\\u003C/system~\\u003E\\n\\u003Cuser~\\u003E## Goal\\nI want you to generate 10 random numbers and send them to another helper.\\u003C/user~\\u003E\\n\\u003Cassistant~\\u003EHere\\u0027s a Handlebars template that achieves the goal:\\n\\u0060\\u0060\\u0060handlebars\\n{{!-- Step 0: Extract key values --}}\\n{{set\\n  \\u0022count\\u0022\\n  10\\n}}\\n{{!-- Step 1: Loop using the count --}}\\n{{#each\\n  (range\\n    1\\n    count\\n  )\\n}}\\n  {{!-- Step 2: Create random number --}}\\n  {{set\\n    \\u0022randomNumber\\u0022\\n    (Example-Random\\n      seed=this\\n    )\\n  }}\\n  {{!-- Step 3: Call example helper with random number and print the result to the screen --}}\\n  {{set\\n    \\u0022result\\u0022\\n    (Example-Helper\\n      input=randomNumber\\n    )\\n  }}\\n  {{json (concat \\u0022The result\\u0022 \\u0022 \\u0022 \\u0022is:\\u0022 \\u0022 \\u0022 result)}}\\n{{/each}}\\n\\u0060\\u0060\\u0060\\u003C/assistant~\\u003E\\n\\u003Csystem~\\u003ENow let\\u0027s try the real thing.\\u003C/system~\\u003E\\n\\u003Cuser~\\u003EThe following helpers are available to you:\\n\\n## Built-in block helpers\\n- \\u0060{{#if}}{{/if}}\\u0060\\n- \\u0060{{#unless}}{{/unless}}\\u0060\\n- \\u0060{{#each}}{{/each}}\\u0060 - inside this block, you can use:\\n    - \\u0060this\\u0060 to reference the element being iterated over\\n    - \\u0060@index\\u0060 to reference the current index\\n    - \\u0060@key\\u0060 to reference the current key (for object iteration)\\n- \\u0060{{#with}}{{/with}}\\u0060\\n\\n## Loop helpers\\nIf you need to loop through a list of values with \\u0060{{#each}}\\u0060, you can use the following helpers:\\n- \\u0060{{range}}\\u0060 \\u2013 Generates a list of integral numbers within a specified range, inclusive of the first and last value.\\n- \\u0060{{array}}\\u0060 \\u2013 Generates an array of values from the given values (zero-indexed).\\n\\nIMPORTANT: \\u0060range\\u0060 and \\u0060array\\u0060 are the only supported data structures. Others like \\u0060hash\\u0060 are not supported. Also, you cannot use any methods or properties on the built-in data structures.\\n\\n## Math helpers\\nIf you need to do basic operations, you can use these two helpers with numerical values:\\n- \\u0060{{add}}\\u0060 \\u2013 Adds two values together.\\n- \\u0060{{subtract}}\\u0060 \\u2013 Subtracts the second value from the first.\\n\\n## Comparison helpers\\nIf you need to compare two values, you can use the \\u0060{{equals}}\\u0060 helper.\\nTo use the math and comparison helpers, you must pass in two positional values. For example, to check if the variable \\u0060var\\u0060 is equal to number \\u00601\\u0060, you would use the following helper like so: \\u0060{{#if (equals var 1)}}{{/if}}\\u0060.\\n\\n## Variable helpers\\nIf you need to create or retrieve a variable, you can use the following helpers:\\n- \\u0060{{set}}\\u0060 \\u2013 Creates a variable with the given name and value. It does not print anything to the template, so you must use \\u0060{{json}}\\u0060 to print the value.\\n- \\u0060{{json}}\\u0060 \\u2013 Serializes the given value and prints result as JSON string.\\n- \\u0060{{concat}}\\u0060 \\u2013 Concatenates the given values into one string.\\n\\n## Custom helpers\\nLastly, you have the following custom helpers to use.\\n\\n### \\u0060HeroInfo-GetAlterEgo\\u0060\\nDescription: Get the alter ego of a superhero\\nInputs:\\n    - input: input-string - (required)\\nOutput: String\\n\\nIMPORTANT: You can only use the helpers that are listed above. Do not use any other helpers that are not explicitly listed here. For example, do not use \\u0060{{log}}\\u0060 or any \\u0060{{Example}}\\u0060 helpers, as they are not supported.\\n\\u003C/user~\\u003E\\n\\u003Cuser~\\u003E## Goal\\nI would like you to tell me a joke about Batman, and with that joke, create an out-of-office message using the joke.\\u003C/user~\\u003E\\n\\n\\u003Csystem~\\u003E## Tips and reminders\\n- Add a comment above each step to describe what the step does.\\n- Each variable should have a well-defined name.\\n- Be extremely careful about types. For example, if you pass an array to a helper that expects a number, the template will error out.\\n- Each step should contain only one helper call.\\n\\n## Start\\nFollow these steps to create one Handlebars template to achieve the goal:\\n0. Extract Key Values:\\n  - Read the goal and any user-provided content carefully and identify any relevant strings, numbers, or conditions that you\\u0027ll need. Do not modify any data.\\n  - When generating variables or helper inputs, only use content that the user has explicitly provided or confirmed. If the user did not explicitly provide specific information, you should not invent or assume this information.\\n  - Use the \\u0060{{set}}\\u0060 helper to create a variable for each key value.\\n  - Omit this step if no values are needed from the initial context.\\n1. Choose the Right Helpers:\\n  - Use the provided helpers to manipulate the variables you\\u0027ve created. Start with the basic helpers and only use custom helpers if necessary to accomplish the goal.\\n  - Be careful with syntax, i.e., Always reference a custom helper by its full name and remember to use a \\u0060#\\u0060 for all block helpers.\\n2. Don\\u0027t Create or Assume Unlisted Helpers:\\n  - Only use the helpers provided. Any helper not listed is considered hallucinated and must not be used.\\n  - Do not invent or assume the existence of any functions not explicitly defined above.\\n3. What if I Need More Helpers?\\n  - Stop here if the goal cannot be fully achieved with the provided helpers or you need a helper not defined, and just return a string with an appropriate error message.\\n4. Keep It Simple:\\n  - Avoid using loops or block expressions. They are allowed but not always necessary, so try to find a solution that does not use them.\\n  - Your template should be intelligent and efficient, avoiding unnecessary complexity or redundant steps.\\n5. No Nested Helpers:\\n  - Do not nest helpers or conditionals inside other helpers. This can cause errors in the template.\\n6. Output the Result:\\n  - Once you have completed the necessary steps to reach the goal, use the \\u0060{{json}}\\u0060 helper and print only your final template.\\n  - Ensure your template and all steps are enclosed in a \\u0060\\u0060\\u0060 handlebars block.\\n\\nRemember, the objective is not to use all the helpers available, but to use the correct ones to achieve the desired outcome with a clear and concise template.\\n\\u003C/system~\\u003E\"\n",
      "}\n"
     ]
    }
   ],
   "source": [
    "using System.Text.Json;\n",
    "\n",
    "var ask = \"I would like you to tell me a joke about Batman, and with that joke, create an out-of-office message using the joke.\";\n",
    "#pragma warning disable SKEXP0060\n",
    "var originalPlan = await planner.CreatePlanAsync(kernel, ask);\n",
    "\n",
    "Console.WriteLine(\"Original plan:\\n\");\n",
    "Console.WriteLine(originalPlan);"
   ]
  },
  {
   "cell_type": "markdown",
   "metadata": {},
   "source": [
    "As you can see, the planner knows about the  plugins thanks to the description that I included as part of their implementation.\n",
    "\n",
    "Time to run the plan and get an OOF for **Batman** that includes a **bad joke**.\n"
   ]
  },
  {
   "cell_type": "code",
   "execution_count": 38,
   "metadata": {
    "dotnet_interactive": {
     "language": "csharp"
    },
    "polyglot_notebook": {
     "kernelName": "csharp"
    },
    "vscode": {
     "languageId": "polyglot-notebook"
    }
   },
   "outputs": [
    {
     "name": "stdout",
     "output_type": "stream",
     "text": [
      "Original Plan results:\n",
      "\n",
      "I am currently out of office. Here's a joke to lighten your day: Why did Batman go to the store? Because he ran out of bat-teries!\n"
     ]
    }
   ],
   "source": [
    "// executing the plan\n",
    "#pragma warning disable SKEXP0060\n",
    "var originalPlanResult = await originalPlan.InvokeAsync(kernel, new KernelArguments());\n",
    "\n",
    "Console.WriteLine(\"Original Plan results:\\n\");\n",
    "Console.WriteLine(originalPlanResult.ToString());"
   ]
  },
  {
   "cell_type": "markdown",
   "metadata": {},
   "source": [
    "## LABS\n",
    "\n",
    "The kernel already has the plugins loaded, and the function, let's see if it can solve a more complex example:\n"
   ]
  },
  {
   "cell_type": "code",
   "execution_count": 44,
   "metadata": {
    "dotnet_interactive": {
     "language": "csharp"
    },
    "polyglot_notebook": {
     "kernelName": "csharp"
    },
    "vscode": {
     "languageId": "polyglot-notebook"
    }
   },
   "outputs": [
    {
     "name": "stdout",
     "output_type": "stream",
     "text": [
      "Plan:\n",
      "\n",
      "{{!-- Step 1: Get alter ego for IronMan --}}\n",
      "{{#with (HeroInfo-GetAlterEgo 'IronMan') as |ironManAlterEgo|}}\n",
      "  {{!-- Step 2: Get alter ego for Batman --}}\n",
      "  {{#with (HeroInfo-GetAlterEgo 'Batman') as |batmanAlterEgo|}}\n",
      "    {{!-- Step 3: Set the out of office message --}}\n",
      "    {{set 'message' (concat 'Batman is currently out of office. Please contact ' batmanAlterEgo ' for any urgent matters.')}}\n",
      "\n",
      "    {{!-- Step 4: Output the alter ego of IronMan and the message --}}\n",
      "    {{json (concat 'IronMan is also known as ' ironManAlterEgo '. ' 'Out of Office Message: ' message)}}\n",
      "  {{/with}}\n",
      "{{/with}}\n"
     ]
    }
   ],
   "source": [
    "var ask_complex = \"I would like you to find out IronMan's alter ego, and create an out of office message for IronMan, signing it with his alter ego.\";\n",
    "\n",
    "#pragma warning disable SKEXP0060\n",
    "var plan_complex = await planner.CreatePlanAsync(kernel, ask_complex);\n",
    "\n",
    "Console.WriteLine(\"Plan:\\n\");\n",
    "Console.WriteLine(plan_complex);"
   ]
  },
  {
   "cell_type": "markdown",
   "metadata": {},
   "source": [
    "Let's execute the plan and see its output:\n"
   ]
  },
  {
   "cell_type": "code",
   "execution_count": 42,
   "metadata": {
    "dotnet_interactive": {
     "language": "csharp"
    },
    "polyglot_notebook": {
     "kernelName": "csharp"
    },
    "vscode": {
     "languageId": "polyglot-notebook"
    }
   },
   "outputs": [
    {
     "name": "stdout",
     "output_type": "stream",
     "text": [
      "Complex  Plan results:\n",
      "\n",
      "Batman is currently out of office. Signed, Terry McGinnis\n"
     ]
    }
   ],
   "source": [
    "#pragma warning disable SKEXP0060\n",
    "var complexPlanResult = await plan_complex.InvokeAsync(kernel, new KernelArguments());\n",
    "\n",
    "Console.WriteLine(\"Complex  Plan results:\\n\");\n",
    "Console.WriteLine(complexPlanResult.ToString());"
   ]
  },
  {
   "cell_type": "markdown",
   "metadata": {},
   "source": [
    "## Kernel Memory\n",
    "\n",
    "<img src=\"images/How kernel memory works.png\" width=\"80%\" />"
   ]
  },
  {
   "cell_type": "markdown",
   "metadata": {},
   "source": [
    "For this example, I'm going to use **Open AI** instead of Azure Open AI, so you need to save [an API Key](https://platform.openai.com/account/api-keys) from this in the following variable:\n"
   ]
  },
  {
   "cell_type": "markdown",
   "metadata": {},
   "source": [
    "To be able to use Kernel Memory, you need to add its nuget library, in addition to importing the class that I have generated in the **KernelMemory** directory.\n",
    "\n",
    "To learn more about the Kernel Memory library, you can visit the [NuGet package page](https://www.nuget.org/packages/Microsoft.KernelMemory.Core).\n"
   ]
  },
  {
   "cell_type": "code",
   "execution_count": null,
   "metadata": {
    "dotnet_interactive": {
     "language": "csharp"
    },
    "polyglot_notebook": {
     "kernelName": "csharp"
    },
    "vscode": {
     "languageId": "polyglot-notebook"
    }
   },
   "outputs": [],
   "source": [
    "#r \"nuget: Microsoft.KernelMemory.Core, 0.11.231120.6-preview\"\n",
    "\n",
    "#!import \"KernelMemory/Memories.cs\""
   ]
  },
  {
   "cell_type": "markdown",
   "metadata": {},
   "source": [
    "The first thing I'm going to do is import a few *memories* (texts) and *documents* into Kernel Memory.\n"
   ]
  },
  {
   "cell_type": "code",
   "execution_count": null,
   "metadata": {
    "dotnet_interactive": {
     "language": "csharp"
    },
    "polyglot_notebook": {
     "kernelName": "csharp"
    },
    "vscode": {
     "languageId": "polyglot-notebook"
    }
   },
   "outputs": [],
   "source": [
    "var openApiKey = await Microsoft.DotNet.Interactive.Kernel.GetPasswordAsync(\"Give me your Open AI key\");\n",
    "\n",
    "MemoryKernel.Init(openApiKey.GetClearTextPassword());"
   ]
  },
  {
   "cell_type": "markdown",
   "metadata": {},
   "source": [
    "As you can see in the output, it already takes care of generating the embeddings of the sentences/documents that we pass to it so that the GPT-4 model can generate the answer.\n",
    "Now that we have some content to ask about, let's load this class as another plugin.\n"
   ]
  },
  {
   "cell_type": "code",
   "execution_count": null,
   "metadata": {
    "dotnet_interactive": {
     "language": "csharp"
    },
    "polyglot_notebook": {
     "kernelName": "csharp"
    },
    "vscode": {
     "languageId": "polyglot-notebook"
    }
   },
   "outputs": [],
   "source": [
    "var memoriesPlugin = kernel.ImportFunctions(new MemoryKernel(), \"MemoriesPlugin\");"
   ]
  },
  {
   "cell_type": "markdown",
   "metadata": {},
   "source": [
    "And now let's ask about the content:\n"
   ]
  },
  {
   "cell_type": "code",
   "execution_count": null,
   "metadata": {
    "dotnet_interactive": {
     "language": "csharp"
    },
    "polyglot_notebook": {
     "kernelName": "csharp"
    },
    "vscode": {
     "languageId": "polyglot-notebook"
    }
   },
   "outputs": [],
   "source": [
    "var planner = new SequentialPlanner(kernel);\n",
    "\n",
    "var plan = await planner.CreatePlanAsync(\"Who is Bruno's favorite hero?\");\n",
    "\n",
    "var result = await kernel.RunAsync(plan);\n",
    "\n",
    "Console.WriteLine(result.GetValue<string>());"
   ]
  },
  {
   "cell_type": "code",
   "execution_count": null,
   "metadata": {
    "dotnet_interactive": {
     "language": "csharp"
    },
    "polyglot_notebook": {
     "kernelName": "csharp"
    },
    "vscode": {
     "languageId": "polyglot-notebook"
    }
   },
   "outputs": [],
   "source": [
    "var planner = new SequentialPlanner(kernel);\n",
    "\n",
    "var plan = await planner.CreatePlanAsync(\"What was the last movie Gisela saw?\");\n",
    "\n",
    "var result = await kernel.RunAsync(plan);\n",
    "\n",
    "Console.WriteLine(result.GetValue<string>());"
   ]
  },
  {
   "cell_type": "markdown",
   "metadata": {},
   "source": [
    "We can also ask about the PDF that I included:\n"
   ]
  },
  {
   "cell_type": "code",
   "execution_count": null,
   "metadata": {
    "dotnet_interactive": {
     "language": "csharp"
    },
    "polyglot_notebook": {
     "kernelName": "csharp"
    },
    "vscode": {
     "languageId": "polyglot-notebook"
    }
   },
   "outputs": [],
   "source": [
    "var planner = new SequentialPlanner(kernel);\n",
    "\n",
    "var plan = await planner.CreatePlanAsync(\"¿Qué incluye este volumen de batman?\");\n",
    "\n",
    "var result = await kernel.RunAsync(plan);\n",
    "\n",
    "Console.WriteLine(result.GetValue<string>());"
   ]
  }
 ],
 "metadata": {
  "kernelspec": {
   "display_name": ".NET (C#)",
   "language": "C#",
   "name": ".net-csharp"
  },
  "language_info": {
   "name": "python"
  },
  "polyglot_notebook": {
   "kernelInfo": {
    "defaultKernelName": "csharp",
    "items": [
     {
      "aliases": [],
      "name": "csharp"
     }
    ]
   }
  }
 },
 "nbformat": 4,
 "nbformat_minor": 2
}
