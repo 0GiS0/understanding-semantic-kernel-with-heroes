{
 "cells": [
  {
   "cell_type": "markdown",
   "metadata": {},
   "source": [
    "# 🦸🏻 Comprendiendo el Semantic Kernel con Héroes 🦸🏼‍♀️\n",
    "\n",
    "Semantic Kernel ha sido creado para permitir a los desarrolladores integrar Inteligencia Artificial en sus aplicaciones de manera fluida. Para lograr esto, proporciona un conjunto de características que te permitirán añadir modelos, prompts, funciones nativas y memorias sin requerir un conocimiento profundo de IA 🥲. Por eso se dice que Semantic Kernel simula el cerebro 🧠 de tu aplicación.\n",
    "\n",
    "<div style=\"text-align:center\">\n",
    "    <img src=\"images/semantic-kernel.png\" width=\"15%\">\n",
    "</div>"
   ]
  },
  {
   "cell_type": "markdown",
   "metadata": {},
   "source": [
    "## (Opcional) - Creando un Servicio Azure Open AI 🤖 y Despliegues\n",
    "\n",
    "Antes de sumergirnos en Semantic Kernel 🛝, necesitarás tener configurado uno de los servicios soportados. Actualmente, puedes elegir entre las siguientes opciones: [Azure Open AI](https://azure.microsoft.com/en-us/products/ai-services/openai-service), [Open AI](https://openai.com/), o [Hugging Face](https://huggingface.co/).\n",
    "\n",
    "En este ejemplo, voy a usar Azure Open AI.\n",
    "\n",
    "Por lo tanto, a través de Azure CLI, necesito iniciar sesión:\n"
   ]
  },
  {
   "cell_type": "code",
   "execution_count": null,
   "metadata": {
    "dotnet_interactive": {
     "language": "pwsh"
    },
    "polyglot_notebook": {
     "kernelName": "pwsh"
    },
    "tags": [],
    "vscode": {
     "languageId": "polyglot-notebook"
    }
   },
   "outputs": [],
   "source": [
    "az login"
   ]
  },
  {
   "cell_type": "markdown",
   "metadata": {},
   "source": [
    "Si lo necesitas, porque tienes muchas suscripciones en tu cuenta, puedes seleccionar la que te interesa (o la que tiene acceso a Azure Open AI 😊) a través del siguiente comando:\n"
   ]
  },
  {
   "cell_type": "code",
   "execution_count": null,
   "metadata": {
    "dotnet_interactive": {
     "language": "pwsh"
    },
    "polyglot_notebook": {
     "kernelName": "pwsh"
    },
    "vscode": {
     "languageId": "polyglot-notebook"
    }
   },
   "outputs": [],
   "source": [
    "az account set -n \"Visual Studio Enterprise Subscription\""
   ]
  },
  {
   "cell_type": "markdown",
   "metadata": {},
   "source": [
    "Ahora, para poder crear lo que necesitas para este cuaderno, establece las siguientes variables con tus valores preferidos:\n"
   ]
  },
  {
   "cell_type": "code",
   "execution_count": null,
   "metadata": {
    "dotnet_interactive": {
     "language": "pwsh"
    },
    "polyglot_notebook": {
     "kernelName": "pwsh"
    },
    "vscode": {
     "languageId": "polyglot-notebook"
    }
   },
   "outputs": [],
   "source": [
    "$RESOURCE_GROUP=\"understanding-semantic-kernel\"\n",
    "$LOCATION=\"canadaeast\"\n",
    "$AZURE_OPEN_AI=\"ai-for-heroes\""
   ]
  },
  {
   "cell_type": "markdown",
   "metadata": {},
   "source": [
    "Con ellos, ahora puedes crear el grupo de recursos:\n"
   ]
  },
  {
   "cell_type": "code",
   "execution_count": null,
   "metadata": {
    "dotnet_interactive": {
     "language": "pwsh"
    },
    "polyglot_notebook": {
     "kernelName": "pwsh"
    },
    "vscode": {
     "languageId": "polyglot-notebook"
    }
   },
   "outputs": [],
   "source": [
    "az group create `\n",
    "--name $RESOURCE_GROUP `\n",
    "--location $LOCATION"
   ]
  },
  {
   "cell_type": "markdown",
   "metadata": {},
   "source": [
    "Un recurso de Azure Open AI:\n"
   ]
  },
  {
   "cell_type": "code",
   "execution_count": null,
   "metadata": {
    "dotnet_interactive": {
     "language": "pwsh"
    },
    "polyglot_notebook": {
     "kernelName": "pwsh"
    },
    "vscode": {
     "languageId": "polyglot-notebook"
    }
   },
   "outputs": [],
   "source": [
    "az cognitiveservices account create `\n",
    "--name $AZURE_OPEN_AI `\n",
    "--custom-domain $AZURE_OPEN_AI `\n",
    "--resource-group $RESOURCE_GROUP `\n",
    "--kind OpenAI `\n",
    "--sku S0 `\n",
    "--location $LOCATION"
   ]
  },
  {
   "cell_type": "markdown",
   "metadata": {},
   "source": [
    "Y finalmente, necesitas un despliegue de cualquiera de los modelos que tienes disponibles. En este ejemplo, voy a usar gpt-4:"
   ]
  },
  {
   "cell_type": "code",
   "execution_count": null,
   "metadata": {
    "dotnet_interactive": {
     "language": "pwsh"
    },
    "polyglot_notebook": {
     "kernelName": "pwsh"
    },
    "vscode": {
     "languageId": "polyglot-notebook"
    }
   },
   "outputs": [],
   "source": [
    "az cognitiveservices account deployment create `\n",
    "--name $AZURE_OPEN_AI `\n",
    "--resource-group $RESOURCE_GROUP `\n",
    "--deployment-name \"gpt-4\" `\n",
    "--model-name \"gpt-4\" `\n",
    "--model-version \"0613\"  `\n",
    "--model-format OpenAI `\n",
    "--sku-capacity \"10\" `\n",
    "--sku-name \"Standard\""
   ]
  },
  {
   "cell_type": "markdown",
   "metadata": {},
   "source": [
    "El parámetro **sku-capacity** nos permite especificar cuántos tokens por minuto podemos enviar a este modelo. Para ver cómo se está utilizando tu cuota, puedes usar este otro comando:\n"
   ]
  },
  {
   "cell_type": "code",
   "execution_count": null,
   "metadata": {
    "dotnet_interactive": {
     "language": "pwsh"
    },
    "polyglot_notebook": {
     "kernelName": "pwsh"
    },
    "vscode": {
     "languageId": "polyglot-notebook"
    }
   },
   "outputs": [],
   "source": [
    "az cognitiveservices usage list `\n",
    "-l $LOCATION"
   ]
  },
  {
   "cell_type": "markdown",
   "metadata": {},
   "source": [
    "Carga las variables de entorno con tu endpoint y clave de Azure Open AI:"
   ]
  },
  {
   "cell_type": "code",
   "execution_count": null,
   "metadata": {
    "dotnet_interactive": {
     "language": "pwsh"
    },
    "polyglot_notebook": {
     "kernelName": "pwsh"
    },
    "vscode": {
     "languageId": "polyglot-notebook"
    }
   },
   "outputs": [],
   "source": [
    "$env:AZURE_OPEN_AI_KEY =$(az cognitiveservices account keys list `\n",
    "--name $AZURE_OPEN_AI `\n",
    "--resource-group $RESOURCE_GROUP `\n",
    "--query \"key1\" `\n",
    "--output tsv)\n",
    "\n",
    "$env:AZURE_OPEN_AI_ENDPOINT =$(az cognitiveservices account show `\n",
    "--name $AZURE_OPEN_AI `\n",
    "--resource-group $RESOURCE_GROUP `\n",
    "--query \"properties.endpoint\" `\n",
    "--output tsv)\n",
    "\n",
    "#dir env:AZURE_OPEN_AI_KEY\n",
    "#dir env:AZURE_OPEN_AI_ENDPOINT"
   ]
  },
  {
   "cell_type": "markdown",
   "metadata": {},
   "source": [
    "## Cómo empezar con Semantic Kernel\n"
   ]
  },
  {
   "cell_type": "markdown",
   "metadata": {},
   "source": [
    "Lo primero que necesitas para poder ejecutar Semantic Kernel en este cuaderno es instalar la biblioteca **Microsoft.SemanticKernel**, que actualmente está en la versión **1.5.0** (prometo seguir actualizando 🤓).\n",
    "\n",
    "Puedes encontrar más información sobre esta biblioteca y sus actualizaciones en la página oficial de NuGet [aquí](https://www.nuget.org/packages/Microsoft.SemanticKernel).\n"
   ]
  },
  {
   "cell_type": "code",
   "execution_count": null,
   "metadata": {
    "dotnet_interactive": {
     "language": "csharp"
    },
    "polyglot_notebook": {
     "kernelName": "csharp"
    },
    "vscode": {
     "languageId": "polyglot-notebook"
    }
   },
   "outputs": [],
   "source": [
    "#r \"nuget: Microsoft.SemanticKernel, 1.5.0\""
   ]
  },
  {
   "cell_type": "markdown",
   "metadata": {},
   "source": [
    "Con ello, ahora puedes instanciar el cerebro de tu aplicación a través de **KernelBuilder**. Tiene muchos conectores a los modelos y otras cosas, pero por ahora, comencemos con lo básico:\n"
   ]
  },
  {
   "cell_type": "code",
   "execution_count": null,
   "metadata": {
    "dotnet_interactive": {
     "language": "csharp"
    },
    "polyglot_notebook": {
     "kernelName": "csharp"
    },
    "vscode": {
     "languageId": "polyglot-notebook"
    }
   },
   "outputs": [],
   "source": [
    "using Microsoft.SemanticKernel;\n",
    "\n",
    "// Create a Builder\n",
    "var builder = Kernel.CreateBuilder();"
   ]
  },
  {
   "cell_type": "markdown",
   "metadata": {},
   "source": [
    "Dependiendo del tipo de tarea que quieras realizar, puedes usar diferentes métodos con el prefijo **With**. Por ahora, vamos a usar algunos de los modelos de tipo **completion** o completado.\n"
   ]
  },
  {
   "cell_type": "code",
   "execution_count": null,
   "metadata": {
    "dotnet_interactive": {
     "language": "csharp"
    },
    "polyglot_notebook": {
     "kernelName": "csharp"
    },
    "vscode": {
     "languageId": "polyglot-notebook"
    }
   },
   "outputs": [],
   "source": [
    "// OpenAI keys\n",
    "var modelId = \"gpt-4\";\n",
    "var apiKey = (await Microsoft.DotNet.Interactive.Kernel.GetPasswordAsync(\"Give me your Open AI key\")).GetClearTextPassword();\n",
    "\n",
    "// Create a chat completion service\n",
    "builder.AddOpenAIChatCompletion(modelId, apiKey);"
   ]
  },
  {
   "cell_type": "code",
   "execution_count": null,
   "metadata": {
    "dotnet_interactive": {
     "language": "csharp"
    },
    "polyglot_notebook": {
     "kernelName": "csharp"
    },
    "vscode": {
     "languageId": "polyglot-notebook"
    }
   },
   "outputs": [],
   "source": [
    "// Azure OpenAI keys\n",
    "var deploymentName = \"gpt-4\";\n",
    "var endpoint = Environment.GetEnvironmentVariable(\"AZURE_OPEN_AI_ENDPOINT\");\n",
    "var apiKey = Environment.GetEnvironmentVariable(\"AZURE_OPEN_AI_KEY\");\n",
    "\n",
    "// Create a chat completion service\n",
    "builder.AddAzureOpenAIChatCompletion(deploymentName, endpoint, apiKey);"
   ]
  },
  {
   "cell_type": "markdown",
   "metadata": {},
   "source": [
    "Con la configuración realizada, lo único que queda es generar el kernel con todo configurado:\n"
   ]
  },
  {
   "cell_type": "code",
   "execution_count": null,
   "metadata": {
    "dotnet_interactive": {
     "language": "csharp"
    },
    "polyglot_notebook": {
     "kernelName": "csharp"
    },
    "vscode": {
     "languageId": "polyglot-notebook"
    }
   },
   "outputs": [],
   "source": [
    "var kernel = builder.Build();"
   ]
  },
  {
   "cell_type": "markdown",
   "metadata": {},
   "source": [
    "## Uso de plugins de Semantic Kernel\n",
    "\n",
    "Los plugins son el núcleo de Semantic Kernel. Con ellos, encapsulas capacidades para que sean reutilizables, mantenibles y planificables (lo entenderás más tarde 🙃). Hay dos tipos: aquellos que consisten en plantillas de indicaciones llamadas **Semantic Functions** y funciones nativas del lenguaje de programación elegido llamadas **Native Functions**.\n",
    "\n",
    "<div style=\"text-align:center\">\n",
    "    <img src=\"images/writer-plugin-example.png\" width=\"40%\" />\n",
    "</div>"
   ]
  },
  {
   "cell_type": "markdown",
   "metadata": {},
   "source": [
    "## Funciones Semánticas\n",
    "\n",
    "Cuando hablas con modelos de inteligencia artificial, debes hacerlo con lo que se conoce como un *prompt*. Esto puede variar desde una simple frase hasta algo más elaborado, permitiendo que el modelo comprenda no solo lo que queremos sino también cómo lo queremos. Si echas un vistazo a la documentación oficial, define este tipo de función como la boca 👄 y los oídos 👂🏻 de tu cerebro 🧠. 🤖🌐\n",
    "\n",
    "<div style=\"text-align:center\">\n",
    "    <img src=\"images/semantic-function-explainer.png\" width=\"20%\" />\n",
    "</div>"
   ]
  },
  {
   "cell_type": "markdown",
   "metadata": {},
   "source": [
    "Como parte de este repositorio, tienes una carpeta llamada **SemanticFunctions** que tiene diferentes funciones de este tipo:\n",
    "\n",
    "- **FunPlugin**: Esto nos permite pedirle al modelo que haga bromas sobre héroes bajo ciertas condiciones, a través de la función **Joke**.\n",
    "- **WritePlugin**: Para mostrarte que dentro de un plugin puedes tener diferentes funciones, en este directorio tenemos dos relacionadas con el arte de escribir: la primera, **OOF**, nos permite generar el mensaje \"Fuera de la oficina\" 🏢📧 para superhéroes y la segunda **StoryGen** nos ayudará a crear historias, también sobre superhéroes 🦸🏻‍♂️🦸🏻‍♀️.\n",
    "\n",
    "Para que nuestro kernel sepa que estos plugins están disponibles, primero necesitas obtener la ruta del directorio:\n"
   ]
  },
  {
   "cell_type": "code",
   "execution_count": null,
   "metadata": {
    "dotnet_interactive": {
     "language": "csharp"
    },
    "polyglot_notebook": {
     "kernelName": "csharp"
    },
    "vscode": {
     "languageId": "polyglot-notebook"
    }
   },
   "outputs": [],
   "source": [
    "using System.IO;\n",
    "\n",
    "var pluginsDirectory = Path.Combine(System.IO.Directory.GetCurrentDirectory(), \"SemanticFunctions\", \"FunPlugIn\");"
   ]
  },
  {
   "cell_type": "markdown",
   "metadata": {},
   "source": [
    "Y luego comienza a cargar los plugins que deseas:\n"
   ]
  },
  {
   "cell_type": "code",
   "execution_count": null,
   "metadata": {
    "dotnet_interactive": {
     "language": "csharp"
    },
    "polyglot_notebook": {
     "kernelName": "csharp"
    },
    "vscode": {
     "languageId": "polyglot-notebook"
    }
   },
   "outputs": [],
   "source": [
    "// Load the FunPlugin from the Plugins Directory\n",
    "var funPluginFunctions = kernel.ImportPluginFromPromptDirectory(pluginsDirectory);"
   ]
  },
  {
   "cell_type": "markdown",
   "metadata": {},
   "source": [
    "Para poder invocar una función de este tipo, puedes hacerlo de la siguiente manera:\n"
   ]
  },
  {
   "cell_type": "code",
   "execution_count": null,
   "metadata": {
    "dotnet_interactive": {
     "language": "csharp"
    },
    "polyglot_notebook": {
     "kernelName": "csharp"
    },
    "vscode": {
     "languageId": "polyglot-notebook"
    }
   },
   "outputs": [],
   "source": [
    "var joke = new KernelArguments() { [\"input\"] = \"tell me a joke\" };\n",
    "var result = await kernel.InvokeAsync(funPluginFunctions[\"Joke\"], joke);"
   ]
  },
  {
   "cell_type": "markdown",
   "metadata": {},
   "source": []
  },
  {
   "cell_type": "markdown",
   "metadata": {},
   "source": [
    "Como puedes ver, solo usando **kernel.RunAsync** y pasando mi solicitud como parámetros y qué función, en este caso **Joke**, dentro del plugin, en este caso **FunPlugin**, quiero usar.\n",
    "\n",
    "Cada una de estas funciones consta de dos archivos:\n",
    "\n",
    "- **skprompt.txt** es el archivo donde se define el prompt para enviar al modelo en un formato de plantilla, de modo que pueda recibir parámetros y hacerlos más reutilizables.\n",
    "\n",
    "\n",
    "    ```\n",
    "    WRITE EXACTLY ONE JOKE or HUMOROUS STORY ABOUT THE SUBJECT BELOW\n",
    "\n",
    "    JOKE MUST BE:\n",
    "    - IN ENGLISH\n",
    "\n",
    "    BE CREATIVE AND FUNNY. I WANT TO LAUGH.\n",
    "\n",
    "    Incorporate the hero if provided: {{$hero}}\n",
    "    +++++\n",
    "\n",
    "    {{$input}}\n",
    "    +++++\n",
    "    ```"
   ]
  },
  {
   "cell_type": "markdown",
   "metadata": {},
   "source": [
    "- **config.json**, which allows us to indicate the maximum number of tokens allowed for this call (**max_tokens**), the temperature to control the randomness of the responses (**temperature**), which means that closer to 1 they will be more random and closer to zero more determined and focused on the most likely response, **top_p** is used to control the diversity of the responses, where a value of 0.0 means that only the most likely responses will be considered and 1 where all possible responses will be considered and **presence_penalty** and **frequency_penalty** to adjust the penalty for the presence and frequency of the tokens in the generated responses. On the other hand, if the skprompt.txt file receives parameters, they must also be defined in this file in the **parameters** array of the **input** object.\n",
    "\n",
    "  ```javascript\n",
    "  {\n",
    "    \"schema\": 1,\n",
    "    \"description\": \"Generate a funny joke about heroes\",\n",
    "    \"models\": [\n",
    "      {\n",
    "        \"max_tokens\": 150,\n",
    "        \"temperature\": 0.9,\n",
    "        \"top_p\": 0.5,\n",
    "        \"presence_penalty\": 0.2,\n",
    "        \"frequency_penalty\": 0.3\n",
    "      }\n",
    "    ],\n",
    "    \"input\": {\n",
    "      \"parameters\": [\n",
    "        {\n",
    "          \"name\": \"input\",\n",
    "          \"description\": \"Joke subject\",\n",
    "          \"defaultValue\": \"\"\n",
    "        },\n",
    "        {\n",
    "          \"name\": \"hero\",\n",
    "          \"description\": \"Give a hint about the hero you want to joke about\",\n",
    "          \"defaultValue\": \"\"\n",
    "        }\n",
    "      ]\n",
    "    }\n",
    "  }\n",
    "  ```\n"
   ]
  },
  {
   "cell_type": "markdown",
   "metadata": {},
   "source": [
    "Para ver el resultado generado al llamar a esta función Joke, puedes obtenerlo de la siguiente manera:\n"
   ]
  },
  {
   "cell_type": "code",
   "execution_count": null,
   "metadata": {
    "dotnet_interactive": {
     "language": "csharp"
    },
    "polyglot_notebook": {
     "kernelName": "csharp"
    },
    "vscode": {
     "languageId": "polyglot-notebook"
    }
   },
   "outputs": [],
   "source": [
    "Console.WriteLine(result.GetValue<string>());"
   ]
  },
  {
   "cell_type": "markdown",
   "metadata": {},
   "source": [
    "As you can see, in this execution we have only passed the input parameter, but not the hero about whom we wanted to generate this joke. To be able to send more than one parameter you need to create an object of the **ContextVariables** type:\n"
   ]
  },
  {
   "cell_type": "code",
   "execution_count": null,
   "metadata": {
    "dotnet_interactive": {
     "language": "csharp"
    },
    "polyglot_notebook": {
     "kernelName": "csharp"
    },
    "vscode": {
     "languageId": "polyglot-notebook"
    }
   },
   "outputs": [],
   "source": [
    "var variables = new KernelArguments() {\n",
    "    [\"input\"] = \"Tell me a Christmas joke\",\n",
    "    [\"hero\"] = \"Ironman\"\n",
    "};"
   ]
  },
  {
   "cell_type": "markdown",
   "metadata": {},
   "source": [
    "To be able to use these two values as part of the call, simply put it as the first argument.\n"
   ]
  },
  {
   "cell_type": "code",
   "execution_count": null,
   "metadata": {
    "dotnet_interactive": {
     "language": "csharp"
    },
    "polyglot_notebook": {
     "kernelName": "csharp"
    },
    "vscode": {
     "languageId": "polyglot-notebook"
    }
   },
   "outputs": [],
   "source": [
    "var result = await kernel.InvokeAsync(funPluginFunctions[\"Joke\"], variables);"
   ]
  },
  {
   "cell_type": "markdown",
   "metadata": {},
   "source": [
    "Now check if the joke is about the hero specified as a parameter.\n"
   ]
  },
  {
   "cell_type": "code",
   "execution_count": null,
   "metadata": {
    "dotnet_interactive": {
     "language": "csharp"
    },
    "polyglot_notebook": {
     "kernelName": "csharp"
    },
    "vscode": {
     "languageId": "polyglot-notebook"
    }
   },
   "outputs": [],
   "source": [
    "Console.WriteLine(result.GetValue<string>());"
   ]
  },
  {
   "cell_type": "markdown",
   "metadata": {},
   "source": [
    "In the same way, we can use the functions included in **WriterPlugin**:\n"
   ]
  },
  {
   "cell_type": "code",
   "execution_count": null,
   "metadata": {
    "dotnet_interactive": {
     "language": "csharp"
    },
    "polyglot_notebook": {
     "kernelName": "csharp"
    },
    "vscode": {
     "languageId": "polyglot-notebook"
    }
   },
   "outputs": [],
   "source": [
    "// Load the WriterPlugin from the Plugins Directory\n",
    "var pluginsDirectoryWriter = Path.Combine(System.IO.Directory.GetCurrentDirectory(), \"SemanticFunctions\", \"WriterPlugin\");\n",
    "\n",
    "var writerPluginFunctions = kernel.ImportPluginFromPromptDirectory(pluginsDirectoryWriter);\n"
   ]
  },
  {
   "cell_type": "markdown",
   "metadata": {},
   "source": [
    "One that generates stories:\n"
   ]
  },
  {
   "cell_type": "code",
   "execution_count": null,
   "metadata": {
    "dotnet_interactive": {
     "language": "csharp"
    },
    "polyglot_notebook": {
     "kernelName": "csharp"
    },
    "vscode": {
     "languageId": "polyglot-notebook"
    }
   },
   "outputs": [],
   "source": [
    "var variables = new KernelArguments() {\n",
    "    [\"input\"] = \"Tell me a Christmas Story\",\n",
    "    [\"hero\"] = \"Ironman\"\n",
    "};\n",
    "\n",
    "var result = await kernel.InvokeAsync(writerPluginFunctions[\"StoryGen\"], variables);\n",
    "Console.WriteLine(result);"
   ]
  },
  {
   "cell_type": "markdown",
   "metadata": {},
   "source": [
    "Or even to create messages for when the heroes 🦸🏻‍♀️ are on vacation ✈️🚢🌴:\n"
   ]
  },
  {
   "cell_type": "code",
   "execution_count": null,
   "metadata": {
    "dotnet_interactive": {
     "language": "csharp"
    },
    "polyglot_notebook": {
     "kernelName": "csharp"
    },
    "vscode": {
     "languageId": "polyglot-notebook"
    }
   },
   "outputs": [],
   "source": [
    "var variables = new KernelArguments() {\n",
    "    [\"input\"] = \"Create an OOF for Christmas\",\n",
    "    [\"hero\"] = \"Hulk\"\n",
    "};\n",
    "\n",
    "var result = await kernel.InvokeAsync(writerPluginFunctions[\"OOF\"], variables);\n",
    "Console.WriteLine(result.GetValue<string>());"
   ]
  },
  {
   "cell_type": "markdown",
   "metadata": {},
   "source": [
    "## Native Functions\n",
    "\n",
    "While semantic functions allow us to define and reuse prompts, **with native functions you can make the semantic kernel call functions written in C# or Python**, for tasks that go beyond a call through a prompt.\n",
    "\n",
    "<div style=\"text-align:center\">\n",
    "    <img src=\"images/native-function-explainer.png\" width=\"25%\">\n",
    "</div>"
   ]
  },
  {
   "cell_type": "markdown",
   "metadata": {},
   "source": [
    "### Why do I need native functions in these types of applications?\n",
    "\n",
    "Large language models (LLMs) are excellent for generating text, but there are several tasks they cannot perform on their own. These include, among others:\n",
    "\n",
    "- Retrieving data from external data sources\n",
    "- Knowing what time it is\n",
    "- Performing complex mathematical operations\n",
    "- Completing tasks in the real world\n",
    "- Memorizing and remembering information\n",
    "\n",
    "For these scenarios, and many others, native functions are very useful 👍🏻\n"
   ]
  },
  {
   "cell_type": "markdown",
   "metadata": {},
   "source": [
    "For this example, I'm going to use an API called **SuperHero API**, which requires an API key. You can get it from their website: [https://superheroapi.com/](https://superheroapi.com/)\n",
    "\n",
    "Once you have it, pass it to the prompt that appears with the following line:\n"
   ]
  },
  {
   "cell_type": "code",
   "execution_count": null,
   "metadata": {
    "dotnet_interactive": {
     "language": "csharp"
    },
    "polyglot_notebook": {
     "kernelName": "csharp"
    },
    "vscode": {
     "languageId": "polyglot-notebook"
    }
   },
   "outputs": [],
   "source": [
    "var superHeroApiKey = (await Microsoft.DotNet.Interactive.Kernel.GetPasswordAsync(\"Give me your Super Hero Api key\")).GetClearTextPassword();"
   ]
  },
  {
   "cell_type": "markdown",
   "metadata": {},
   "source": [
    "Now, to load a native function, we must add this before we build the Kernel.\n",
    "\n",
    "Let's create a new Super Hero Info class and add it as a Plugin."
   ]
  },
  {
   "cell_type": "code",
   "execution_count": null,
   "metadata": {
    "dotnet_interactive": {
     "language": "csharp"
    },
    "polyglot_notebook": {
     "kernelName": "csharp"
    },
    "vscode": {
     "languageId": "polyglot-notebook"
    }
   },
   "outputs": [],
   "source": [
    "#load \"NativeFunctions/HeroInfo.cs\"\n",
    "\n",
    "var heroInfo = new HeroInfo(superHeroApiKey);\n",
    "builder.Plugins.AddFromObject(heroInfo, \"HeroInfo\");\n",
    "Kernel kernel = builder.Build();"
   ]
  },
  {
   "cell_type": "markdown",
   "metadata": {},
   "source": [
    "The builder now can interact with the local function. Let's make a call to get the alter ego of a super hero."
   ]
  },
  {
   "cell_type": "code",
   "execution_count": null,
   "metadata": {
    "dotnet_interactive": {
     "language": "csharp"
    },
    "polyglot_notebook": {
     "kernelName": "csharp"
    },
    "vscode": {
     "languageId": "polyglot-notebook"
    }
   },
   "outputs": [],
   "source": [
    "var kernelArgs = new KernelArguments()\n",
    "{\n",
    "    [\"input\"] = \"Ironman\"\n",
    "};\n",
    "\n",
    "var result = await kernel.InvokeAsync<string>(\"HeroInfo\", \"GetAlterEgo\", kernelArgs);\n",
    "Console.WriteLine(result);"
   ]
  },
  {
   "cell_type": "markdown",
   "metadata": {},
   "source": [
    "In this repo, there is another directory called **NativeFunctions** where you can find a class called **HeroInfo.cs**. In it, there is a function decorated with the **KernelFunction** attribute, which allows us to indicate to the Semantic Kernel that it is a native function and, through the **Description** property, also give it information about what the purpose of this function is. In this case, what this method allows us to do is retrieve the alter ego of the superhero that we pass as a parameter, in this example that of Ironman. \n"
   ]
  },
  {
   "cell_type": "markdown",
   "metadata": {},
   "source": [
    "## Planner\n",
    "\n",
    "So far, all the plugins you have seen have been executed intentionally. That is, no one has chosen them for you and you can run them based on your needs. However, this is the most *static* way to interact with Semantic Kernel. There is another option called **Planner** that will leave you astounded 😮\n",
    "\n",
    "Planner is a function that takes a user's request and returns a plan on how to carry out the request. To do this, it uses AI to combine the plugins registered in the core and recombine them into a series of steps that complete a goal.\n",
    "\n",
    "<div style=\"text-align:center;\">\n",
    "    <img src=\"images/the-planner.png\" width=35% />\n",
    "</div>"
   ]
  },
  {
   "cell_type": "markdown",
   "metadata": {},
   "source": [
    "To see it in action, we are going to use the plugins that you already know.\n",
    "\n",
    "The first thing you need is to add the nuget reference to the Planner Handlebars.\n",
    "\n",
    "To learn more about this NuGet package, you can visit [here](https://www.nuget.org/packages/Microsoft.SemanticKernel.Planners.Handlebars/1.5.0-preview#show-readme-container).\n",
    "\n"
   ]
  },
  {
   "cell_type": "code",
   "execution_count": null,
   "metadata": {
    "dotnet_interactive": {
     "language": "csharp"
    },
    "polyglot_notebook": {
     "kernelName": "csharp"
    },
    "vscode": {
     "languageId": "polyglot-notebook"
    }
   },
   "outputs": [],
   "source": [
    "#r \"nuget: Microsoft.SemanticKernel.Planners.Handlebars, 1.5.0-preview\""
   ]
  },
  {
   "cell_type": "markdown",
   "metadata": {},
   "source": [
    "Now we are ready to create a planner."
   ]
  },
  {
   "cell_type": "code",
   "execution_count": null,
   "metadata": {
    "dotnet_interactive": {
     "language": "csharp"
    },
    "polyglot_notebook": {
     "kernelName": "csharp"
    },
    "vscode": {
     "languageId": "polyglot-notebook"
    }
   },
   "outputs": [],
   "source": [
    "using Microsoft.SemanticKernel.Planning.Handlebars;\n",
    "\n",
    "#pragma warning disable SKEXP0060\n",
    "var planner = new HandlebarsPlanner();\n"
   ]
  },
  {
   "cell_type": "markdown",
   "metadata": {},
   "source": [
    "There are different types as you can see [here](https://learn.microsoft.com/en-us/semantic-kernel/ai-orchestration/planners/?tabs=Csharp). In this example, we are going to use the one that executes tasks sequentially.\n",
    "\n",
    "Since you already have all the plugins loaded in your kernel instance, we can ask it something like this:\n"
   ]
  },
  {
   "cell_type": "code",
   "execution_count": null,
   "metadata": {
    "dotnet_interactive": {
     "language": "csharp"
    },
    "polyglot_notebook": {
     "kernelName": "csharp"
    },
    "vscode": {
     "languageId": "polyglot-notebook"
    }
   },
   "outputs": [],
   "source": [
    "using System.Text.Json;\n",
    "\n",
    "var ask = \"I would like you to tell me a joke about Batman, and with that joke, create an out-of-office message using the joke.\";\n",
    "#pragma warning disable SKEXP0060\n",
    "var originalPlan = await planner.CreatePlanAsync(kernel, ask);\n",
    "\n",
    "Console.WriteLine(\"Original plan:\\n\");\n",
    "Console.WriteLine(originalPlan);"
   ]
  },
  {
   "cell_type": "markdown",
   "metadata": {},
   "source": [
    "As you can see, the planner knows about the  plugins thanks to the description that I included as part of their implementation.\n",
    "\n",
    "Time to run the plan and get an OOF for **Batman** that includes a **bad joke**.\n"
   ]
  },
  {
   "cell_type": "code",
   "execution_count": null,
   "metadata": {
    "dotnet_interactive": {
     "language": "csharp"
    },
    "polyglot_notebook": {
     "kernelName": "csharp"
    },
    "vscode": {
     "languageId": "polyglot-notebook"
    }
   },
   "outputs": [],
   "source": [
    "// executing the plan\n",
    "#pragma warning disable SKEXP0060\n",
    "var originalPlanResult = await originalPlan.InvokeAsync(kernel, new KernelArguments());\n",
    "\n",
    "Console.WriteLine(\"Original Plan results:\\n\");\n",
    "Console.WriteLine(originalPlanResult.ToString());"
   ]
  },
  {
   "cell_type": "markdown",
   "metadata": {},
   "source": [
    "### Advanced Planner Labs\n",
    "\n",
    "The kernel already has the plugins loaded, and the function, let's see if it can solve a more complex example:\n"
   ]
  },
  {
   "cell_type": "code",
   "execution_count": null,
   "metadata": {
    "dotnet_interactive": {
     "language": "csharp"
    },
    "polyglot_notebook": {
     "kernelName": "csharp"
    },
    "vscode": {
     "languageId": "polyglot-notebook"
    }
   },
   "outputs": [],
   "source": [
    "var ask_complex = \"I would like you to find out IronMan's alter ego, and create an out of office message for IronMan, signing it with his alter ego.\";\n",
    "\n",
    "#pragma warning disable SKEXP0060\n",
    "var plan_complex = await planner.CreatePlanAsync(kernel, ask_complex);\n",
    "\n",
    "Console.WriteLine(\"Plan:\\n\");\n",
    "Console.WriteLine(plan_complex);"
   ]
  },
  {
   "cell_type": "markdown",
   "metadata": {},
   "source": [
    "Let's execute the plan and see its output:\n"
   ]
  },
  {
   "cell_type": "code",
   "execution_count": null,
   "metadata": {
    "dotnet_interactive": {
     "language": "csharp"
    },
    "polyglot_notebook": {
     "kernelName": "csharp"
    },
    "vscode": {
     "languageId": "polyglot-notebook"
    }
   },
   "outputs": [],
   "source": [
    "#pragma warning disable SKEXP0060\n",
    "var complexPlanResult = await plan_complex.InvokeAsync(kernel, new KernelArguments());\n",
    "\n",
    "Console.WriteLine(\"Complex  Plan results:\\n\");\n",
    "Console.WriteLine(complexPlanResult.ToString());"
   ]
  },
  {
   "cell_type": "markdown",
   "metadata": {},
   "source": [
    "## Kernel Memory\n",
    "\n",
    "<img src=\"images/How kernel memory works.png\" width=\"80%\" />"
   ]
  },
  {
   "cell_type": "markdown",
   "metadata": {},
   "source": [
    "To be able to use Kernel Memory, you need to add its nuget library, in addition to importing the class that I have generated in the **KernelMemory** directory.\n",
    "\n",
    "To learn more about the Kernel Memory library, you can visit the [NuGet package page](https://www.nuget.org/packages/Microsoft.SemanticKernel.Plugins.Memory/1.5.0-alpha#show-readme-container).\n"
   ]
  },
  {
   "cell_type": "code",
   "execution_count": null,
   "metadata": {
    "dotnet_interactive": {
     "language": "csharp"
    },
    "polyglot_notebook": {
     "kernelName": "csharp"
    },
    "vscode": {
     "languageId": "polyglot-notebook"
    }
   },
   "outputs": [],
   "source": [
    "#r \"nuget: Microsoft.SemanticKernel.Plugins.Memory, 1.5.0-alpha\"\n",
    "#r \"nuget: System.Linq.Async, 6.0.1\"\n"
   ]
  },
  {
   "cell_type": "markdown",
   "metadata": {},
   "source": [
    "In order to use memory, we need to instantiate the Memory Plugin with a Memory Storage and an Embedding backend. In this example, we make use of the VolatileMemoryStore which can be thought of as a temporary in-memory storage (not to be confused with Semantic Memory).\n",
    "\n",
    "This memory is not written to disk and is only available during the app session.\n",
    "\n",
    "When developing your app you will have the option to plug in persistent storage like Azure Cosmos Db, PostgreSQL, SQLite, etc. Semantic Memory allows also to index external data sources, without duplicating all the information, more on that later."
   ]
  },
  {
   "cell_type": "code",
   "execution_count": null,
   "metadata": {
    "dotnet_interactive": {
     "language": "csharp"
    },
    "polyglot_notebook": {
     "kernelName": "csharp"
    },
    "vscode": {
     "languageId": "polyglot-notebook"
    }
   },
   "outputs": [],
   "source": [
    "using Microsoft.SemanticKernel.Memory;\n",
    "using Microsoft.SemanticKernel.Connectors.OpenAI;\n",
    "\n",
    "// create the memory builder\n",
    "#pragma warning disable SKEXP0003, SKEXP0011, SKEXP0052\n",
    "var memoryBuilder = new MemoryBuilder();\n",
    "\n",
    "// Using OpenAI\n",
    "memoryBuilder.WithOpenAITextEmbeddingGeneration(\"text-embedding-ada-002\", apiKey);\n",
    "\n",
    "// Using Azure OpenAI \n",
    "// memoryBuilder.WithAzureOpenAITextEmbeddingGeneration(\n",
    "//         AzureOpenAI.EmbeddingsModel,\n",
    "//          AzureOpenAI.Endpoint,\n",
    "//         AzureOpenAI.ApiKey,\n",
    "//         \"text-embedding-ada-002\");\n",
    "\n",
    "memoryBuilder.WithMemoryStore(new VolatileMemoryStore());\n",
    "var memory = memoryBuilder.Build();"
   ]
  },
  {
   "cell_type": "markdown",
   "metadata": {},
   "source": [
    "Let's create some initial memories \"Fan Facts\". We can add memories to our VolatileMemoryStore by using SaveInformationAsync:\n",
    "\n"
   ]
  },
  {
   "cell_type": "code",
   "execution_count": null,
   "metadata": {
    "dotnet_interactive": {
     "language": "csharp"
    },
    "polyglot_notebook": {
     "kernelName": "csharp"
    },
    "vscode": {
     "languageId": "polyglot-notebook"
    }
   },
   "outputs": [],
   "source": [
    "// add fan facts to the collection\n",
    "const string MemoryCollectionName = \"fanFacts\";\n",
    "\n",
    "await memory.SaveInformationAsync(MemoryCollectionName, id: \"info1\", text: \"Gisela's favourite super hero is Batman\");\n",
    "await memory.SaveInformationAsync(MemoryCollectionName, id: \"info2\", text: \"The last super hero movie watched by Gisela was Guardians of the Galaxy Vol 3\");\n",
    "await memory.SaveInformationAsync(MemoryCollectionName, id: \"info3\", text: \"Bruno's favourite super hero is Invincible\");\n",
    "await memory.SaveInformationAsync(MemoryCollectionName, id: \"info4\", text: \"The last super hero movie watched by Bruno was Aquaman II\");\n",
    "await memory.SaveInformationAsync(MemoryCollectionName, id: \"info5\", text: \"Bruno don't like the super hero movie: Eternals\");"
   ]
  },
  {
   "cell_type": "markdown",
   "metadata": {},
   "source": [
    "And now we can test and search in the memory:"
   ]
  },
  {
   "cell_type": "code",
   "execution_count": null,
   "metadata": {
    "dotnet_interactive": {
     "language": "csharp"
    },
    "polyglot_notebook": {
     "kernelName": "csharp"
    },
    "vscode": {
     "languageId": "polyglot-notebook"
    }
   },
   "outputs": [],
   "source": [
    "var questions = new[]\n",
    "{\n",
    "    \"what is Bruno's favourite super hero?\",\n",
    "    \"what was the last movie watched by Gisela?\",\n",
    "    \"Which is the prefered super hero for Gisela?\",\n",
    "    \"Did Bruno watched a super hero movie in the past, which was the last one?\"\n",
    "};\n",
    "\n",
    "foreach (var q in questions)\n",
    "{\n",
    "    var response = await memory.SearchAsync(MemoryCollectionName, q).FirstOrDefaultAsync();\n",
    "    Console.WriteLine(q + \" \" + response?.Metadata.Text);\n",
    "}\n"
   ]
  }
 ],
 "metadata": {
  "kernelspec": {
   "display_name": ".NET (C#)",
   "language": "C#",
   "name": ".net-csharp"
  },
  "language_info": {
   "name": "python"
  },
  "polyglot_notebook": {
   "kernelInfo": {
    "defaultKernelName": "csharp",
    "items": [
     {
      "aliases": [],
      "name": "csharp"
     }
    ]
   }
  }
 },
 "nbformat": 4,
 "nbformat_minor": 2
}
