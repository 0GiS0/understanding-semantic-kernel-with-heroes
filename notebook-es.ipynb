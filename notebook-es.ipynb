{
 "cells": [
  {
   "cell_type": "markdown",
   "metadata": {},
   "source": [
    "# 🦸🏻 Comprendiendo el Semantic Kernel con Héroes 🦸🏼‍♀️\n",
    "\n",
    "Semantic Kernel ha sido creado para permitir a los desarrolladores integrar Inteligencia Artificial en sus aplicaciones de manera fluida. Para lograr esto, proporciona un conjunto de características que te permitirán añadir modelos, prompts, funciones nativas y memorias sin requerir un conocimiento profundo de IA 🥲. Por eso se dice que Semantic Kernel simula el cerebro 🧠 de tu aplicación.\n",
    "\n",
    "<div style=\"text-align:center\">\n",
    "    <img src=\"images/semantic-kernel.png\" width=\"15%\">\n",
    "</div>"
   ]
  },
  {
   "cell_type": "markdown",
   "metadata": {},
   "source": [
    "## (Opcional) - Creando un Servicio Azure Open AI 🤖 y Despliegues\n",
    "\n",
    "Antes de sumergirnos en Semantic Kernel 🛝, necesitarás tener configurado uno de los servicios soportados. Actualmente, puedes elegir entre las siguientes opciones: [Azure Open AI](https://azure.microsoft.com/en-us/products/ai-services/openai-service), [Open AI](https://openai.com/), o [Hugging Face](https://huggingface.co/).\n",
    "\n",
    "En este ejemplo, voy a usar Azure Open AI.\n",
    "\n",
    "Por lo tanto, a través de Azure CLI, necesito iniciar sesión:\n"
   ]
  },
  {
   "cell_type": "code",
   "execution_count": null,
   "metadata": {
    "dotnet_interactive": {
     "language": "pwsh"
    },
    "polyglot_notebook": {
     "kernelName": "pwsh"
    },
    "tags": [],
    "vscode": {
     "languageId": "polyglot-notebook"
    }
   },
   "outputs": [],
   "source": [
    "az login"
   ]
  },
  {
   "cell_type": "markdown",
   "metadata": {},
   "source": [
    "Si lo necesitas, porque tienes muchas suscripciones en tu cuenta, puedes seleccionar la que te interesa (o la que tiene acceso a Azure Open AI 😊) a través del siguiente comando:\n"
   ]
  },
  {
   "cell_type": "code",
   "execution_count": null,
   "metadata": {
    "dotnet_interactive": {
     "language": "pwsh"
    },
    "polyglot_notebook": {
     "kernelName": "pwsh"
    },
    "vscode": {
     "languageId": "polyglot-notebook"
    }
   },
   "outputs": [],
   "source": [
    "az account set -n \"Visual Studio Enterprise Subscription\""
   ]
  },
  {
   "cell_type": "markdown",
   "metadata": {},
   "source": [
    "Ahora, para poder crear lo que necesitas para este cuaderno, establece las siguientes variables con tus valores preferidos:\n"
   ]
  },
  {
   "cell_type": "code",
   "execution_count": null,
   "metadata": {
    "dotnet_interactive": {
     "language": "pwsh"
    },
    "polyglot_notebook": {
     "kernelName": "pwsh"
    },
    "vscode": {
     "languageId": "polyglot-notebook"
    }
   },
   "outputs": [],
   "source": [
    "$RESOURCE_GROUP=\"understanding-semantic-kernel\"\n",
    "$LOCATION=\"canadaeast\"\n",
    "$AZURE_OPEN_AI=\"ai-for-heroes\""
   ]
  },
  {
   "cell_type": "markdown",
   "metadata": {},
   "source": [
    "Con ellos, ahora puedes crear el grupo de recursos:\n"
   ]
  },
  {
   "cell_type": "code",
   "execution_count": null,
   "metadata": {
    "dotnet_interactive": {
     "language": "pwsh"
    },
    "polyglot_notebook": {
     "kernelName": "pwsh"
    },
    "vscode": {
     "languageId": "polyglot-notebook"
    }
   },
   "outputs": [],
   "source": [
    "az group create `\n",
    "--name $RESOURCE_GROUP `\n",
    "--location $LOCATION"
   ]
  },
  {
   "cell_type": "markdown",
   "metadata": {},
   "source": [
    "Un recurso de Azure Open AI:\n"
   ]
  },
  {
   "cell_type": "code",
   "execution_count": null,
   "metadata": {
    "dotnet_interactive": {
     "language": "pwsh"
    },
    "polyglot_notebook": {
     "kernelName": "pwsh"
    },
    "vscode": {
     "languageId": "polyglot-notebook"
    }
   },
   "outputs": [],
   "source": [
    "az cognitiveservices account create `\n",
    "--name $AZURE_OPEN_AI `\n",
    "--custom-domain $AZURE_OPEN_AI `\n",
    "--resource-group $RESOURCE_GROUP `\n",
    "--kind OpenAI `\n",
    "--sku S0 `\n",
    "--location $LOCATION"
   ]
  },
  {
   "cell_type": "markdown",
   "metadata": {},
   "source": [
    "Y finalmente, necesitas un despliegue de cualquiera de los modelos que tienes disponibles. En este ejemplo, voy a usar gpt-4:"
   ]
  },
  {
   "cell_type": "code",
   "execution_count": null,
   "metadata": {
    "dotnet_interactive": {
     "language": "pwsh"
    },
    "polyglot_notebook": {
     "kernelName": "pwsh"
    },
    "vscode": {
     "languageId": "polyglot-notebook"
    }
   },
   "outputs": [],
   "source": [
    "az cognitiveservices account deployment create `\n",
    "--name $AZURE_OPEN_AI `\n",
    "--resource-group $RESOURCE_GROUP `\n",
    "--deployment-name \"gpt-4\" `\n",
    "--model-name \"gpt-4\" `\n",
    "--model-version \"0613\"  `\n",
    "--model-format OpenAI `\n",
    "--sku-capacity \"10\" `\n",
    "--sku-name \"Standard\""
   ]
  },
  {
   "cell_type": "markdown",
   "metadata": {},
   "source": [
    "El parámetro **sku-capacity** nos permite especificar cuántos tokens por minuto podemos enviar a este modelo. Para ver cómo se está utilizando tu cuota, puedes usar este otro comando:\n"
   ]
  },
  {
   "cell_type": "code",
   "execution_count": null,
   "metadata": {
    "dotnet_interactive": {
     "language": "pwsh"
    },
    "polyglot_notebook": {
     "kernelName": "pwsh"
    },
    "vscode": {
     "languageId": "polyglot-notebook"
    }
   },
   "outputs": [],
   "source": [
    "az cognitiveservices usage list `\n",
    "-l $LOCATION"
   ]
  },
  {
   "cell_type": "markdown",
   "metadata": {},
   "source": [
    "Carga las variables de entorno con tu endpoint y clave de Azure Open AI:"
   ]
  },
  {
   "cell_type": "code",
   "execution_count": null,
   "metadata": {
    "dotnet_interactive": {
     "language": "pwsh"
    },
    "polyglot_notebook": {
     "kernelName": "pwsh"
    },
    "vscode": {
     "languageId": "polyglot-notebook"
    }
   },
   "outputs": [],
   "source": [
    "$env:AZURE_OPEN_AI_KEY =$(az cognitiveservices account keys list `\n",
    "--name $AZURE_OPEN_AI `\n",
    "--resource-group $RESOURCE_GROUP `\n",
    "--query \"key1\" `\n",
    "--output tsv)\n",
    "\n",
    "$env:AZURE_OPEN_AI_ENDPOINT =$(az cognitiveservices account show `\n",
    "--name $AZURE_OPEN_AI `\n",
    "--resource-group $RESOURCE_GROUP `\n",
    "--query \"properties.endpoint\" `\n",
    "--output tsv)\n",
    "\n",
    "#dir env:AZURE_OPEN_AI_KEY\n",
    "#dir env:AZURE_OPEN_AI_ENDPOINT"
   ]
  },
  {
   "cell_type": "markdown",
   "metadata": {},
   "source": [
    "## Cómo empezar con Semantic Kernel\n"
   ]
  },
  {
   "cell_type": "markdown",
   "metadata": {},
   "source": [
    "Lo primero que necesitas para poder ejecutar Semantic Kernel en este cuaderno es instalar la biblioteca **Microsoft.SemanticKernel**, que actualmente está en la versión **1.5.0** (prometo seguir actualizando 🤓).\n",
    "\n",
    "Puedes encontrar más información sobre esta biblioteca y sus actualizaciones en la página oficial de NuGet [aquí](https://www.nuget.org/packages/Microsoft.SemanticKernel).\n"
   ]
  },
  {
   "cell_type": "code",
   "execution_count": 1,
   "metadata": {
    "dotnet_interactive": {
     "language": "csharp"
    },
    "polyglot_notebook": {
     "kernelName": "csharp"
    },
    "vscode": {
     "languageId": "polyglot-notebook"
    }
   },
   "outputs": [
    {
     "data": {
      "text/html": [
       "<div><div></div><div></div><div><strong>Installed Packages</strong><ul><li><span>Microsoft.SemanticKernel, 1.5.0</span></li></ul></div></div>"
      ]
     },
     "metadata": {},
     "output_type": "display_data"
    }
   ],
   "source": [
    "#r \"nuget: Microsoft.SemanticKernel, 1.5.0\""
   ]
  },
  {
   "cell_type": "markdown",
   "metadata": {},
   "source": [
    "Con ello, ahora puedes instanciar el cerebro de tu aplicación a través de **KernelBuilder**. Tiene muchos conectores a los modelos y otras cosas, pero por ahora, comencemos con lo básico:\n"
   ]
  },
  {
   "cell_type": "code",
   "execution_count": 2,
   "metadata": {
    "dotnet_interactive": {
     "language": "csharp"
    },
    "polyglot_notebook": {
     "kernelName": "csharp"
    },
    "vscode": {
     "languageId": "polyglot-notebook"
    }
   },
   "outputs": [],
   "source": [
    "using Microsoft.SemanticKernel;\n",
    "\n",
    "// Create a Builder\n",
    "var builder = Kernel.CreateBuilder();"
   ]
  },
  {
   "cell_type": "markdown",
   "metadata": {},
   "source": [
    "Dependiendo del tipo de tarea que quieras realizar, puedes usar diferentes métodos con el prefijo **With**. Por ahora, vamos a usar algunos de los modelos de tipo **completion** o completado.\n"
   ]
  },
  {
   "cell_type": "code",
   "execution_count": 3,
   "metadata": {
    "dotnet_interactive": {
     "language": "csharp"
    },
    "polyglot_notebook": {
     "kernelName": "csharp"
    },
    "vscode": {
     "languageId": "polyglot-notebook"
    }
   },
   "outputs": [],
   "source": [
    "// OpenAI keys\n",
    "var modelId = \"gpt-4\";\n",
    "var apiKey = (await Microsoft.DotNet.Interactive.Kernel.GetPasswordAsync(\"Give me your Open AI key\")).GetClearTextPassword();\n",
    "\n",
    "// Create a chat completion service\n",
    "builder.AddOpenAIChatCompletion(modelId, apiKey);"
   ]
  },
  {
   "cell_type": "code",
   "execution_count": null,
   "metadata": {
    "dotnet_interactive": {
     "language": "csharp"
    },
    "polyglot_notebook": {
     "kernelName": "csharp"
    },
    "vscode": {
     "languageId": "polyglot-notebook"
    }
   },
   "outputs": [],
   "source": [
    "// Azure OpenAI keys\n",
    "var deploymentName = \"gpt-4\";\n",
    "var endpoint = Environment.GetEnvironmentVariable(\"AZURE_OPEN_AI_ENDPOINT\");\n",
    "var apiKey = Environment.GetEnvironmentVariable(\"AZURE_OPEN_AI_KEY\");\n",
    "\n",
    "// Create a chat completion service\n",
    "builder.AddAzureOpenAIChatCompletion(deploymentName, endpoint, apiKey);"
   ]
  },
  {
   "cell_type": "markdown",
   "metadata": {},
   "source": [
    "Con la configuración realizada, lo único que queda es generar el kernel con todo configurado:\n"
   ]
  },
  {
   "cell_type": "code",
   "execution_count": 11,
   "metadata": {
    "dotnet_interactive": {
     "language": "csharp"
    },
    "polyglot_notebook": {
     "kernelName": "csharp"
    },
    "vscode": {
     "languageId": "polyglot-notebook"
    }
   },
   "outputs": [],
   "source": [
    "var kernel = builder.Build();"
   ]
  },
  {
   "cell_type": "markdown",
   "metadata": {},
   "source": [
    "## Uso de plugins de Semantic Kernel\n",
    "\n",
    "Los plugins son el núcleo de Semantic Kernel. Con ellos, encapsulas capacidades para que sean reutilizables, mantenibles y planificables (lo entenderás más tarde 🙃). Hay dos tipos: aquellos que consisten en plantillas de indicaciones llamadas **Semantic Functions** y funciones nativas del lenguaje de programación elegido llamadas **Native Functions**.\n",
    "\n",
    "<div style=\"text-align:center\">\n",
    "    <img src=\"images/writer-plugin-example.png\" width=\"40%\" />\n",
    "</div>"
   ]
  },
  {
   "cell_type": "markdown",
   "metadata": {},
   "source": [
    "## Funciones Semánticas\n",
    "\n",
    "Cuando hablas con modelos de inteligencia artificial, debes hacerlo con lo que se conoce como un *prompt*. Esto puede variar desde una simple frase hasta algo más elaborado, permitiendo que el modelo comprenda no solo lo que queremos sino también cómo lo queremos. Si echas un vistazo a la documentación oficial, define este tipo de función como la boca 👄 y los oídos 👂🏻 de tu cerebro 🧠. 🤖🌐\n",
    "\n",
    "<div style=\"text-align:center\">\n",
    "    <img src=\"images/semantic-function-explainer.png\" width=\"20%\" />\n",
    "</div>"
   ]
  },
  {
   "cell_type": "markdown",
   "metadata": {},
   "source": [
    "Como parte de este repositorio, tienes una carpeta llamada **SemanticFunctions** que tiene diferentes funciones de este tipo:\n",
    "\n",
    "- **FunPlugin**: Esto nos permite pedirle al modelo que haga bromas sobre héroes bajo ciertas condiciones, a través de la función **Joke**.\n",
    "- **WritePlugin**: Para mostrarte que dentro de un plugin puedes tener diferentes funciones, en este directorio tenemos dos relacionadas con el arte de escribir: la primera, **OOF**, nos permite generar el mensaje \"Fuera de la oficina\" 🏢📧 para superhéroes y la segunda **StoryGen** nos ayudará a crear historias, también sobre superhéroes 🦸🏻‍♂️🦸🏻‍♀️.\n",
    "\n",
    "Para que nuestro kernel sepa que estos plugins están disponibles, primero necesitas obtener la ruta del directorio:\n"
   ]
  },
  {
   "cell_type": "code",
   "execution_count": 12,
   "metadata": {
    "dotnet_interactive": {
     "language": "csharp"
    },
    "polyglot_notebook": {
     "kernelName": "csharp"
    },
    "vscode": {
     "languageId": "polyglot-notebook"
    }
   },
   "outputs": [],
   "source": [
    "using System.IO;\n",
    "\n",
    "var pluginsDirectory = Path.Combine(System.IO.Directory.GetCurrentDirectory(), \"SemanticFunctions\", \"FunPlugIn\");"
   ]
  },
  {
   "cell_type": "markdown",
   "metadata": {},
   "source": [
    "Y luego comienza a cargar los plugins que deseas:\n"
   ]
  },
  {
   "cell_type": "code",
   "execution_count": 13,
   "metadata": {
    "dotnet_interactive": {
     "language": "csharp"
    },
    "polyglot_notebook": {
     "kernelName": "csharp"
    },
    "vscode": {
     "languageId": "polyglot-notebook"
    }
   },
   "outputs": [],
   "source": [
    "// Load the FunPlugin from the Plugins Directory\n",
    "var funPluginFunctions = kernel.ImportPluginFromPromptDirectory(pluginsDirectory);"
   ]
  },
  {
   "cell_type": "markdown",
   "metadata": {},
   "source": [
    "Para poder invocar una función de este tipo, puedes hacerlo de la siguiente manera:\n"
   ]
  },
  {
   "cell_type": "code",
   "execution_count": 14,
   "metadata": {
    "dotnet_interactive": {
     "language": "csharp"
    },
    "polyglot_notebook": {
     "kernelName": "csharp"
    },
    "vscode": {
     "languageId": "polyglot-notebook"
    }
   },
   "outputs": [
    {
     "name": "stdout",
     "output_type": "stream",
     "text": [
      "Claro, aquí tienes un chiste:\n",
      "\n",
      "¿Por qué Superman nunca pelea contra un chiste malo?\n",
      "\n",
      "Porque siempre se ríe hasta quedar exhausto.\r\n"
     ]
    }
   ],
   "source": [
    "var joke = new KernelArguments() { [\"input\"] = \"cuentame un chiste\" };\n",
    "var result = await kernel.InvokeAsync(funPluginFunctions[\"JokeSpa\"], joke);\n",
    "\n",
    "Console.WriteLine(result.GetValue<string>());"
   ]
  },
  {
   "cell_type": "markdown",
   "metadata": {},
   "source": [
    "Como puedes ver, solo usando **kernel.RunAsync** y pasando mi solicitud como parámetros y qué función, en este caso **JokeSpa**, dentro del plugin, en este caso **FunPlugin**, quiero usar.\n",
    "\n",
    "Cada una de estas funciones consta de dos archivos:\n",
    "\n",
    "- **skprompt.txt** es el archivo donde se define el prompt para enviar al modelo en un formato de plantilla, de modo que pueda recibir parámetros y hacerlos más reutilizables.\n",
    "\n",
    "\n",
    "    ```\n",
    "    WRITE EXACTLY ONE JOKE or HUMOROUS STORY ABOUT THE SUBJECT BELOW\n",
    "\n",
    "    JOKE MUST BE:\n",
    "    - IN SPANISH\n",
    "\n",
    "    BE CREATIVE AND FUNNY. I WANT TO LAUGH.\n",
    "\n",
    "    Incorporate the hero if provided: {{$hero}}\n",
    "    +++++\n",
    "\n",
    "    {{$input}}\n",
    "    +++++\n",
    "    ```"
   ]
  },
  {
   "cell_type": "markdown",
   "metadata": {},
   "source": [
    "- **config.json**, which allows us to indicate the maximum number of tokens allowed for this call (**max_tokens**), the temperature to control the randomness of the responses (**temperature**), which means that closer to 1 they will be more random and closer to zero more determined and focused on the most likely response, **top_p** is used to control the diversity of the responses, where a value of 0.0 means that only the most likely responses will be considered and 1 where all possible responses will be considered and **presence_penalty** and **frequency_penalty** to adjust the penalty for the presence and frequency of the tokens in the generated responses. On the other hand, if the skprompt.txt file receives parameters, they must also be defined in this file in the **parameters** array of the **input** object.\n",
    "\n",
    "  ```javascript\n",
    "  {\n",
    "    \"schema\": 1,\n",
    "    \"description\": \"Generate a funny joke about heroes\",\n",
    "    \"models\": [\n",
    "      {\n",
    "        \"max_tokens\": 150,\n",
    "        \"temperature\": 0.9,\n",
    "        \"top_p\": 0.5,\n",
    "        \"presence_penalty\": 0.2,\n",
    "        \"frequency_penalty\": 0.3\n",
    "      }\n",
    "    ],\n",
    "    \"input\": {\n",
    "      \"parameters\": [\n",
    "        {\n",
    "          \"name\": \"input\",\n",
    "          \"description\": \"Joke subject\",\n",
    "          \"defaultValue\": \"\"\n",
    "        },\n",
    "        {\n",
    "          \"name\": \"hero\",\n",
    "          \"description\": \"Give a hint about the hero you want to joke about\",\n",
    "          \"defaultValue\": \"\"\n",
    "        }\n",
    "      ]\n",
    "    }\n",
    "  }\n",
    "  ```\n"
   ]
  },
  {
   "cell_type": "markdown",
   "metadata": {},
   "source": [
    "Como podemos ver, en esta ejecución, solo hemos pasado el primer parámetro: INPUT, pero no hemos pasado el parámetro HERO. No hemos especificado el héroe que queremos utilizar para generar el chiste. Para poder enviar más de un parámetro necesitas crear un objeto del tipo **ContextVariables**:"
   ]
  },
  {
   "cell_type": "code",
   "execution_count": 15,
   "metadata": {
    "dotnet_interactive": {
     "language": "csharp"
    },
    "polyglot_notebook": {
     "kernelName": "csharp"
    },
    "vscode": {
     "languageId": "polyglot-notebook"
    }
   },
   "outputs": [],
   "source": [
    "var variables = new KernelArguments() {\n",
    "    [\"input\"] = \"Cuentame un chiste de futbol\",\n",
    "    [\"hero\"] = \"Ironman\"\n",
    "};"
   ]
  },
  {
   "cell_type": "markdown",
   "metadata": {},
   "source": [
    "Para poder usar estos dos valores como parte de la llamada, simplemente colócalos como el primer argumento.\n"
   ]
  },
  {
   "cell_type": "code",
   "execution_count": 16,
   "metadata": {
    "dotnet_interactive": {
     "language": "csharp"
    },
    "polyglot_notebook": {
     "kernelName": "csharp"
    },
    "vscode": {
     "languageId": "polyglot-notebook"
    }
   },
   "outputs": [],
   "source": [
    "var result = await kernel.InvokeAsync(funPluginFunctions[\"JokeSpa\"], variables);"
   ]
  },
  {
   "cell_type": "markdown",
   "metadata": {},
   "source": [
    "Ahora verifica si el chiste es sobre el héroe especificado como parámetro.\n"
   ]
  },
  {
   "cell_type": "code",
   "execution_count": 17,
   "metadata": {
    "dotnet_interactive": {
     "language": "csharp"
    },
    "polyglot_notebook": {
     "kernelName": "csharp"
    },
    "vscode": {
     "languageId": "polyglot-notebook"
    }
   },
   "outputs": [
    {
     "name": "stdout",
     "output_type": "stream",
     "text": [
      "¿Por qué Ironman no puede jugar al fútbol?\n",
      "\n",
      "Porque cada vez que recibe el balón, se convierte en un hombre de hierro gol.\r\n"
     ]
    }
   ],
   "source": [
    "Console.WriteLine(result.GetValue<string>());"
   ]
  },
  {
   "cell_type": "markdown",
   "metadata": {},
   "source": [
    "De la misma manera, podemos usar las funciones incluidas en **WriterPlugin**:\n"
   ]
  },
  {
   "cell_type": "code",
   "execution_count": 18,
   "metadata": {
    "dotnet_interactive": {
     "language": "csharp"
    },
    "polyglot_notebook": {
     "kernelName": "csharp"
    },
    "vscode": {
     "languageId": "polyglot-notebook"
    }
   },
   "outputs": [],
   "source": [
    "// Load the WriterPlugin from the Plugins Directory\n",
    "var pluginsDirectoryWriter = Path.Combine(System.IO.Directory.GetCurrentDirectory(), \"SemanticFunctions\", \"WriterPlugin\");\n",
    "\n",
    "var writerPluginFunctions = kernel.ImportPluginFromPromptDirectory(pluginsDirectoryWriter);\n"
   ]
  },
  {
   "cell_type": "markdown",
   "metadata": {},
   "source": [
    "Una que genera historias:\n"
   ]
  },
  {
   "cell_type": "code",
   "execution_count": 19,
   "metadata": {
    "dotnet_interactive": {
     "language": "csharp"
    },
    "polyglot_notebook": {
     "kernelName": "csharp"
    },
    "vscode": {
     "languageId": "polyglot-notebook"
    }
   },
   "outputs": [
    {
     "name": "stdout",
     "output_type": "stream",
     "text": [
      "Había una vez un héroe llamado Ironman 🦾💪🚀, que era conocido por sus increíbles habilidades de combate y su inteligencia. Sin embargo, pocos sabían que Ironman también tenía una pasión secreta: jugar al tenis 🎾.\n",
      "\n",
      "Un día ☀️, Ironman jugaba su partido habitual de tenis solo en un antiguo campo de juego 🏞️. De repente, apareció un formidable contrincante: un robot gigante 🤖 de uno de sus archienemigos. El robot había venido a desafiar a Ironman a un partido de tenis. Ironman, sorprendido pero listo para el desafío, aceptó y comenzaron el partido.\n",
      "\n",
      "En el medio del juego 🎾🏆, Ironman luchaba para mantenerse al día. El robot gigante era muy rápido y preciso, y Ironman estaba perdiendo el control del juego. Pero recordó el espíritu de combate y la dedicación que siempre le habían llevado al éxito en sus batallas. Entonces, se puso su casco de Ironman y decidió darlo todo en la cancha.\n",
      "\n",
      "Finalmente, con gran esfuerzo y coraje, Ironman logró remontar el juego. Con un último y poderoso saque ⚡ que desarmó por completo al robot 🤖, Ironman ganó el partido. Exhausto pero triunfante, Ironman hizo una celebración característica de un súper héroe y se preparó para su siguiente gran desafío, sea en la batalla 🌃 o en el campo de juego 🎾.\n",
      "\n",
      "Así terminó la inusual pero emocionante aventura de Ironman y el tenis, demostrando que incluso los héroes tienen pasatiempos interesantes y pueden ser desafiados en los campos más inesperados. Y, naturalmente, Ironman demostró que, ya sea luchando contra las fuerzas del mal o jugando un partido de tenis, siempre juega para ganar. 💪🏆🎾🦾🚀\r\n"
     ]
    }
   ],
   "source": [
    "var variables = new KernelArguments() {\n",
    "    [\"input\"] = \"Cuenta una historia de tennis\",\n",
    "    [\"hero\"] = \"Ironman\"\n",
    "};\n",
    "\n",
    "var result = await kernel.InvokeAsync(writerPluginFunctions[\"StoryGenSpa\"], variables);\n",
    "Console.WriteLine(result);"
   ]
  },
  {
   "cell_type": "markdown",
   "metadata": {},
   "source": [
    "O incluso para crear mensajes para cuando los héroes 🦸🏻‍♀️ están de vacaciones ✈️🚢🌴:\n"
   ]
  },
  {
   "cell_type": "code",
   "execution_count": 20,
   "metadata": {
    "dotnet_interactive": {
     "language": "csharp"
    },
    "polyglot_notebook": {
     "kernelName": "csharp"
    },
    "vscode": {
     "languageId": "polyglot-notebook"
    }
   },
   "outputs": [
    {
     "name": "stdout",
     "output_type": "stream",
     "text": [
      "Estimados colegas,\n",
      "\n",
      "Como muchos de ustedes ya sabrán, tengo algunas habilidades poco comunes. Sí, soy Hulk 💪🟢, y justo ahora, necesito tomar unas vacaciones para mantener mi \"enfado\" bajo control.\n",
      "\n",
      "Voy a estar fuera de la oficina desde el 24 de diciembre hasta el 5 de enero por las festividades de Navidad 🎄 y el Año Nuevo 🎆. Durante este tiempo, estaré en un lugar secreto, descansando y recargando mis súper fuerzas.\n",
      "\n",
      "Durante mi ausencia, no tendrán que preocuparse. Mi querido amigo Thor ⚡🔨 se quedará a cargo. Con su martillo Mjölnir y su valentía asgardiana, estoy seguro de que será capaz de resolver cualquier problema que pueda surgir.\n",
      "\n",
      "Para cualquier consulta o emergencia, por favor, contacten con Thor en thor@asgard.com. Él estará más que feliz de ayudarles.\n",
      "\n",
      "Finalmente, quiero aprovechar esta oportunidad para desearles a todos una Feliz Navidad 🎅🎁y un próspero Año Nuevo lleno de amor, paz y felicidad.\n",
      "\n",
      "Nos vemos en enero, ¡y recuerden, siempre mantengan la calma! 😉\n",
      "\n",
      "Saludos,\n",
      "\n",
      "Hulk\r\n"
     ]
    }
   ],
   "source": [
    "var variables = new KernelArguments() {\n",
    "    [\"input\"] = \"Crea un OOF para Navidad\",\n",
    "    [\"hero\"] = \"Hulk\"\n",
    "};\n",
    "\n",
    "var result = await kernel.InvokeAsync(writerPluginFunctions[\"OOFSpa\"], variables);\n",
    "Console.WriteLine(result.GetValue<string>());"
   ]
  },
  {
   "cell_type": "markdown",
   "metadata": {},
   "source": [
    "## Funciones Nativas\n",
    "\n",
    "Mientras que las funciones semánticas nos permiten definir y reutilizar prompts, **con las funciones nativas puedes hacer que el kernel semántico llame a funciones escritas en C# o Python**, para tareas que van más allá de una llamada a través de un prompt.\n",
    "\n",
    "<div style=\"text-align:center\">\n",
    "    <img src=\"images/native-function-explainer.png\" width=\"25%\">\n",
    "</div>"
   ]
  },
  {
   "cell_type": "markdown",
   "metadata": {},
   "source": [
    "### ¿Por qué necesito funciones nativas en este tipo de aplicaciones?\n",
    "\n",
    "Los modelos de lenguaje grandes (LLMs) son excelentes para generar texto, pero hay varias tareas que no pueden realizar por sí mismos. Estos incluyen, entre otros:\n",
    "\n",
    "- Recuperar datos de fuentes de datos externas\n",
    "- Saber qué hora es\n",
    "- Realizar operaciones matemáticas complejas\n",
    "- Completar tareas en el mundo real\n",
    "- Memorizar y recordar información\n",
    "\n",
    "Para estos escenarios, y muchos otros, las funciones nativas son muy útiles 👍🏻\n"
   ]
  },
  {
   "cell_type": "markdown",
   "metadata": {},
   "source": [
    "Para este ejemplo, voy a utilizar una API llamada **SuperHero API**, que requiere una clave de API. Puedes obtenerla de su sitio web: [https://superheroapi.com/](https://superheroapi.com/)\n",
    "\n",
    "Una vez que la tengas, pásala al prompt que aparece con la siguiente línea:\n"
   ]
  },
  {
   "cell_type": "code",
   "execution_count": 21,
   "metadata": {
    "dotnet_interactive": {
     "language": "csharp"
    },
    "polyglot_notebook": {
     "kernelName": "csharp"
    },
    "vscode": {
     "languageId": "polyglot-notebook"
    }
   },
   "outputs": [],
   "source": [
    "var superHeroApiKey = (await Microsoft.DotNet.Interactive.Kernel.GetPasswordAsync(\"Give me your Super Hero Api key\")).GetClearTextPassword();"
   ]
  },
  {
   "cell_type": "markdown",
   "metadata": {},
   "source": [
    "Ahora, para cargar una función nativa, debemos agregar esto antes de construir el Kernel.\n",
    "\n",
    "Vamos a crear una nueva clase Super Hero Info y agregarla como un Plugin.\n"
   ]
  },
  {
   "cell_type": "code",
   "execution_count": 22,
   "metadata": {
    "dotnet_interactive": {
     "language": "csharp"
    },
    "polyglot_notebook": {
     "kernelName": "csharp"
    },
    "vscode": {
     "languageId": "polyglot-notebook"
    }
   },
   "outputs": [],
   "source": [
    "#load \"NativeFunctions/HeroInfo.cs\"\n",
    "\n",
    "var heroInfo = new HeroInfo(superHeroApiKey);\n",
    "builder.Plugins.AddFromObject(heroInfo, \"HeroInfo\");\n",
    "Kernel kernel = builder.Build();"
   ]
  },
  {
   "cell_type": "markdown",
   "metadata": {},
   "source": [
    "El constructor ahora puede interactuar con la función local. Hagamos una llamada para obtener el alter ego de un superhéroe.\n",
    "The builder now can interact with the local function. Let's make a call to get the alter ego of a super hero."
   ]
  },
  {
   "cell_type": "code",
   "execution_count": 23,
   "metadata": {
    "dotnet_interactive": {
     "language": "csharp"
    },
    "polyglot_notebook": {
     "kernelName": "csharp"
    },
    "vscode": {
     "languageId": "polyglot-notebook"
    }
   },
   "outputs": [
    {
     "name": "stdout",
     "output_type": "stream",
     "text": [
      "Tony Stark\r\n"
     ]
    }
   ],
   "source": [
    "var kernelArgs = new KernelArguments()\n",
    "{\n",
    "    [\"input\"] = \"Ironman\"\n",
    "};\n",
    "\n",
    "var result = await kernel.InvokeAsync<string>(\"HeroInfo\", \"GetAlterEgo\", kernelArgs);\n",
    "Console.WriteLine(result);"
   ]
  },
  {
   "cell_type": "markdown",
   "metadata": {},
   "source": [
    "En este repositorio, hay otro directorio llamado **NativeFunctions** donde puedes encontrar una clase llamada **HeroInfo.cs**. En ella, hay una función decorada con el atributo **KernelFunction**, que nos permite indicar al Kernel Semántico que es una función nativa y, a través de la propiedad **Description**, también darle información sobre cuál es el propósito de esta función. En este caso, lo que este método nos permite hacer es recuperar el alter ego del superhéroe que pasamos como parámetro, en este ejemplo el de Ironman.\n"
   ]
  },
  {
   "cell_type": "markdown",
   "metadata": {},
   "source": [
    "## Planner (Planificador)\n",
    "\n",
    "Hasta ahora, todos los complementos que has visto se han ejecutado intencionalmente. Es decir, nadie los ha elegido por ti y puedes ejecutarlos según tus necesidades. Sin embargo, esta es la forma de interactuar con **Semantic Kernel** más *estática*. Existe otra opción llamada **Planificador** que te dejará asombrado 😮\n",
    "\n",
    "El Planificador es una función que toma la solicitud del usuario y devuelve un plan sobre cómo llevar a cabo dicha solicitud. Para hacerlo, utiliza la inteligencia artificial para combinar los complementos registrados en el núcleo y recombinarlos en una serie de pasos que completan un objetivo.\n",
    "\n",
    "<div style=\"text-align:center;\">\n",
    "    <img src=\"images/the-planner.png\" width=35% />\n",
    "</div>"
   ]
  },
  {
   "cell_type": "markdown",
   "metadata": {},
   "source": [
    "Para verlo en acción, vamos a utilizar los complementos que ya conoces.\n",
    "\n",
    "Lo primero que necesitas es agregar la referencia nuget al **Planner Handlebars**.\n",
    "\n",
    "Para aprender más sobre este paquete NuGet, puedes visitar [aquí](https://www.nuget.org/packages/Microsoft.SemanticKernel.Planners.Handlebars/1.5.0-preview#show-readme-container).\n"
   ]
  },
  {
   "cell_type": "code",
   "execution_count": 24,
   "metadata": {
    "dotnet_interactive": {
     "language": "csharp"
    },
    "polyglot_notebook": {
     "kernelName": "csharp"
    },
    "vscode": {
     "languageId": "polyglot-notebook"
    }
   },
   "outputs": [
    {
     "data": {
      "text/html": [
       "<div><div></div><div></div><div><strong>Installed Packages</strong><ul><li><span>Microsoft.SemanticKernel.Planners.Handlebars, 1.5.0-preview</span></li></ul></div></div>"
      ]
     },
     "metadata": {},
     "output_type": "display_data"
    }
   ],
   "source": [
    "#r \"nuget: Microsoft.SemanticKernel.Planners.Handlebars, 1.5.0-preview\""
   ]
  },
  {
   "cell_type": "markdown",
   "metadata": {},
   "source": [
    "Ahora estamos listos para crear un planificador.\n"
   ]
  },
  {
   "cell_type": "code",
   "execution_count": 25,
   "metadata": {
    "dotnet_interactive": {
     "language": "csharp"
    },
    "polyglot_notebook": {
     "kernelName": "csharp"
    },
    "vscode": {
     "languageId": "polyglot-notebook"
    }
   },
   "outputs": [],
   "source": [
    "using Microsoft.SemanticKernel.Planning.Handlebars;\n",
    "\n",
    "#pragma warning disable SKEXP0060\n",
    "var planner = new HandlebarsPlanner();\n"
   ]
  },
  {
   "cell_type": "markdown",
   "metadata": {},
   "source": [
    "Existen diferentes tipos como puedes ver [aquí](https://learn.microsoft.com/en-us/semantic-kernel/ai-orchestration/planners/?tabs=Csharp). En este ejemplo, vamos a utilizar el que ejecuta tareas de forma secuencial.\n",
    "\n",
    "Dado que ya tienes todos los complementos cargados en tu instancia de kernel, podemos preguntarle algo como esto:\n"
   ]
  },
  {
   "cell_type": "code",
   "execution_count": 26,
   "metadata": {
    "dotnet_interactive": {
     "language": "csharp"
    },
    "polyglot_notebook": {
     "kernelName": "csharp"
    },
    "vscode": {
     "languageId": "polyglot-notebook"
    }
   },
   "outputs": [
    {
     "name": "stdout",
     "output_type": "stream",
     "text": [
      "Original plan:\n",
      "\n",
      "{{!-- Step 0: Set the joke about Batman --}}\n",
      "{{set \"joke\" \"¿Por qué Batman puso a su coche de remate? ¡Para tener un bat-móvil!\"}}\n",
      "\n",
      "{{!-- Step 1: Set the out of office message template --}}\n",
      "{{set \"officeMessageTemplate\" \"Estoy fuera de la oficina en este momento. Mientras tanto, aquí tienes un chiste para animarte el día: \\n\\n\"}}\n",
      "\n",
      "{{!-- Step 2: Concatenate the message template and the joke --}}\n",
      "{{set \"outOfOfficeMessage\" (concat officeMessageTemplate joke)}}\n",
      "\n",
      "{{!-- Step 3: Print the final out of office message --}}\n",
      "{{json outOfOfficeMessage}}\n"
     ]
    }
   ],
   "source": [
    "using System.Text.Json;\n",
    "\n",
    "var ask = \"Me gustaría que me cuentes un chiste sobre Batman, y con ese chiste, crea un mensaje de fuera de la oficina utilizando la broma.\";\n",
    "#pragma warning disable SKEXP0060\n",
    "var originalPlan = await planner.CreatePlanAsync(kernel, ask);\n",
    "\n",
    "Console.WriteLine(\"Original plan:\\n\");\n",
    "Console.WriteLine(originalPlan);"
   ]
  },
  {
   "cell_type": "markdown",
   "metadata": {},
   "source": [
    "Como puedes ver, el planificador conoce los complementos gracias a la descripción que incluí como parte de su implementación.\n",
    "\n",
    "Es hora de ejecutar el plan y obtener un mensaje de fuera de la oficina para **Batman** que incluye un **chiste malo**.\n"
   ]
  },
  {
   "cell_type": "code",
   "execution_count": 27,
   "metadata": {
    "dotnet_interactive": {
     "language": "csharp"
    },
    "polyglot_notebook": {
     "kernelName": "csharp"
    },
    "vscode": {
     "languageId": "polyglot-notebook"
    }
   },
   "outputs": [
    {
     "name": "stdout",
     "output_type": "stream",
     "text": [
      "Original Plan results:\n",
      "\n",
      "Estoy fuera de la oficina en este momento. Mientras tanto, aquí tienes un chiste para animarte el día: \\n\\n¿Por qué Batman puso a su coche de remate? ¡Para tener un bat-móvil!\n"
     ]
    }
   ],
   "source": [
    "// executing the plan\n",
    "#pragma warning disable SKEXP0060\n",
    "var originalPlanResult = await originalPlan.InvokeAsync(kernel, new KernelArguments());\n",
    "\n",
    "Console.WriteLine(\"Original Plan results:\\n\");\n",
    "Console.WriteLine(originalPlanResult.ToString());"
   ]
  },
  {
   "cell_type": "markdown",
   "metadata": {},
   "source": [
    "### Ejemplos avanzados con Planner\n",
    "\n",
    "El kernel ya tiene los plugins cargados, y la función, veamos si puede resolver un ejemplo más complejo:\n"
   ]
  },
  {
   "cell_type": "code",
   "execution_count": null,
   "metadata": {
    "dotnet_interactive": {
     "language": "csharp"
    },
    "polyglot_notebook": {
     "kernelName": "csharp"
    },
    "vscode": {
     "languageId": "polyglot-notebook"
    }
   },
   "outputs": [],
   "source": [
    "var ask_complex = @\"Me gustaría que averigües el alter ego de IronMan y \n",
    "crees un mensaje de fuera de la oficina para IronMan, firmando con su alter ego.\";\n",
    "\n",
    "#pragma warning disable SKEXP0060\n",
    "var plan_complex = await planner.CreatePlanAsync(kernel, ask_complex);\n",
    "\n",
    "Console.WriteLine(\"Plan:\\n\");\n",
    "Console.WriteLine(plan_complex);"
   ]
  },
  {
   "cell_type": "markdown",
   "metadata": {},
   "source": [
    "Ejecutemos el plan y veamos su salida:\n"
   ]
  },
  {
   "cell_type": "code",
   "execution_count": null,
   "metadata": {
    "dotnet_interactive": {
     "language": "csharp"
    },
    "polyglot_notebook": {
     "kernelName": "csharp"
    },
    "vscode": {
     "languageId": "polyglot-notebook"
    }
   },
   "outputs": [],
   "source": [
    "#pragma warning disable SKEXP0060\n",
    "var complexPlanResult = await plan_complex.InvokeAsync(kernel, new KernelArguments());\n",
    "\n",
    "Console.WriteLine(\"Complex  Plan results:\\n\");\n",
    "Console.WriteLine(complexPlanResult.ToString());"
   ]
  },
  {
   "cell_type": "markdown",
   "metadata": {},
   "source": [
    "## Memoria del Kernel (Kernel Memory)\n",
    "\n",
    "<img src=\"images/How kernel memory works.png\" width=\"80%\" />"
   ]
  },
  {
   "cell_type": "markdown",
   "metadata": {},
   "source": [
    "Para poder utilizar la Memoria del Kernel, necesitas agregar su biblioteca nuget, además de importar la clase que he generado en el directorio **KernelMemory**.\n",
    "\n",
    "Para aprender más sobre la biblioteca de Memoria del Kernel, puedes visitar la [página del paquete NuGet](https://www.nuget.org/packages/Microsoft.SemanticKernel.Plugins.Memory/1.5.0-alpha#show-readme-container).\n"
   ]
  },
  {
   "cell_type": "code",
   "execution_count": null,
   "metadata": {
    "dotnet_interactive": {
     "language": "csharp"
    },
    "polyglot_notebook": {
     "kernelName": "csharp"
    },
    "vscode": {
     "languageId": "polyglot-notebook"
    }
   },
   "outputs": [],
   "source": [
    "#r \"nuget: Microsoft.SemanticKernel.Plugins.Memory, 1.5.0-alpha\"\n",
    "#r \"nuget: System.Linq.Async, 6.0.1\"\n"
   ]
  },
  {
   "cell_type": "markdown",
   "metadata": {},
   "source": [
    "Para utilizar la memoria, necesitamos instanciar el Plugin de Memoria con un Almacenamiento de Memoria y un backend de incrustación. En este ejemplo, hacemos uso de VolatileMemoryStore que puede considerarse como un almacenamiento temporal en memoria (no confundir con la Memoria Semántica).\n",
    "\n",
    "Esta memoria no se escribe en el disco y solo está disponible durante la sesión de la aplicación.\n",
    "\n",
    "Al desarrollar tu aplicación tendrás la opción de conectar un almacenamiento persistente como Azure Cosmos Db, PostgreSQL, SQLite, etc. La Memoria Semántica también permite indexar fuentes de datos externas, sin duplicar toda la información, más sobre eso más adelante.\n"
   ]
  },
  {
   "cell_type": "code",
   "execution_count": null,
   "metadata": {
    "dotnet_interactive": {
     "language": "csharp"
    },
    "polyglot_notebook": {
     "kernelName": "csharp"
    },
    "vscode": {
     "languageId": "polyglot-notebook"
    }
   },
   "outputs": [],
   "source": [
    "using Microsoft.SemanticKernel.Memory;\n",
    "using Microsoft.SemanticKernel.Connectors.OpenAI;\n",
    "\n",
    "// create the memory builder\n",
    "#pragma warning disable SKEXP0003, SKEXP0011, SKEXP0052\n",
    "var memoryBuilder = new MemoryBuilder();\n",
    "\n",
    "// Using OpenAI\n",
    "memoryBuilder.WithOpenAITextEmbeddingGeneration(\"text-embedding-ada-002\", apiKey);\n",
    "\n",
    "// Using Azure OpenAI \n",
    "// memoryBuilder.WithAzureOpenAITextEmbeddingGeneration(\n",
    "//         AzureOpenAI.EmbeddingsModel,\n",
    "//          AzureOpenAI.Endpoint,\n",
    "//         AzureOpenAI.ApiKey,\n",
    "//         \"text-embedding-ada-002\");\n",
    "\n",
    "memoryBuilder.WithMemoryStore(new VolatileMemoryStore());\n",
    "var memory = memoryBuilder.Build();"
   ]
  },
  {
   "cell_type": "markdown",
   "metadata": {},
   "source": [
    "Creemos algunas memorias iniciales \"Fan Facts\". Podemos agregar memorias a nuestro VolatileMemoryStore utilizando SaveInformationAsync:\n"
   ]
  },
  {
   "cell_type": "code",
   "execution_count": null,
   "metadata": {
    "dotnet_interactive": {
     "language": "csharp"
    },
    "polyglot_notebook": {
     "kernelName": "csharp"
    },
    "vscode": {
     "languageId": "polyglot-notebook"
    }
   },
   "outputs": [],
   "source": [
    "// add fan facts to the collection\n",
    "const string MemoryCollectionName = \"fanFacts\";\n",
    "\n",
    "await memory.SaveInformationAsync(MemoryCollectionName, id: \"info1\", text: \"Gisela's favourite super hero is Batman\");\n",
    "await memory.SaveInformationAsync(MemoryCollectionName, id: \"info2\", text: \"The last super hero movie watched by Gisela was Guardians of the Galaxy Vol 3\");\n",
    "await memory.SaveInformationAsync(MemoryCollectionName, id: \"info3\", text: \"Bruno's favourite super hero is Invincible\");\n",
    "await memory.SaveInformationAsync(MemoryCollectionName, id: \"info4\", text: \"The last super hero movie watched by Bruno was Aquaman II\");\n",
    "await memory.SaveInformationAsync(MemoryCollectionName, id: \"info5\", text: \"Bruno don't like the super hero movie: Eternals\");"
   ]
  },
  {
   "cell_type": "markdown",
   "metadata": {},
   "source": [
    "Y ahora podemos probar y buscar en la memoria:"
   ]
  },
  {
   "cell_type": "code",
   "execution_count": null,
   "metadata": {
    "dotnet_interactive": {
     "language": "csharp"
    },
    "polyglot_notebook": {
     "kernelName": "csharp"
    },
    "vscode": {
     "languageId": "polyglot-notebook"
    }
   },
   "outputs": [],
   "source": [
    "var questions = new[]\n",
    "{\n",
    "    \"what is Bruno's favourite super hero?\",\n",
    "    \"what was the last movie watched by Gisela?\",\n",
    "    \"Which is the prefered super hero for Gisela?\",\n",
    "    \"Did Bruno watched a super hero movie in the past, which was the last one?\"\n",
    "};\n",
    "\n",
    "foreach (var q in questions)\n",
    "{\n",
    "    var response = await memory.SearchAsync(MemoryCollectionName, q).FirstOrDefaultAsync();\n",
    "    Console.WriteLine(q + \" \" + response?.Metadata.Text);\n",
    "}\n"
   ]
  }
 ],
 "metadata": {
  "kernelspec": {
   "display_name": ".NET (C#)",
   "language": "C#",
   "name": ".net-csharp"
  },
  "language_info": {
   "name": "python"
  },
  "polyglot_notebook": {
   "kernelInfo": {
    "defaultKernelName": "csharp",
    "items": [
     {
      "aliases": [],
      "name": "csharp"
     }
    ]
   }
  }
 },
 "nbformat": 4,
 "nbformat_minor": 2
}
